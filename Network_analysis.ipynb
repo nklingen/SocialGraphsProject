{
 "cells": [
  {
   "cell_type": "markdown",
   "metadata": {},
   "source": [
    "# NETWORK ANALYSIS"
   ]
  },
  {
   "cell_type": "code",
   "execution_count": 5,
   "metadata": {},
   "outputs": [],
   "source": [
    "import networkx as nx\n",
    "import pandas as pd\n",
    "from fa2 import ForceAtlas2\n",
    "import numpy as np\n",
    "import matplotlib.pyplot as plt\n",
    "import seaborn as sns"
   ]
  },
  {
   "cell_type": "markdown",
   "metadata": {},
   "source": [
    "### <font color=\"lightblue\">Modelling the Network</font>"
   ]
  },
  {
   "cell_type": "code",
   "execution_count": 6,
   "metadata": {},
   "outputs": [],
   "source": [
    "df_filepath = \"Data/dataframe_characters_exploded.csv\"\n",
    "df = pd.read_csv(df_filepath)\n",
    "\n",
    "df.rename(columns={'Unnamed: 0': 'index'}, inplace=True)"
   ]
  },
  {
   "cell_type": "code",
   "execution_count": 7,
   "metadata": {},
   "outputs": [
    {
     "data": {
      "text/html": [
       "<div>\n",
       "<style scoped>\n",
       "    .dataframe tbody tr th:only-of-type {\n",
       "        vertical-align: middle;\n",
       "    }\n",
       "\n",
       "    .dataframe tbody tr th {\n",
       "        vertical-align: top;\n",
       "    }\n",
       "\n",
       "    .dataframe thead th {\n",
       "        text-align: right;\n",
       "    }\n",
       "</style>\n",
       "<table border=\"1\" class=\"dataframe\">\n",
       "  <thead>\n",
       "    <tr style=\"text-align: right;\">\n",
       "      <th></th>\n",
       "      <th>index</th>\n",
       "      <th>Category</th>\n",
       "      <th>Links</th>\n",
       "      <th>Seasons</th>\n",
       "    </tr>\n",
       "  </thead>\n",
       "  <tbody>\n",
       "    <tr>\n",
       "      <th>0</th>\n",
       "      <td>Andy Bernard</td>\n",
       "      <td>Main_Characters</td>\n",
       "      <td>Erin Hannon</td>\n",
       "      <td>[3, 4, 5, 6, 7, 8, 9]</td>\n",
       "    </tr>\n",
       "    <tr>\n",
       "      <th>1</th>\n",
       "      <td>Andy Bernard</td>\n",
       "      <td>Main_Characters</td>\n",
       "      <td>Angela Martin</td>\n",
       "      <td>[3, 4, 5, 6, 7, 8, 9]</td>\n",
       "    </tr>\n",
       "    <tr>\n",
       "      <th>2</th>\n",
       "      <td>Andy Bernard</td>\n",
       "      <td>Main_Characters</td>\n",
       "      <td>Unnamed Cousin</td>\n",
       "      <td>[3, 4, 5, 6, 7, 8, 9]</td>\n",
       "    </tr>\n",
       "    <tr>\n",
       "      <th>3</th>\n",
       "      <td>Andy Bernard</td>\n",
       "      <td>Main_Characters</td>\n",
       "      <td>Walter Bernard Jr.</td>\n",
       "      <td>[3, 4, 5, 6, 7, 8, 9]</td>\n",
       "    </tr>\n",
       "    <tr>\n",
       "      <th>4</th>\n",
       "      <td>Andy Bernard</td>\n",
       "      <td>Main_Characters</td>\n",
       "      <td>Walter Bernard Sr.</td>\n",
       "      <td>[3, 4, 5, 6, 7, 8, 9]</td>\n",
       "    </tr>\n",
       "    <tr>\n",
       "      <th>...</th>\n",
       "      <td>...</td>\n",
       "      <td>...</td>\n",
       "      <td>...</td>\n",
       "      <td>...</td>\n",
       "    </tr>\n",
       "    <tr>\n",
       "      <th>944</th>\n",
       "      <td>W.B. Jones</td>\n",
       "      <td>Other</td>\n",
       "      <td>Kevin Malone</td>\n",
       "      <td>[]</td>\n",
       "    </tr>\n",
       "    <tr>\n",
       "      <th>945</th>\n",
       "      <td>W.B. Jones</td>\n",
       "      <td>Other</td>\n",
       "      <td>Andy Bernard</td>\n",
       "      <td>[]</td>\n",
       "    </tr>\n",
       "    <tr>\n",
       "      <th>946</th>\n",
       "      <td>Wally Amos</td>\n",
       "      <td>Other</td>\n",
       "      <td>NaN</td>\n",
       "      <td>[]</td>\n",
       "    </tr>\n",
       "    <tr>\n",
       "      <th>947</th>\n",
       "      <td>Wesley Silver</td>\n",
       "      <td>Other</td>\n",
       "      <td>Robert Lipton</td>\n",
       "      <td>[9]</td>\n",
       "    </tr>\n",
       "    <tr>\n",
       "      <th>948</th>\n",
       "      <td>Wesley Silver</td>\n",
       "      <td>Other</td>\n",
       "      <td>Robert Lipton</td>\n",
       "      <td>[9]</td>\n",
       "    </tr>\n",
       "  </tbody>\n",
       "</table>\n",
       "<p>949 rows × 4 columns</p>\n",
       "</div>"
      ],
      "text/plain": [
       "             index         Category               Links                Seasons\n",
       "0     Andy Bernard  Main_Characters         Erin Hannon  [3, 4, 5, 6, 7, 8, 9]\n",
       "1     Andy Bernard  Main_Characters       Angela Martin  [3, 4, 5, 6, 7, 8, 9]\n",
       "2     Andy Bernard  Main_Characters      Unnamed Cousin  [3, 4, 5, 6, 7, 8, 9]\n",
       "3     Andy Bernard  Main_Characters  Walter Bernard Jr.  [3, 4, 5, 6, 7, 8, 9]\n",
       "4     Andy Bernard  Main_Characters  Walter Bernard Sr.  [3, 4, 5, 6, 7, 8, 9]\n",
       "..             ...              ...                 ...                    ...\n",
       "944     W.B. Jones            Other        Kevin Malone                     []\n",
       "945     W.B. Jones            Other        Andy Bernard                     []\n",
       "946     Wally Amos            Other                 NaN                     []\n",
       "947  Wesley Silver            Other       Robert Lipton                    [9]\n",
       "948  Wesley Silver            Other       Robert Lipton                    [9]\n",
       "\n",
       "[949 rows x 4 columns]"
      ]
     },
     "execution_count": 7,
     "metadata": {},
     "output_type": "execute_result"
    }
   ],
   "source": [
    "df"
   ]
  },
  {
   "cell_type": "code",
   "execution_count": 8,
   "metadata": {},
   "outputs": [],
   "source": [
    "G = nx.from_pandas_edgelist(df=df, source='index', target='Links', create_using=nx.DiGraph())\n",
    "G.remove_node(np.nan)"
   ]
  },
  {
   "cell_type": "markdown",
   "metadata": {},
   "source": [
    "We can then use the <code>.from_pandas_edgelist()</code> function creates a directional graph with 'index' as nodes and 'Links' defining edges."
   ]
  },
  {
   "cell_type": "markdown",
   "metadata": {},
   "source": [
    "We only care about the \"central network\", i.e. external characters that have no relations to the main characters/plot are not relevant for our analysis. We remove them by finding the giant connected component."
   ]
  },
  {
   "cell_type": "code",
   "execution_count": 9,
   "metadata": {},
   "outputs": [
    {
     "name": "stdout",
     "output_type": "stream",
     "text": [
      "74 nodes removed\n"
     ]
    }
   ],
   "source": [
    "GCC = G.subgraph(sorted(nx.weakly_connected_components(G), key=len, reverse=True)[0])\n",
    "print(f\"{len(G.nodes()) - len(GCC.nodes)} nodes removed\")\n"
   ]
  },
  {
   "cell_type": "code",
   "execution_count": 10,
   "metadata": {},
   "outputs": [
    {
     "name": "stdout",
     "output_type": "stream",
     "text": [
      "Nodes in the network: 221\n",
      "Number of links in the network: 689\n"
     ]
    }
   ],
   "source": [
    "print(f\"Nodes in the network: {GCC.number_of_nodes()}\")\n",
    "print(f\"Number of links in the network: {GCC.number_of_edges()}\")"
   ]
  },
  {
   "cell_type": "code",
   "execution_count": 11,
   "metadata": {},
   "outputs": [
    {
     "name": "stdout",
     "output_type": "stream",
     "text": [
      "The top connected character in The Office is Michael Scott with 74 in/out-degrees\n",
      "The character most referenced in other pages in The Office is Michael Scott with 47 in-degrees\n",
      "The character with most references on its page to other characters in The Office is Andy Bernard with 29 out-degrees\n"
     ]
    }
   ],
   "source": [
    "top_connected = sorted(GCC.degree, key=lambda x: x[1], reverse=True)[:1]\n",
    "top_in = sorted(GCC.in_degree, key=lambda x: x[1], reverse=True)[:1]\n",
    "top_out = sorted(GCC.out_degree, key=lambda x: x[1], reverse=True)[:15]\n",
    "\n",
    "print(\"The top connected character in The Office is {} with {} in/out-degrees\".format(top_connected[0][0], top_connected[0][1]))\n",
    "print(\"The character most referenced in other pages in The Office is {} with {} in-degrees\".format(top_in[0][0], top_in[0][1]))\n",
    "print(\"The character with most references on its page to other characters in The Office is {} with {} out-degrees\".format(top_out[0][0], top_out[0][1]))"
   ]
  },
  {
   "cell_type": "code",
   "execution_count": 12,
   "metadata": {},
   "outputs": [
    {
     "name": "stderr",
     "output_type": "stream",
     "text": [
      "C:\\Users\\blanc\\Anaconda3\\lib\\site-packages\\seaborn\\_decorators.py:36: FutureWarning: Pass the following variable as a keyword arg: x. From version 0.12, the only valid positional argument will be `data`, and passing other arguments without an explicit keyword will result in an error or misinterpretation.\n",
      "  warnings.warn(\n",
      "C:\\Users\\blanc\\Anaconda3\\lib\\site-packages\\seaborn\\_decorators.py:36: FutureWarning: Pass the following variable as a keyword arg: x. From version 0.12, the only valid positional argument will be `data`, and passing other arguments without an explicit keyword will result in an error or misinterpretation.\n",
      "  warnings.warn(\n"
     ]
    },
    {
     "data": {
      "text/plain": [
       "Text(0.5, 0, '# of outgoing edges')"
      ]
     },
     "execution_count": 12,
     "metadata": {},
     "output_type": "execute_result"
    },
    {
     "data": {
      "image/png": "[encoded data removed]",
      "text/plain": [
       "<Figure size 1800x504 with 2 Axes>"
      ]
     },
     "metadata": {
      "needs_background": "light"
     },
     "output_type": "display_data"
    }
   ],
   "source": [
    "fig, axs = plt.subplots(1, 2)\n",
    "fig.set_size_inches(25,7)\n",
    "\n",
    "\n",
    "sns.countplot(list(dict(GCC.in_degree).values()), ax=axs[0])\n",
    "axs[0].set_title(\"Distribution of nodes by ingoing degree\")\n",
    "axs[0].set_xlabel(\"# of ingoing edges\")\n",
    "\n",
    "sns.countplot(list(dict(GCC.out_degree).values()), ax=axs[1])\n",
    "axs[1].set_title(\"Distribution of nodes by outgoing degree\")\n",
    "axs[1].set_xlabel(\"# of outgoing edges\")"
   ]
  },
  {
   "cell_type": "code",
   "execution_count": 23,
   "metadata": {},
   "outputs": [],
   "source": [
    "# We convert to an undirected network\n",
    "undirected_G = GCC.to_undirected()\n",
    "\n",
    "# We remove self-loops \n",
    "undirected_G.remove_edges_from(nx.selfloop_edges(undirected_G))\n",
    "\n",
    "undirected_G.remove_node(\"Mentioned characters\")"
   ]
  },
  {
   "cell_type": "code",
   "execution_count": 14,
   "metadata": {},
   "outputs": [],
   "source": [
    "characters = list(df['index'])\n",
    "categories = list(df['Category'])\n",
    "characters_categories_dict = dict(zip(characters, categories))\n",
    "\n",
    "nx.set_node_attributes(GCC, characters_categories_dict, \"Category\")\n",
    "nx.set_node_attributes(undirected_G, characters_categories_dict, \"Category\")"
   ]
  },
  {
   "cell_type": "code",
   "execution_count": 15,
   "metadata": {},
   "outputs": [
    {
     "name": "stdout",
     "output_type": "stream",
     "text": [
      "[('Andy Bernard', {'Category': 'Main_Characters'}), ('Erin Hannon', {'Category': 'Main_Characters'}), ('Angela Martin', {'Category': 'Main_Characters'}), ('Unnamed Cousin', {'Category': 'Other'}), ('Walter Bernard Jr.', {'Category': 'Family_members'})]\n"
     ]
    }
   ],
   "source": [
    "print([(x,y) for x,y in GCC.nodes(data=True)][:5])"
   ]
  },
  {
   "cell_type": "code",
   "execution_count": 16,
   "metadata": {},
   "outputs": [],
   "source": [
    "# We define a color map for the roles\n",
    "color_map = {'Main_Characters':'blue', 'Warehouse_worker':'black', 'Former_employees':'purple', 'Family_members':'red', \"Other\":'black', \"Dunder_Mifflin_employees\":\"green\", \"Animals\":\"black\", \"Characters_of_Michael_Scott\":\"black\", \"Threat_Level_Midnight_Characters\":\"black\", \"Characters_of_Dwight_Schrute\":\"black\", \"The_3rd_Floor_Characters\":\"black\", \"Unseen_Characters\":\"black\", \"Unnamed\":\"black\"}"
   ]
  },
  {
   "cell_type": "code",
   "execution_count": 24,
   "metadata": {},
   "outputs": [],
   "source": [
    "colors = [color_map[undirected_G.nodes(data=True)[node]['Category']] for node in undirected_G.nodes()]"
   ]
  },
  {
   "cell_type": "code",
   "execution_count": null,
   "metadata": {},
   "outputs": [
    {
     "name": "stderr",
     "output_type": "stream",
     "text": [
      " 51%|███████████████████████████████████████▏                                     | 2545/5000 [00:04<00:04, 503.79it/s]"
     ]
    }
   ],
   "source": [
    "# We run Force Atlas 2 to get positions for the nodes\n",
    "\n",
    "forceatlas2 = ForceAtlas2(\n",
    "    # Behavior alternatives\n",
    "    outboundAttractionDistribution=True,  # Dissuade hubs\n",
    "    linLogMode=False,  # NOT IMPLEMENTED\n",
    "    adjustSizes=False,  # Prevent overlap (NOT IMPLEMENTED)\n",
    "    edgeWeightInfluence=1.0,\n",
    "\n",
    "    # Performance\n",
    "    jitterTolerance=1.0,  # Tolerance\n",
    "    barnesHutOptimize=True,\n",
    "    barnesHutTheta=1.2,\n",
    "    multiThreaded=False,  # NOT IMPLEMENTED\n",
    "\n",
    "    # Tuning\n",
    "    scalingRatio=5.0,\n",
    "    strongGravityMode=False,\n",
    "    gravity=1.0,\n",
    "\n",
    "    # Log\n",
    "    verbose=True)\n",
    "\n",
    "positions = forceatlas2.forceatlas2_networkx_layout(undirected_G, pos=None, iterations=5000)"
   ]
  },
  {
   "cell_type": "code",
   "execution_count": null,
   "metadata": {},
   "outputs": [],
   "source": [
    "plt.figure(figsize=(15, 15))\n",
    "plt.title(\"Force Atlas Representation of The Office network, with nodes colored by role\", c='black',  y=1.0, pad=-20)\n",
    "d = dict(undirected_G.degree)\n",
    "nx.draw_networkx(undirected_G, positions, nodelist=list(d.keys()), node_size=[v*5 for v in d.values()], node_color = colors, with_labels=False, edge_color='grey')"
   ]
  },
  {
   "cell_type": "code",
   "execution_count": null,
   "metadata": {},
   "outputs": [],
   "source": []
  }
 ],
 "metadata": {
  "kernelspec": {
   "display_name": "Python 3",
   "language": "python",
   "name": "python3"
  },
  "language_info": {
   "codemirror_mode": {
    "name": "ipython",
    "version": 3
   },
   "file_extension": ".py",
   "mimetype": "text/x-python",
   "name": "python",
   "nbconvert_exporter": "python",
   "pygments_lexer": "ipython3",
   "version": "3.8.5"
  }
 },
 "nbformat": 4,
 "nbformat_minor": 4
}
