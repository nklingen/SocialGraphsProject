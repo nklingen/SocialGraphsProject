{
 "cells": [
  {
   "cell_type": "markdown",
   "metadata": {},
   "source": [
    "# NETWORK ANALYSIS"
   ]
  },
  {
   "cell_type": "code",
   "execution_count": 1,
   "metadata": {},
   "outputs": [],
   "source": [
    "import networkx as nx\n",
    "import pandas as pd\n",
    "from fa2 import ForceAtlas2\n",
    "import numpy as np\n",
    "import matplotlib.pyplot as plt\n",
    "import seaborn as sns"
   ]
  },
  {
   "cell_type": "markdown",
   "metadata": {},
   "source": [
    "### <font color=\"lightblue\">Modelling the Network</font>"
   ]
  },
  {
   "cell_type": "code",
   "execution_count": 2,
   "metadata": {},
   "outputs": [],
   "source": [
    "df_filepath = \"Data/dataframe_characters.csv\"\n",
    "df = pd.read_csv(df_filepath)"
   ]
  },
  {
   "cell_type": "code",
   "execution_count": 3,
   "metadata": {},
   "outputs": [],
   "source": [
    "df.rename(columns={'Unnamed: 0': 'index'}, inplace=True)"
   ]
  },
  {
   "cell_type": "markdown",
   "metadata": {},
   "source": [
    "Each character is one row with a list of links to other characters. This we will expand into new rows for each relationship between the character and its links. This can be done using <code>df.explode()</code>"
   ]
  },
  {
   "cell_type": "code",
   "execution_count": 4,
   "metadata": {},
   "outputs": [
    {
     "data": {
      "text/html": [
       "<div>\n",
       "<style scoped>\n",
       "    .dataframe tbody tr th:only-of-type {\n",
       "        vertical-align: middle;\n",
       "    }\n",
       "\n",
       "    .dataframe tbody tr th {\n",
       "        vertical-align: top;\n",
       "    }\n",
       "\n",
       "    .dataframe thead th {\n",
       "        text-align: right;\n",
       "    }\n",
       "</style>\n",
       "<table border=\"1\" class=\"dataframe\">\n",
       "  <thead>\n",
       "    <tr style=\"text-align: right;\">\n",
       "      <th></th>\n",
       "      <th>index</th>\n",
       "      <th>Category</th>\n",
       "      <th>Links</th>\n",
       "      <th>Seasons</th>\n",
       "    </tr>\n",
       "  </thead>\n",
       "  <tbody>\n",
       "    <tr>\n",
       "      <th>0</th>\n",
       "      <td>Andy Bernard</td>\n",
       "      <td>Main_Characters</td>\n",
       "      <td>['Erin Hannon', 'Angela Martin', 'Unnamed Cous...</td>\n",
       "      <td>[3, 4, 5, 6, 7, 8, 9]</td>\n",
       "    </tr>\n",
       "    <tr>\n",
       "      <th>1</th>\n",
       "      <td>Angela Martin</td>\n",
       "      <td>Main_Characters</td>\n",
       "      <td>['Dwight Schrute', 'Robert Lipton', 'Andy Bern...</td>\n",
       "      <td>[1, 2, 3, 4, 5, 6, 7, 8, 9]</td>\n",
       "    </tr>\n",
       "    <tr>\n",
       "      <th>2</th>\n",
       "      <td>Clark Green</td>\n",
       "      <td>Main_Characters</td>\n",
       "      <td>['Pete Miller', 'Kelly Kapoor', 'David Wallace...</td>\n",
       "      <td>[9]</td>\n",
       "    </tr>\n",
       "    <tr>\n",
       "      <th>3</th>\n",
       "      <td>Creed Bratton</td>\n",
       "      <td>Main_Characters</td>\n",
       "      <td>['Creed Bratton', 'Michael Scott', 'Hannah Smo...</td>\n",
       "      <td>[1, 2, 3, 4, 5, 6, 7, 8, 9]</td>\n",
       "    </tr>\n",
       "    <tr>\n",
       "      <th>4</th>\n",
       "      <td>Darryl Philbin</td>\n",
       "      <td>Main_Characters</td>\n",
       "      <td>['Kelly Kapoor', 'Val Johnson', 'Jada Philbin'...</td>\n",
       "      <td>[1, 2, 3, 4, 5, 6, 7, 8, 9]</td>\n",
       "    </tr>\n",
       "    <tr>\n",
       "      <th>...</th>\n",
       "      <td>...</td>\n",
       "      <td>...</td>\n",
       "      <td>...</td>\n",
       "      <td>...</td>\n",
       "    </tr>\n",
       "    <tr>\n",
       "      <th>289</th>\n",
       "      <td>Unnamed Cousin</td>\n",
       "      <td>Other</td>\n",
       "      <td>[]</td>\n",
       "      <td>[]</td>\n",
       "    </tr>\n",
       "    <tr>\n",
       "      <th>290</th>\n",
       "      <td>Vikram</td>\n",
       "      <td>Other</td>\n",
       "      <td>[]</td>\n",
       "      <td>[]</td>\n",
       "    </tr>\n",
       "    <tr>\n",
       "      <th>291</th>\n",
       "      <td>W.B. Jones</td>\n",
       "      <td>Other</td>\n",
       "      <td>['Kevin Malone', 'Andy Bernard']</td>\n",
       "      <td>[]</td>\n",
       "    </tr>\n",
       "    <tr>\n",
       "      <th>292</th>\n",
       "      <td>Wally Amos</td>\n",
       "      <td>Other</td>\n",
       "      <td>[]</td>\n",
       "      <td>[]</td>\n",
       "    </tr>\n",
       "    <tr>\n",
       "      <th>293</th>\n",
       "      <td>Wesley Silver</td>\n",
       "      <td>Other</td>\n",
       "      <td>['Robert Lipton', 'Robert Lipton']</td>\n",
       "      <td>[9]</td>\n",
       "    </tr>\n",
       "  </tbody>\n",
       "</table>\n",
       "<p>294 rows × 4 columns</p>\n",
       "</div>"
      ],
      "text/plain": [
       "              index         Category  \\\n",
       "0      Andy Bernard  Main_Characters   \n",
       "1     Angela Martin  Main_Characters   \n",
       "2       Clark Green  Main_Characters   \n",
       "3     Creed Bratton  Main_Characters   \n",
       "4    Darryl Philbin  Main_Characters   \n",
       "..              ...              ...   \n",
       "289  Unnamed Cousin            Other   \n",
       "290          Vikram            Other   \n",
       "291      W.B. Jones            Other   \n",
       "292      Wally Amos            Other   \n",
       "293   Wesley Silver            Other   \n",
       "\n",
       "                                                 Links  \\\n",
       "0    ['Erin Hannon', 'Angela Martin', 'Unnamed Cous...   \n",
       "1    ['Dwight Schrute', 'Robert Lipton', 'Andy Bern...   \n",
       "2    ['Pete Miller', 'Kelly Kapoor', 'David Wallace...   \n",
       "3    ['Creed Bratton', 'Michael Scott', 'Hannah Smo...   \n",
       "4    ['Kelly Kapoor', 'Val Johnson', 'Jada Philbin'...   \n",
       "..                                                 ...   \n",
       "289                                                 []   \n",
       "290                                                 []   \n",
       "291                   ['Kevin Malone', 'Andy Bernard']   \n",
       "292                                                 []   \n",
       "293                 ['Robert Lipton', 'Robert Lipton']   \n",
       "\n",
       "                         Seasons  \n",
       "0          [3, 4, 5, 6, 7, 8, 9]  \n",
       "1    [1, 2, 3, 4, 5, 6, 7, 8, 9]  \n",
       "2                            [9]  \n",
       "3    [1, 2, 3, 4, 5, 6, 7, 8, 9]  \n",
       "4    [1, 2, 3, 4, 5, 6, 7, 8, 9]  \n",
       "..                           ...  \n",
       "289                           []  \n",
       "290                           []  \n",
       "291                           []  \n",
       "292                           []  \n",
       "293                          [9]  \n",
       "\n",
       "[294 rows x 4 columns]"
      ]
     },
     "execution_count": 4,
     "metadata": {},
     "output_type": "execute_result"
    }
   ],
   "source": [
    "df_exploded = df.explode(\"Links\")\n",
    "df_exploded"
   ]
  },
  {
   "cell_type": "code",
   "execution_count": 6,
   "metadata": {},
   "outputs": [],
   "source": [
    "G = nx.from_pandas_edgelist(df=df_exploded, source='index', target='Links', create_using=nx.DiGraph())\n",
    "#G.remove_node(np.nan)"
   ]
  },
  {
   "cell_type": "markdown",
   "metadata": {},
   "source": [
    "We can then use the <code>.from_pandas_edgelist()</code> function creates a directional graph with 'index' as nodes and 'Links' defining edges."
   ]
  },
  {
   "cell_type": "markdown",
   "metadata": {},
   "source": [
    "We only care about the \"central network\", i.e. external characters that have no relations to the main characters/plot are not relevant for our analysis. We remove them by finding the giant connected component."
   ]
  },
  {
   "cell_type": "code",
   "execution_count": 7,
   "metadata": {},
   "outputs": [
    {
     "name": "stdout",
     "output_type": "stream",
     "text": [
      "388 nodes removed\n"
     ]
    }
   ],
   "source": [
    "GCC = G.subgraph(sorted(nx.weakly_connected_components(G), key=len, reverse=True)[0])\n",
    "print(f\"{len(G.nodes()) - len(GCC.nodes)} nodes removed\")\n"
   ]
  },
  {
   "cell_type": "code",
   "execution_count": 8,
   "metadata": {},
   "outputs": [
    {
     "name": "stdout",
     "output_type": "stream",
     "text": [
      "Nodes in the network: 84\n",
      "Number of links in the network: 83\n"
     ]
    }
   ],
   "source": [
    "print(f\"Nodes in the network: {GCC.number_of_nodes()}\")\n",
    "print(f\"Number of links in the network: {GCC.number_of_edges()}\")"
   ]
  },
  {
   "cell_type": "code",
   "execution_count": 9,
   "metadata": {},
   "outputs": [
    {
     "name": "stdout",
     "output_type": "stream",
     "text": [
      "The top connected character in The Office is [] with 83 in/out-degrees\n",
      "The character most referenced in other pages in The Office is [] with 83 in-degrees\n",
      "The character with most references on its page to other characters in The Office is Mr. Flax with 1 out-degrees\n"
     ]
    }
   ],
   "source": [
    "top_connected = sorted(GCC.degree, key=lambda x: x[1], reverse=True)[:1]\n",
    "top_in = sorted(GCC.in_degree, key=lambda x: x[1], reverse=True)[:1]\n",
    "top_out = sorted(GCC.out_degree, key=lambda x: x[1], reverse=True)[:15]\n",
    "\n",
    "print(\"The top connected character in The Office is {} with {} in/out-degrees\".format(top_connected[0][0], top_connected[0][1]))\n",
    "print(\"The character most referenced in other pages in The Office is {} with {} in-degrees\".format(top_in[0][0], top_in[0][1]))\n",
    "print(\"The character with most references on its page to other characters in The Office is {} with {} out-degrees\".format(top_out[0][0], top_out[0][1]))"
   ]
  },
  {
   "cell_type": "code",
   "execution_count": 10,
   "metadata": {},
   "outputs": [
    {
     "name": "stderr",
     "output_type": "stream",
     "text": [
      "C:\\Users\\blanc\\Anaconda3\\lib\\site-packages\\seaborn\\_decorators.py:36: FutureWarning: Pass the following variable as a keyword arg: x. From version 0.12, the only valid positional argument will be `data`, and passing other arguments without an explicit keyword will result in an error or misinterpretation.\n",
      "  warnings.warn(\n",
      "C:\\Users\\blanc\\Anaconda3\\lib\\site-packages\\seaborn\\_decorators.py:36: FutureWarning: Pass the following variable as a keyword arg: x. From version 0.12, the only valid positional argument will be `data`, and passing other arguments without an explicit keyword will result in an error or misinterpretation.\n",
      "  warnings.warn(\n"
     ]
    },
    {
     "data": {
      "text/plain": [
       "Text(0.5, 0, '# of outgoing edges')"
      ]
     },
     "execution_count": 10,
     "metadata": {},
     "output_type": "execute_result"
    },
    {
     "data": {
      "image/png": "[encoded data removed]",
      "text/plain": [
       "<Figure size 1800x504 with 2 Axes>"
      ]
     },
     "metadata": {
      "needs_background": "light"
     },
     "output_type": "display_data"
    }
   ],
   "source": [
    "fig, axs = plt.subplots(1, 2)\n",
    "fig.set_size_inches(25,7)\n",
    "\n",
    "\n",
    "sns.countplot(list(dict(GCC.in_degree).values()), ax=axs[0])\n",
    "axs[0].set_title(\"Distribution of nodes by ingoing degree\")\n",
    "axs[0].set_xlabel(\"# of ingoing edges\")\n",
    "\n",
    "sns.countplot(list(dict(GCC.out_degree).values()), ax=axs[1])\n",
    "axs[1].set_title(\"Distribution of nodes by outgoing degree\")\n",
    "axs[1].set_xlabel(\"# of outgoing edges\")"
   ]
  },
  {
   "cell_type": "code",
   "execution_count": 11,
   "metadata": {},
   "outputs": [],
   "source": [
    "# We convert to an undirected network\n",
    "undirected_G = GCC.to_undirected()\n",
    "\n",
    "# We remove self-loops \n",
    "undirected_G.remove_edges_from(nx.selfloop_edges(undirected_G))"
   ]
  },
  {
   "cell_type": "code",
   "execution_count": 12,
   "metadata": {},
   "outputs": [],
   "source": [
    "characters = list(df['index'])\n",
    "categories = list(df['Category'])\n",
    "characters_categories_dict = dict(zip(characters, categories))\n",
    "\n",
    "nx.set_node_attributes(GCC, characters_categories_dict, \"Category\")\n"
   ]
  },
  {
   "cell_type": "code",
   "execution_count": 13,
   "metadata": {},
   "outputs": [
    {
     "name": "stdout",
     "output_type": "stream",
     "text": [
      "[('Mr. Flax', {'Category': 'Family_members'}), ('Billy Merchant', {'Category': 'Other'}), ('Hank Doyle', {'Category': 'Dunder_Mifflin_employees'}), ('Jack', {'Category': 'Other'}), ('Diane Kelly', {'Category': 'Dunder_Mifflin_employees'})]\n"
     ]
    }
   ],
   "source": [
    "print([(x,y) for x,y in GCC.nodes(data=True)][:5])"
   ]
  },
  {
   "cell_type": "code",
   "execution_count": 14,
   "metadata": {},
   "outputs": [],
   "source": [
    "# We define a color map for the roles\n",
    "color_map = {'Main_Characters':'blue', 'Warehouse_worker':'black', 'Former_employees':'purple', 'Family_members':'red', \"Other\":'black', \"Dunder_Mifflin_employees\":\"green\", \"Animals\":\"black\", \"Characters_of_Michael_Scott\":\"black\", \"Threat_Level_Midnight_Characters\":\"black\", \"Characters_of_Dwight_Schrute\":\"black\", \"The_3rd_Floor_Characters\":\"black\", \"Unseen_Characters\":\"black\", \"Unnamed\":\"black\"}"
   ]
  },
  {
   "cell_type": "code",
   "execution_count": 15,
   "metadata": {},
   "outputs": [
    {
     "ename": "KeyError",
     "evalue": "'Category'",
     "output_type": "error",
     "traceback": [
      "\u001b[1;31m---------------------------------------------------------------------------\u001b[0m",
      "\u001b[1;31mKeyError\u001b[0m                                  Traceback (most recent call last)",
      "\u001b[1;32m<ipython-input-15-2c819aeea0e6>\u001b[0m in \u001b[0;36m<module>\u001b[1;34m\u001b[0m\n\u001b[1;32m----> 1\u001b[1;33m \u001b[0mcolors\u001b[0m \u001b[1;33m=\u001b[0m \u001b[1;33m[\u001b[0m\u001b[0mcolor_map\u001b[0m\u001b[1;33m[\u001b[0m\u001b[0mundirected_G\u001b[0m\u001b[1;33m.\u001b[0m\u001b[0mnodes\u001b[0m\u001b[1;33m(\u001b[0m\u001b[0mdata\u001b[0m\u001b[1;33m=\u001b[0m\u001b[1;32mTrue\u001b[0m\u001b[1;33m)\u001b[0m\u001b[1;33m[\u001b[0m\u001b[0mnode\u001b[0m\u001b[1;33m]\u001b[0m\u001b[1;33m[\u001b[0m\u001b[1;34m'Category'\u001b[0m\u001b[1;33m]\u001b[0m\u001b[1;33m]\u001b[0m \u001b[1;32mfor\u001b[0m \u001b[0mnode\u001b[0m \u001b[1;32min\u001b[0m \u001b[0mundirected_G\u001b[0m\u001b[1;33m.\u001b[0m\u001b[0mnodes\u001b[0m\u001b[1;33m(\u001b[0m\u001b[1;33m)\u001b[0m \u001b[1;32mif\u001b[0m \u001b[0mnode\u001b[0m \u001b[1;33m!=\u001b[0m \u001b[1;34m\"Mentioned characters\"\u001b[0m\u001b[1;33m]\u001b[0m\u001b[1;33m\u001b[0m\u001b[1;33m\u001b[0m\u001b[0m\n\u001b[0m",
      "\u001b[1;32m<ipython-input-15-2c819aeea0e6>\u001b[0m in \u001b[0;36m<listcomp>\u001b[1;34m(.0)\u001b[0m\n\u001b[1;32m----> 1\u001b[1;33m \u001b[0mcolors\u001b[0m \u001b[1;33m=\u001b[0m \u001b[1;33m[\u001b[0m\u001b[0mcolor_map\u001b[0m\u001b[1;33m[\u001b[0m\u001b[0mundirected_G\u001b[0m\u001b[1;33m.\u001b[0m\u001b[0mnodes\u001b[0m\u001b[1;33m(\u001b[0m\u001b[0mdata\u001b[0m\u001b[1;33m=\u001b[0m\u001b[1;32mTrue\u001b[0m\u001b[1;33m)\u001b[0m\u001b[1;33m[\u001b[0m\u001b[0mnode\u001b[0m\u001b[1;33m]\u001b[0m\u001b[1;33m[\u001b[0m\u001b[1;34m'Category'\u001b[0m\u001b[1;33m]\u001b[0m\u001b[1;33m]\u001b[0m \u001b[1;32mfor\u001b[0m \u001b[0mnode\u001b[0m \u001b[1;32min\u001b[0m \u001b[0mundirected_G\u001b[0m\u001b[1;33m.\u001b[0m\u001b[0mnodes\u001b[0m\u001b[1;33m(\u001b[0m\u001b[1;33m)\u001b[0m \u001b[1;32mif\u001b[0m \u001b[0mnode\u001b[0m \u001b[1;33m!=\u001b[0m \u001b[1;34m\"Mentioned characters\"\u001b[0m\u001b[1;33m]\u001b[0m\u001b[1;33m\u001b[0m\u001b[1;33m\u001b[0m\u001b[0m\n\u001b[0m",
      "\u001b[1;31mKeyError\u001b[0m: 'Category'"
     ]
    }
   ],
   "source": [
    "colors = [color_map[undirected_G.nodes(data=True)[node]['Category']] for node in undirected_G.nodes() if node != \"Mentioned characters\"]"
   ]
  },
  {
   "cell_type": "code",
   "execution_count": 16,
   "metadata": {},
   "outputs": [
    {
     "name": "stderr",
     "output_type": "stream",
     "text": [
      "100%|████████████████████████████████████████████████████████████████████████████| 5000/5000 [00:02<00:00, 2238.98it/s]"
     ]
    },
    {
     "name": "stdout",
     "output_type": "stream",
     "text": [
      "BarnesHut Approximation  took  0.42  seconds\n",
      "Repulsion forces  took  1.53  seconds\n",
      "Gravitational forces  took  0.03  seconds\n",
      "Attraction forces  took  0.01  seconds\n",
      "AdjustSpeedAndApplyForces step  took  0.13  seconds\n"
     ]
    },
    {
     "name": "stderr",
     "output_type": "stream",
     "text": [
      "\n"
     ]
    }
   ],
   "source": [
    "# We run Force Atlas 2 to get positions for the nodes\n",
    "\n",
    "forceatlas2 = ForceAtlas2(\n",
    "    # Behavior alternatives\n",
    "    outboundAttractionDistribution=True,  # Dissuade hubs\n",
    "    linLogMode=False,  # NOT IMPLEMENTED\n",
    "    adjustSizes=False,  # Prevent overlap (NOT IMPLEMENTED)\n",
    "    edgeWeightInfluence=1.0,\n",
    "\n",
    "    # Performance\n",
    "    jitterTolerance=1.0,  # Tolerance\n",
    "    barnesHutOptimize=True,\n",
    "    barnesHutTheta=1.2,\n",
    "    multiThreaded=False,  # NOT IMPLEMENTED\n",
    "\n",
    "    # Tuning\n",
    "    scalingRatio=2.0,\n",
    "    strongGravityMode=False,\n",
    "    gravity=1.0,\n",
    "\n",
    "    # Log\n",
    "    verbose=True)\n",
    "\n",
    "positions = forceatlas2.forceatlas2_networkx_layout(undirected_G, pos=None, iterations=5000)"
   ]
  },
  {
   "cell_type": "code",
   "execution_count": 17,
   "metadata": {},
   "outputs": [
    {
     "ename": "NameError",
     "evalue": "name 'colors' is not defined",
     "output_type": "error",
     "traceback": [
      "\u001b[1;31m---------------------------------------------------------------------------\u001b[0m",
      "\u001b[1;31mNameError\u001b[0m                                 Traceback (most recent call last)",
      "\u001b[1;32m<ipython-input-17-e3b1ca30e1a4>\u001b[0m in \u001b[0;36m<module>\u001b[1;34m\u001b[0m\n\u001b[0;32m      2\u001b[0m \u001b[0mplt\u001b[0m\u001b[1;33m.\u001b[0m\u001b[0mtitle\u001b[0m\u001b[1;33m(\u001b[0m\u001b[1;34m\"Force Atlas Representation of The Office network, with nodes colored by role\"\u001b[0m\u001b[1;33m,\u001b[0m \u001b[0mc\u001b[0m\u001b[1;33m=\u001b[0m\u001b[1;34m'black'\u001b[0m\u001b[1;33m,\u001b[0m  \u001b[0my\u001b[0m\u001b[1;33m=\u001b[0m\u001b[1;36m1.0\u001b[0m\u001b[1;33m,\u001b[0m \u001b[0mpad\u001b[0m\u001b[1;33m=\u001b[0m\u001b[1;33m-\u001b[0m\u001b[1;36m20\u001b[0m\u001b[1;33m)\u001b[0m\u001b[1;33m\u001b[0m\u001b[1;33m\u001b[0m\u001b[0m\n\u001b[0;32m      3\u001b[0m \u001b[0md\u001b[0m \u001b[1;33m=\u001b[0m \u001b[0mdict\u001b[0m\u001b[1;33m(\u001b[0m\u001b[0mundirected_G\u001b[0m\u001b[1;33m.\u001b[0m\u001b[0mdegree\u001b[0m\u001b[1;33m)\u001b[0m\u001b[1;33m\u001b[0m\u001b[1;33m\u001b[0m\u001b[0m\n\u001b[1;32m----> 4\u001b[1;33m \u001b[0mnx\u001b[0m\u001b[1;33m.\u001b[0m\u001b[0mdraw_networkx\u001b[0m\u001b[1;33m(\u001b[0m\u001b[0mundirected_G\u001b[0m\u001b[1;33m,\u001b[0m \u001b[0mpositions\u001b[0m\u001b[1;33m,\u001b[0m \u001b[0mnodelist\u001b[0m\u001b[1;33m=\u001b[0m\u001b[0mlist\u001b[0m\u001b[1;33m(\u001b[0m\u001b[0md\u001b[0m\u001b[1;33m.\u001b[0m\u001b[0mkeys\u001b[0m\u001b[1;33m(\u001b[0m\u001b[1;33m)\u001b[0m\u001b[1;33m)\u001b[0m\u001b[1;33m,\u001b[0m \u001b[0mnode_size\u001b[0m\u001b[1;33m=\u001b[0m\u001b[1;33m[\u001b[0m\u001b[0mv\u001b[0m\u001b[1;33m*\u001b[0m\u001b[1;36m5\u001b[0m \u001b[1;32mfor\u001b[0m \u001b[0mv\u001b[0m \u001b[1;32min\u001b[0m \u001b[0md\u001b[0m\u001b[1;33m.\u001b[0m\u001b[0mvalues\u001b[0m\u001b[1;33m(\u001b[0m\u001b[1;33m)\u001b[0m\u001b[1;33m]\u001b[0m\u001b[1;33m,\u001b[0m \u001b[0mnode_color\u001b[0m \u001b[1;33m=\u001b[0m \u001b[0mcolors\u001b[0m\u001b[1;33m,\u001b[0m \u001b[0mwith_labels\u001b[0m\u001b[1;33m=\u001b[0m\u001b[1;32mFalse\u001b[0m\u001b[1;33m,\u001b[0m \u001b[0medge_color\u001b[0m\u001b[1;33m=\u001b[0m\u001b[1;34m'grey'\u001b[0m\u001b[1;33m)\u001b[0m\u001b[1;33m\u001b[0m\u001b[1;33m\u001b[0m\u001b[0m\n\u001b[0m",
      "\u001b[1;31mNameError\u001b[0m: name 'colors' is not defined"
     ]
    },
    {
     "data": {
      "image/png": "[encoded data removed]",
      "text/plain": [
       "<Figure size 1080x1080 with 1 Axes>"
      ]
     },
     "metadata": {
      "needs_background": "light"
     },
     "output_type": "display_data"
    }
   ],
   "source": [
    "plt.figure(figsize=(15, 15))\n",
    "plt.title(\"Force Atlas Representation of The Office network, with nodes colored by role\", c='black',  y=1.0, pad=-20)\n",
    "d = dict(undirected_G.degree)\n",
    "nx.draw_networkx(undirected_G, positions, nodelist=list(d.keys()), node_size=[v*5 for v in d.values()], node_color = colors, with_labels=False, edge_color='grey')"
   ]
  },
  {
   "cell_type": "code",
   "execution_count": null,
   "metadata": {},
   "outputs": [],
   "source": []
  }
 ],
 "metadata": {
  "kernelspec": {
   "display_name": "Python 3",
   "language": "python",
   "name": "python3"
  },
  "language_info": {
   "codemirror_mode": {
    "name": "ipython",
    "version": 3
   },
   "file_extension": ".py",
   "mimetype": "text/x-python",
   "name": "python",
   "nbconvert_exporter": "python",
   "pygments_lexer": "ipython3",
   "version": "3.8.5"
  }
 },
 "nbformat": 4,
 "nbformat_minor": 4
}
