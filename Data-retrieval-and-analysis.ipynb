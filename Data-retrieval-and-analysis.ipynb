{
 "cells": [
  {
   "cell_type": "markdown",
   "metadata": {},
   "source": [
    "\n",
    "<p style=\"font-family:Muro;font-weight:bold;font-size:35px;margin:10px 0px 10px 0px;color:#ADD8E6\">Data Retrieval and Exploration</p>"
   ]
  },
  {
   "cell_type": "code",
   "execution_count": 62,
   "metadata": {},
   "outputs": [],
   "source": [
    "import requests\n",
    "from bs4 import BeautifulSoup\n",
    "import re, urllib, json\n",
    "import pandas as pd\n",
    "from collections import defaultdict, Counter\n",
    "from numpy import unique\n",
    "from os import listdir, walk\n",
    "from os.path import isfile, join, getsize\n",
    "import seaborn as sns\n",
    "import matplotlib.pyplot as plt"
   ]
  },
  {
   "cell_type": "markdown",
   "metadata": {},
   "source": [
    "### Wiki pages for all characters\n"
   ]
  },
  {
   "cell_type": "markdown",
   "metadata": {},
   "source": [
    "In The Office Wiki, the characters are split into multiple categories. What we first do is go to the landing page where characters are organized into categories. We use the wiki's api and Beautiful Soap to extract these categories and see which characters belong to each one of them. Next, we download the pages of each of the characters, while filtering out the categories we are not intrested in."
   ]
  },
  {
   "cell_type": "code",
   "execution_count": 63,
   "metadata": {},
   "outputs": [],
   "source": [
    "baseurl = \"https://theoffice.fandom.com/api.php?\"\n",
    "action = \"action=query\"\n",
    "content = \"prop=revisions&rvprop=content&rvslots=*\"\n",
    "dataformat = \"format=json\"\n",
    "\n",
    "folder = \"Data/characters/\"\n",
    "\n",
    "# This function gets the wiki text for a character page and saves it in a file\n",
    "def get_character_text(name):\n",
    "    \n",
    "    content = \"prop=revisions&rvprop=content&rvslots=*\"\n",
    "    title = f\"titles={name}\"\n",
    "    query = \"{0}{1}&{2}&{3}&{4}\".format(baseurl,action,title,content,dataformat)\n",
    "\n",
    "    with open(f'{folder}{name}.txt', 'w') as f:\n",
    "        \n",
    "        # Query throguh API to retrieve content, and save\n",
    "        response = urllib.request.urlopen(query)\n",
    "        data = response.read()\n",
    "        text = data.decode('utf-8')\n",
    "        content = json.loads(text)\n",
    "        page_id = list(content['query']['pages'].keys())[0]\n",
    "        text = content['query']['pages'][page_id]['revisions'][0]['slots']['main']['*']\n",
    "        \n",
    "        # Remove non-unicode characters\n",
    "        text = re.sub(r'[^\\x00-\\x7F]+',' ', text)\n",
    "        \n",
    "        # Remove references\n",
    "        references = re.findall(r\"<ref(.*?)</ref>\",text)\n",
    "        for ref in references:\n",
    "            text = text.replace(ref, \"\")\n",
    "        text = text.replace(\"ref\",\"\")\n",
    "        \n",
    "        f.write(text)"
   ]
  },
  {
   "cell_type": "code",
   "execution_count": 64,
   "metadata": {},
   "outputs": [],
   "source": [
    "# characters are split across two pages\n",
    "page_titles = [\"https://theoffice.fandom.com/wiki/Category:Characters\", \"https://theoffice.fandom.com/wiki/Category:Characters?from=Merv+Bronte\"]\n",
    "categories = []\n",
    "all_characters = []\n",
    "\n",
    "# Perform queries through the different pages the characters are distributed in\n",
    "for page_title in page_titles:\n",
    "\n",
    "    title = f\"titles={page_title}\"\n",
    "    query = \"{}{}&{}&{}&{}&rvslots=*\".format(baseurl, action, content, title, dataformat)\n",
    "\n",
    "    page = requests.get(page_title)\n",
    "\n",
    "    soup = BeautifulSoup(page.content, \"html.parser\")\n",
    "    character_pattern = re.compile(r'/wiki/(.*)')\n",
    "    category_pattern = re.compile(r'Category:')\n",
    "    filter_subcategories = [\"Background_Employees\", \"Clients_of_Dunder_Mifflin\", \"Main_Characters\", \"Mentioned_characters\", \"Voiced_Characters\", \"Background_Warehouse_Employees\", \"Dunder_Mifflin_family_members_and_loved_ones\", \"The_Office_Characters\", \"Angela's_cats\"]\n",
    "    \n",
    "    # for each of the characters listed in the characters pages\n",
    "    for link in soup.find_all(\"a\", {\"class\": \"category-page__member-link\"}):\n",
    "\n",
    "        # capture all the href elements\n",
    "        href = link.get(\"href\")\n",
    "\n",
    "        # capture all character names in each href\n",
    "        name =  character_pattern.match(href).group(1)\n",
    "        name = name.replace(\"%27\", \"'\")\n",
    "\n",
    "        # remove \"Categories\" which are classifications of characters and not characters themselves\n",
    "        if category_pattern.match(name):\n",
    "            categories.append(name)\n",
    "\n",
    "        # remove specific subcategories which are not characters themselves\n",
    "        elif name not in filter_subcategories:\n",
    "            get_character_text(name)\n",
    "            all_characters.append(name.replace(\"_\", \" \"))"
   ]
  },
  {
   "cell_type": "code",
   "execution_count": 65,
   "metadata": {},
   "outputs": [
    {
     "name": "stdout",
     "output_type": "stream",
     "text": [
      "There are 294 characters, and each one has its own wiki text file.\n"
     ]
    }
   ],
   "source": [
    "print(f\"There are {len(all_characters)} characters, and each one has its own wiki text file.\")"
   ]
  },
  {
   "cell_type": "code",
   "execution_count": 66,
   "metadata": {},
   "outputs": [
    {
     "name": "stdout",
     "output_type": "stream",
     "text": [
      "The size of all the files combined is 1273738 bytes.\n"
     ]
    }
   ],
   "source": [
    "# assign size\n",
    "wiki_size = 0\n",
    " \n",
    "for path, dirs, files in walk(folder):\n",
    "    for f in files:\n",
    "        fp = join(path, f)\n",
    "        wiki_size += getsize(fp)\n",
    " \n",
    "print(f\"The size of all the files combined is {wiki_size} bytes.\")"
   ]
  },
  {
   "cell_type": "markdown",
   "metadata": {},
   "source": [
    "### Main Dataframe from Wiki"
   ]
  },
  {
   "cell_type": "markdown",
   "metadata": {},
   "source": [
    "We process the text retrieved before into a DataFrame. Here we determine the characters, the category they belong to, the seasons they appear in and we extract the links to other characters."
   ]
  },
  {
   "cell_type": "markdown",
   "metadata": {},
   "source": [
    "Add category to character"
   ]
  },
  {
   "cell_type": "code",
   "execution_count": 67,
   "metadata": {},
   "outputs": [],
   "source": [
    "baseurl = \"https://theoffice.fandom.com/api.php?\"\n",
    "action = \"action=query\"\n",
    "list_ = \"list=categorymembers\"\n",
    "cmlimit = \"cmlimit=500\"\n",
    "dataformat =\"format=json\"\n",
    "\n",
    "# Since characters cna only be in one category, we prioritize the category they should belong to\n",
    "categories = {                \n",
    "             'Main_Characters': 0,\n",
    "             'Warehouse_worker': 1,\n",
    "             'Former_employees': 2,\n",
    "             'Background_employees': 3,\n",
    "             'IT_Guys': 4,\n",
    "             'Family_members': 5,\n",
    "             'Characters_of_Michael_Scott': 6,\n",
    "             'Characters_of_Dwight_Schrute': 7,\n",
    "             'Threat_Level_Midnight_Characters': 8,\n",
    "             'The_3rd_Floor_Characters': 9,\n",
    "             'Deceased_characters': 10,\n",
    "             'Animals': 11,\n",
    "             'Unseen_Characters': 12,\n",
    "             'Unnamed': 13, \n",
    "             'Dunder_Mifflin_employees':14\n",
    "             }"
   ]
  },
  {
   "cell_type": "code",
   "execution_count": 68,
   "metadata": {},
   "outputs": [],
   "source": [
    "# Query characters in each category\n",
    "queries = []\n",
    "for category in categories:\n",
    "    cmtitle = f\"cmtitle=Category:{category}\"\n",
    "    query = \"{}{}&{}&{}&{}&{}\".format(baseurl, action, list_, cmtitle, cmlimit, dataformat)\n",
    "    queries.append(query)"
   ]
  },
  {
   "cell_type": "code",
   "execution_count": 69,
   "metadata": {},
   "outputs": [],
   "source": [
    "\n",
    "# for each category, we build the list of characters. We give preference to the categories in the order above, for the characters that fall in\n",
    "# multiple categories. i.e. Main characters > Warehouse worker > Former employees > etc..\n",
    "\n",
    "characters_category = {}\n",
    "for category, query in zip(categories,queries):\n",
    "    response = urllib.request.urlopen(query)\n",
    "    data = response.read()\n",
    "    text = data.decode('utf-8')\n",
    "    \n",
    "    json_text = json.loads(text)\n",
    "    \n",
    "    category_members = json_text[\"query\"][\"categorymembers\"]\n",
    "    \n",
    "    characters_in_category = [member[\"title\"] for member in category_members]\n",
    "    \n",
    "    for character in characters_in_category:\n",
    "        if character not in characters_category.keys() and character in all_characters:\n",
    "            characters_category[character] = category"
   ]
  },
  {
   "cell_type": "code",
   "execution_count": 70,
   "metadata": {},
   "outputs": [],
   "source": [
    "# We set all characters that do not fall under a category to be other\n",
    "\n",
    "characters_in_other_category = [character for character in all_characters if character not in characters_category.keys()]\n",
    "\n",
    "for character in characters_in_other_category:\n",
    "    characters_category[character] = \"Other\""
   ]
  },
  {
   "cell_type": "code",
   "execution_count": 76,
   "metadata": {},
   "outputs": [],
   "source": [
    "# We process character names to remove dashes\n",
    "files = listdir(folder)\n",
    "characters = [char[:-4].replace(\"_\", \" \") for char in files]"
   ]
  },
  {
   "cell_type": "markdown",
   "metadata": {},
   "source": [
    "We now want to capture links between characters and seasons they appear in."
   ]
  },
  {
   "cell_type": "code",
   "execution_count": 77,
   "metadata": {},
   "outputs": [],
   "source": [
    "def get_seasons(text):\n",
    "    season_regex = r\"\\[\\[Season (\\d)|\\d\\]\\]\"\n",
    "    seasons = re.findall(season_regex, text)\n",
    "    seasons = [int(i) for i in seasons if i != \"\"]\n",
    "    \n",
    "    return list(unique(seasons))"
   ]
  },
  {
   "cell_type": "code",
   "execution_count": 78,
   "metadata": {},
   "outputs": [],
   "source": [
    "def get_character_links(text):\n",
    "    link_regex = r\"\\[\\[(.*?)\\]\\]\"\n",
    "    \n",
    "    links = re.findall(link_regex, text)\n",
    "    \n",
    "    return [link for link in links if link in characters]"
   ]
  },
  {
   "cell_type": "code",
   "execution_count": 79,
   "metadata": {},
   "outputs": [],
   "source": [
    "seasons = []\n",
    "links = []\n",
    "\n",
    "for character in characters_category.keys():\n",
    "    filepath = open(folder + character.replace(\" \", \"_\") + \".txt\", 'r')\n",
    "    text = filepath.read()\n",
    "    \n",
    "    seasons.append(get_seasons(text))\n",
    "    links.append(get_character_links(text))"
   ]
  },
  {
   "cell_type": "code",
   "execution_count": 80,
   "metadata": {},
   "outputs": [],
   "source": [
    "df = pd.DataFrame({\"Category\" : characters_category.values(), \"Links\": links, \"Seasons\": seasons}, index = characters_category.keys())\n",
    "df_filepath = \"Data/dataframe_characters.csv\"\n",
    "df.to_csv(df_filepath, index=True)"
   ]
  },
  {
   "cell_type": "code",
   "execution_count": 81,
   "metadata": {
    "scrolled": false
   },
   "outputs": [
    {
     "data": {
      "text/html": [
       "<div>\n",
       "<style scoped>\n",
       "    .dataframe tbody tr th:only-of-type {\n",
       "        vertical-align: middle;\n",
       "    }\n",
       "\n",
       "    .dataframe tbody tr th {\n",
       "        vertical-align: top;\n",
       "    }\n",
       "\n",
       "    .dataframe thead th {\n",
       "        text-align: right;\n",
       "    }\n",
       "</style>\n",
       "<table border=\"1\" class=\"dataframe\">\n",
       "  <thead>\n",
       "    <tr style=\"text-align: right;\">\n",
       "      <th></th>\n",
       "      <th>Category</th>\n",
       "      <th>Links</th>\n",
       "      <th>Seasons</th>\n",
       "    </tr>\n",
       "  </thead>\n",
       "  <tbody>\n",
       "    <tr>\n",
       "      <th>Andy Bernard</th>\n",
       "      <td>Main_Characters</td>\n",
       "      <td>[Erin Hannon, Angela Martin, Unnamed Cousin, W...</td>\n",
       "      <td>[3, 4, 5, 6, 7, 8, 9]</td>\n",
       "    </tr>\n",
       "    <tr>\n",
       "      <th>Angela Martin</th>\n",
       "      <td>Main_Characters</td>\n",
       "      <td>[Dwight Schrute, Robert Lipton, Andy Bernard, ...</td>\n",
       "      <td>[1, 2, 3, 4, 5, 6, 7, 8, 9]</td>\n",
       "    </tr>\n",
       "    <tr>\n",
       "      <th>Clark Green</th>\n",
       "      <td>Main_Characters</td>\n",
       "      <td>[Pete Miller, Kelly Kapoor, David Wallace, Tod...</td>\n",
       "      <td>[9]</td>\n",
       "    </tr>\n",
       "    <tr>\n",
       "      <th>Creed Bratton</th>\n",
       "      <td>Main_Characters</td>\n",
       "      <td>[Creed Bratton, Michael Scott, Hannah Smoteric...</td>\n",
       "      <td>[1, 2, 3, 4, 5, 6, 7, 8, 9]</td>\n",
       "    </tr>\n",
       "    <tr>\n",
       "      <th>Darryl Philbin</th>\n",
       "      <td>Main_Characters</td>\n",
       "      <td>[Kelly Kapoor, Val Johnson, Jada Philbin, Gwyn...</td>\n",
       "      <td>[1, 2, 3, 4, 5, 6, 7, 8, 9]</td>\n",
       "    </tr>\n",
       "  </tbody>\n",
       "</table>\n",
       "</div>"
      ],
      "text/plain": [
       "                       Category  \\\n",
       "Andy Bernard    Main_Characters   \n",
       "Angela Martin   Main_Characters   \n",
       "Clark Green     Main_Characters   \n",
       "Creed Bratton   Main_Characters   \n",
       "Darryl Philbin  Main_Characters   \n",
       "\n",
       "                                                            Links  \\\n",
       "Andy Bernard    [Erin Hannon, Angela Martin, Unnamed Cousin, W...   \n",
       "Angela Martin   [Dwight Schrute, Robert Lipton, Andy Bernard, ...   \n",
       "Clark Green     [Pete Miller, Kelly Kapoor, David Wallace, Tod...   \n",
       "Creed Bratton   [Creed Bratton, Michael Scott, Hannah Smoteric...   \n",
       "Darryl Philbin  [Kelly Kapoor, Val Johnson, Jada Philbin, Gwyn...   \n",
       "\n",
       "                                    Seasons  \n",
       "Andy Bernard          [3, 4, 5, 6, 7, 8, 9]  \n",
       "Angela Martin   [1, 2, 3, 4, 5, 6, 7, 8, 9]  \n",
       "Clark Green                             [9]  \n",
       "Creed Bratton   [1, 2, 3, 4, 5, 6, 7, 8, 9]  \n",
       "Darryl Philbin  [1, 2, 3, 4, 5, 6, 7, 8, 9]  "
      ]
     },
     "execution_count": 81,
     "metadata": {},
     "output_type": "execute_result"
    }
   ],
   "source": [
    "df.head()"
   ]
  },
  {
   "cell_type": "code",
   "execution_count": 82,
   "metadata": {},
   "outputs": [
    {
     "data": {
      "image/png": "[encoded data removed]",
      "text/plain": [
       "<Figure size 720x360 with 1 Axes>"
      ]
     },
     "metadata": {
      "needs_background": "light"
     },
     "output_type": "display_data"
    }
   ],
   "source": [
    "plt.figure(figsize=(10,5))\n",
    "\n",
    "df_real = df_dialog[df_dialog.deleted == False]\n",
    "\n",
    "c = Counter(df_real['season'])\n",
    "sns.barplot(x = list(c.keys()), y = list(c.values()))\n",
    "plt.xlabel(\"Season\")\n",
    "plt.ylabel(\"Lines\")\n",
    "plt.title(\"Number of lines per season\")\n",
    "plt.show()"
   ]
  },
  {
   "cell_type": "code",
   "execution_count": 61,
   "metadata": {},
   "outputs": [
    {
     "data": {
      "image/png": "[encoded data removed]",
      "text/plain": [
       "<Figure size 720x360 with 1 Axes>"
      ]
     },
     "metadata": {
      "needs_background": "light"
     },
     "output_type": "display_data"
    }
   ],
   "source": [
    "main_characters = df[df.Category == \"Main_Characters\"].index\n",
    "main_characters_first_name = [char.split(\" \")[0] for char in main_characters]\n",
    "df_main = df_dialog[[speaker in main_characters_first_name for speaker in df_dialog.speaker]]\n",
    "\n",
    "plt.figure(figsize=(10,5))\n",
    "c = Counter(df_main['speaker'])\n",
    "c = dict(sorted(c.items(), key=lambda item: item[1], reverse = True))\n",
    "sns.barplot(x = list(c.keys()), y = list(c.values()))\n",
    "plt.xticks(rotation=90)\n",
    "plt.xlabel('Speaker')\n",
    "plt.ylabel(\"Lines\")\n",
    "plt.title(\"Number of lines per character\")\n",
    "plt.show()"
   ]
  },
  {
   "cell_type": "markdown",
   "metadata": {},
   "source": [
    "Each character is one row with a list of links to other characters. This we will expand into new rows for each relationship between the character and its links. This can be done using <code>df.explode()</code>"
   ]
  },
  {
   "cell_type": "code",
   "execution_count": 16,
   "metadata": {},
   "outputs": [],
   "source": [
    "df_e_filepath = \"Data/dataframe_characters_exploded.csv\"\n",
    "df_exploded = df.explode(\"Links\")\n",
    "df_exploded.to_csv(df_e_filepath)"
   ]
  },
  {
   "cell_type": "code",
   "execution_count": 17,
   "metadata": {},
   "outputs": [
    {
     "data": {
      "text/html": [
       "<div>\n",
       "<style scoped>\n",
       "    .dataframe tbody tr th:only-of-type {\n",
       "        vertical-align: middle;\n",
       "    }\n",
       "\n",
       "    .dataframe tbody tr th {\n",
       "        vertical-align: top;\n",
       "    }\n",
       "\n",
       "    .dataframe thead th {\n",
       "        text-align: right;\n",
       "    }\n",
       "</style>\n",
       "<table border=\"1\" class=\"dataframe\">\n",
       "  <thead>\n",
       "    <tr style=\"text-align: right;\">\n",
       "      <th></th>\n",
       "      <th>Category</th>\n",
       "      <th>Links</th>\n",
       "      <th>Seasons</th>\n",
       "    </tr>\n",
       "  </thead>\n",
       "  <tbody>\n",
       "    <tr>\n",
       "      <th>Andy Bernard</th>\n",
       "      <td>Main_Characters</td>\n",
       "      <td>Erin Hannon</td>\n",
       "      <td>[3, 4, 5, 6, 7, 8, 9]</td>\n",
       "    </tr>\n",
       "    <tr>\n",
       "      <th>Andy Bernard</th>\n",
       "      <td>Main_Characters</td>\n",
       "      <td>Angela Martin</td>\n",
       "      <td>[3, 4, 5, 6, 7, 8, 9]</td>\n",
       "    </tr>\n",
       "    <tr>\n",
       "      <th>Andy Bernard</th>\n",
       "      <td>Main_Characters</td>\n",
       "      <td>Unnamed Cousin</td>\n",
       "      <td>[3, 4, 5, 6, 7, 8, 9]</td>\n",
       "    </tr>\n",
       "    <tr>\n",
       "      <th>Andy Bernard</th>\n",
       "      <td>Main_Characters</td>\n",
       "      <td>Walter Bernard Jr.</td>\n",
       "      <td>[3, 4, 5, 6, 7, 8, 9]</td>\n",
       "    </tr>\n",
       "    <tr>\n",
       "      <th>Andy Bernard</th>\n",
       "      <td>Main_Characters</td>\n",
       "      <td>Walter Bernard Sr.</td>\n",
       "      <td>[3, 4, 5, 6, 7, 8, 9]</td>\n",
       "    </tr>\n",
       "    <tr>\n",
       "      <th>...</th>\n",
       "      <td>...</td>\n",
       "      <td>...</td>\n",
       "      <td>...</td>\n",
       "    </tr>\n",
       "    <tr>\n",
       "      <th>W.B. Jones</th>\n",
       "      <td>Other</td>\n",
       "      <td>Kevin Malone</td>\n",
       "      <td>[]</td>\n",
       "    </tr>\n",
       "    <tr>\n",
       "      <th>W.B. Jones</th>\n",
       "      <td>Other</td>\n",
       "      <td>Andy Bernard</td>\n",
       "      <td>[]</td>\n",
       "    </tr>\n",
       "    <tr>\n",
       "      <th>Wally Amos</th>\n",
       "      <td>Other</td>\n",
       "      <td>NaN</td>\n",
       "      <td>[]</td>\n",
       "    </tr>\n",
       "    <tr>\n",
       "      <th>Wesley Silver</th>\n",
       "      <td>Other</td>\n",
       "      <td>Robert Lipton</td>\n",
       "      <td>[9]</td>\n",
       "    </tr>\n",
       "    <tr>\n",
       "      <th>Wesley Silver</th>\n",
       "      <td>Other</td>\n",
       "      <td>Robert Lipton</td>\n",
       "      <td>[9]</td>\n",
       "    </tr>\n",
       "  </tbody>\n",
       "</table>\n",
       "<p>942 rows × 3 columns</p>\n",
       "</div>"
      ],
      "text/plain": [
       "                      Category               Links                Seasons\n",
       "Andy Bernard   Main_Characters         Erin Hannon  [3, 4, 5, 6, 7, 8, 9]\n",
       "Andy Bernard   Main_Characters       Angela Martin  [3, 4, 5, 6, 7, 8, 9]\n",
       "Andy Bernard   Main_Characters      Unnamed Cousin  [3, 4, 5, 6, 7, 8, 9]\n",
       "Andy Bernard   Main_Characters  Walter Bernard Jr.  [3, 4, 5, 6, 7, 8, 9]\n",
       "Andy Bernard   Main_Characters  Walter Bernard Sr.  [3, 4, 5, 6, 7, 8, 9]\n",
       "...                        ...                 ...                    ...\n",
       "W.B. Jones               Other        Kevin Malone                     []\n",
       "W.B. Jones               Other        Andy Bernard                     []\n",
       "Wally Amos               Other                 NaN                     []\n",
       "Wesley Silver            Other       Robert Lipton                    [9]\n",
       "Wesley Silver            Other       Robert Lipton                    [9]\n",
       "\n",
       "[942 rows x 3 columns]"
      ]
     },
     "execution_count": 17,
     "metadata": {},
     "output_type": "execute_result"
    }
   ],
   "source": [
    "df_exploded"
   ]
  },
  {
   "cell_type": "code",
   "execution_count": 18,
   "metadata": {},
   "outputs": [
    {
     "name": "stdout",
     "output_type": "stream",
     "text": [
      "The size of all the files combined is 23890 bytes.\n"
     ]
    }
   ],
   "source": [
    "df_size = getsize(df_filepath)\n",
    "print(f\"The size of all the files combined is {df_size} bytes.\")"
   ]
  },
  {
   "cell_type": "markdown",
   "metadata": {},
   "source": [
    "### Dialogue for characters"
   ]
  },
  {
   "cell_type": "markdown",
   "metadata": {},
   "source": [
    "Here we explore The Office script we downloaded."
   ]
  },
  {
   "cell_type": "code",
   "execution_count": 9,
   "metadata": {},
   "outputs": [],
   "source": [
    "script_path = \"Data/the-office-lines-script.xlsx\"\n",
    "df_dialog = pd.read_excel(script_path, index_col = \"id\")"
   ]
  },
  {
   "cell_type": "code",
   "execution_count": 10,
   "metadata": {},
   "outputs": [
    {
     "data": {
      "text/html": [
       "<div>\n",
       "<style scoped>\n",
       "    .dataframe tbody tr th:only-of-type {\n",
       "        vertical-align: middle;\n",
       "    }\n",
       "\n",
       "    .dataframe tbody tr th {\n",
       "        vertical-align: top;\n",
       "    }\n",
       "\n",
       "    .dataframe thead th {\n",
       "        text-align: right;\n",
       "    }\n",
       "</style>\n",
       "<table border=\"1\" class=\"dataframe\">\n",
       "  <thead>\n",
       "    <tr style=\"text-align: right;\">\n",
       "      <th></th>\n",
       "      <th>season</th>\n",
       "      <th>episode</th>\n",
       "      <th>scene</th>\n",
       "      <th>line_text</th>\n",
       "      <th>speaker</th>\n",
       "      <th>deleted</th>\n",
       "    </tr>\n",
       "    <tr>\n",
       "      <th>id</th>\n",
       "      <th></th>\n",
       "      <th></th>\n",
       "      <th></th>\n",
       "      <th></th>\n",
       "      <th></th>\n",
       "      <th></th>\n",
       "    </tr>\n",
       "  </thead>\n",
       "  <tbody>\n",
       "    <tr>\n",
       "      <th>1.0</th>\n",
       "      <td>1.0</td>\n",
       "      <td>1.0</td>\n",
       "      <td>1.0</td>\n",
       "      <td>All right Jim. Your quarterlies look very good...</td>\n",
       "      <td>Michael</td>\n",
       "      <td>False</td>\n",
       "    </tr>\n",
       "    <tr>\n",
       "      <th>2.0</th>\n",
       "      <td>1.0</td>\n",
       "      <td>1.0</td>\n",
       "      <td>1.0</td>\n",
       "      <td>Oh, I told you. I couldn't close it. So...</td>\n",
       "      <td>Jim</td>\n",
       "      <td>False</td>\n",
       "    </tr>\n",
       "    <tr>\n",
       "      <th>3.0</th>\n",
       "      <td>1.0</td>\n",
       "      <td>1.0</td>\n",
       "      <td>1.0</td>\n",
       "      <td>So you've come to the master for guidance? Is ...</td>\n",
       "      <td>Michael</td>\n",
       "      <td>False</td>\n",
       "    </tr>\n",
       "    <tr>\n",
       "      <th>4.0</th>\n",
       "      <td>1.0</td>\n",
       "      <td>1.0</td>\n",
       "      <td>1.0</td>\n",
       "      <td>Actually, you called me in here, but yeah.</td>\n",
       "      <td>Jim</td>\n",
       "      <td>False</td>\n",
       "    </tr>\n",
       "    <tr>\n",
       "      <th>5.0</th>\n",
       "      <td>1.0</td>\n",
       "      <td>1.0</td>\n",
       "      <td>1.0</td>\n",
       "      <td>All right. Well, let me show you how it's done.</td>\n",
       "      <td>Michael</td>\n",
       "      <td>False</td>\n",
       "    </tr>\n",
       "  </tbody>\n",
       "</table>\n",
       "</div>"
      ],
      "text/plain": [
       "     season  episode  scene  \\\n",
       "id                            \n",
       "1.0     1.0      1.0    1.0   \n",
       "2.0     1.0      1.0    1.0   \n",
       "3.0     1.0      1.0    1.0   \n",
       "4.0     1.0      1.0    1.0   \n",
       "5.0     1.0      1.0    1.0   \n",
       "\n",
       "                                             line_text  speaker  deleted  \n",
       "id                                                                        \n",
       "1.0  All right Jim. Your quarterlies look very good...  Michael    False  \n",
       "2.0         Oh, I told you. I couldn't close it. So...      Jim    False  \n",
       "3.0  So you've come to the master for guidance? Is ...  Michael    False  \n",
       "4.0         Actually, you called me in here, but yeah.      Jim    False  \n",
       "5.0    All right. Well, let me show you how it's done.  Michael    False  "
      ]
     },
     "execution_count": 10,
     "metadata": {},
     "output_type": "execute_result"
    }
   ],
   "source": [
    "df_dialog.head()"
   ]
  },
  {
   "cell_type": "code",
   "execution_count": 11,
   "metadata": {},
   "outputs": [
    {
     "name": "stdout",
     "output_type": "stream",
     "text": [
      "The size of all the files combined is 3256246 bytes.\n"
     ]
    }
   ],
   "source": [
    "dialog_size = getsize(script_path)\n",
    "print(f\"The size of all the files combined is {dialog_size} bytes.\")"
   ]
  },
  {
   "cell_type": "markdown",
   "metadata": {},
   "source": [
    "### Ratings"
   ]
  },
  {
   "cell_type": "markdown",
   "metadata": {},
   "source": [
    "In this section we explore the ratings from The Office."
   ]
  },
  {
   "cell_type": "code",
   "execution_count": 3,
   "metadata": {},
   "outputs": [],
   "source": [
    "ratings_path = \"Data/TheOffice_Episodes_IMDb_Ratings.csv\"\n",
    "df_ratings = pd.read_csv(ratings_path)"
   ]
  },
  {
   "cell_type": "code",
   "execution_count": 4,
   "metadata": {},
   "outputs": [
    {
     "data": {
      "text/html": [
       "<div>\n",
       "<style scoped>\n",
       "    .dataframe tbody tr th:only-of-type {\n",
       "        vertical-align: middle;\n",
       "    }\n",
       "\n",
       "    .dataframe tbody tr th {\n",
       "        vertical-align: top;\n",
       "    }\n",
       "\n",
       "    .dataframe thead th {\n",
       "        text-align: right;\n",
       "    }\n",
       "</style>\n",
       "<table border=\"1\" class=\"dataframe\">\n",
       "  <thead>\n",
       "    <tr style=\"text-align: right;\">\n",
       "      <th></th>\n",
       "      <th>season</th>\n",
       "      <th>episode_number</th>\n",
       "      <th>title</th>\n",
       "      <th>airdate</th>\n",
       "      <th>rating</th>\n",
       "      <th>total_votes</th>\n",
       "      <th>desc</th>\n",
       "    </tr>\n",
       "  </thead>\n",
       "  <tbody>\n",
       "    <tr>\n",
       "      <th>0</th>\n",
       "      <td>1</td>\n",
       "      <td>1</td>\n",
       "      <td>Pilot</td>\n",
       "      <td>2005-03-24</td>\n",
       "      <td>7.4</td>\n",
       "      <td>7125</td>\n",
       "      <td>The premiere episode introduces the boss and s...</td>\n",
       "    </tr>\n",
       "    <tr>\n",
       "      <th>1</th>\n",
       "      <td>1</td>\n",
       "      <td>2</td>\n",
       "      <td>Diversity Day</td>\n",
       "      <td>2005-03-16</td>\n",
       "      <td>8.3</td>\n",
       "      <td>7020</td>\n",
       "      <td>Michael's off color remark puts a sensitivity ...</td>\n",
       "    </tr>\n",
       "    <tr>\n",
       "      <th>2</th>\n",
       "      <td>1</td>\n",
       "      <td>3</td>\n",
       "      <td>Health Care</td>\n",
       "      <td>2005-04-05</td>\n",
       "      <td>7.7</td>\n",
       "      <td>5853</td>\n",
       "      <td>Michael leaves Dwight in charge of picking the...</td>\n",
       "    </tr>\n",
       "    <tr>\n",
       "      <th>3</th>\n",
       "      <td>1</td>\n",
       "      <td>4</td>\n",
       "      <td>The Alliance</td>\n",
       "      <td>2005-04-12</td>\n",
       "      <td>8.0</td>\n",
       "      <td>5665</td>\n",
       "      <td>Just for a laugh, Jim agrees to an alliance wi...</td>\n",
       "    </tr>\n",
       "    <tr>\n",
       "      <th>4</th>\n",
       "      <td>1</td>\n",
       "      <td>5</td>\n",
       "      <td>Basketball</td>\n",
       "      <td>2005-04-19</td>\n",
       "      <td>8.4</td>\n",
       "      <td>6290</td>\n",
       "      <td>Michael and his staff challenge the warehouse ...</td>\n",
       "    </tr>\n",
       "  </tbody>\n",
       "</table>\n",
       "</div>"
      ],
      "text/plain": [
       "   season  episode_number          title     airdate  rating  total_votes  \\\n",
       "0       1               1          Pilot  2005-03-24     7.4         7125   \n",
       "1       1               2  Diversity Day  2005-03-16     8.3         7020   \n",
       "2       1               3    Health Care  2005-04-05     7.7         5853   \n",
       "3       1               4   The Alliance  2005-04-12     8.0         5665   \n",
       "4       1               5     Basketball  2005-04-19     8.4         6290   \n",
       "\n",
       "                                                desc  \n",
       "0  The premiere episode introduces the boss and s...  \n",
       "1  Michael's off color remark puts a sensitivity ...  \n",
       "2  Michael leaves Dwight in charge of picking the...  \n",
       "3  Just for a laugh, Jim agrees to an alliance wi...  \n",
       "4  Michael and his staff challenge the warehouse ...  "
      ]
     },
     "execution_count": 4,
     "metadata": {},
     "output_type": "execute_result"
    }
   ],
   "source": [
    "df_ratings.head()"
   ]
  },
  {
   "cell_type": "code",
   "execution_count": 12,
   "metadata": {},
   "outputs": [
    {
     "name": "stdout",
     "output_type": "stream",
     "text": [
      "The size of all the files combined is 43431 bytes.\n"
     ]
    }
   ],
   "source": [
    "rating_size = getsize(ratings_path)\n",
    "print(f\"The size of all the files combined is {rating_size} bytes.\")"
   ]
  },
  {
   "cell_type": "code",
   "execution_count": 13,
   "metadata": {},
   "outputs": [
    {
     "ename": "NameError",
     "evalue": "name 'wiki_size' is not defined",
     "output_type": "error",
     "traceback": [
      "\u001b[0;31m---------------------------------------------------------------------------\u001b[0m",
      "\u001b[0;31mNameError\u001b[0m                                 Traceback (most recent call last)",
      "\u001b[0;32m/var/folders/q0/40pnfnf56wd0kqq1vhhltms40000gn/T/ipykernel_11584/1564002407.py\u001b[0m in \u001b[0;36m<module>\u001b[0;34m\u001b[0m\n\u001b[0;32m----> 1\u001b[0;31m \u001b[0mprint\u001b[0m\u001b[0;34m(\u001b[0m\u001b[0;34mf\"The total size of ALL the data is: {(rating_size + wiki_size + df_size + dialog_size)/1000} KB\"\u001b[0m\u001b[0;34m)\u001b[0m\u001b[0;34m\u001b[0m\u001b[0;34m\u001b[0m\u001b[0m\n\u001b[0m",
      "\u001b[0;31mNameError\u001b[0m: name 'wiki_size' is not defined"
     ]
    }
   ],
   "source": [
    "print(f\"The total size of ALL the data is: {(rating_size + wiki_size + df_size + dialog_size)/1000} KB\")"
   ]
  },
  {
   "cell_type": "code",
   "execution_count": null,
   "metadata": {},
   "outputs": [],
   "source": []
  }
 ],
 "metadata": {
  "interpreter": {
   "hash": "d77c60bc2dad7e593b13ffd12a618704d8228a94bb6c4bcefaa567f1d1fdc886"
  },
  "kernelspec": {
   "display_name": "Python 3.8.11 64-bit ('social_graphs': conda)",
   "name": "python3"
  },
  "language_info": {
   "codemirror_mode": {
    "name": "ipython",
    "version": 3
   },
   "file_extension": ".py",
   "mimetype": "text/x-python",
   "name": "python",
   "nbconvert_exporter": "python",
   "pygments_lexer": "ipython3",
   "version": "3.8.11"
  }
 },
 "nbformat": 4,
 "nbformat_minor": 4
}
