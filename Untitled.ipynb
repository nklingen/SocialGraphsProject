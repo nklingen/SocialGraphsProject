{
 "cells": [
  {
   "cell_type": "markdown",
   "metadata": {},
   "source": [
    "# Explainer notebook"
   ]
  },
  {
   "cell_type": "markdown",
   "metadata": {},
   "source": [
    "**Important**\n",
    "\n",
    "In order to avoid a kilometric single notebook and for organizational purposes our work is divided into different notebooks, each one focussing on a different area. For this reason, we link the relevant notebooks at every section."
   ]
  },
  {
   "cell_type": "markdown",
   "metadata": {},
   "source": [
    "## 1. Motivation\n",
    "\n",
    "We will focus on analyzing The Office, which is an American mockumentary sitcom television series that depicts the everyday work lives of office employees in the Scranton, Pennsylvania, branch of the fictional Dunder Mifflin Paper Company [\\[1\\]](https://en.wikipedia.org/wiki/The_Office_(American_TV_series)). We decided to focus on this because we are huge fans and it's a dataset we are very familiar with.\n",
    "\n",
    "We want to a do an in-depth analysis of The Office to find some intresting insights and fun facts about the series and its characters. Given that the network is not big enough (less than 1000 characters) to find some intresting patterns in their social behaviour, our approach will heavily focus on a more qualitative analysis of the series. More specifically, we will do the following:\n",
    "\n",
    "- Model the network of characters and extract information such as who is related to who, which characters are more popular and some other basic statistics (number of links and nodes, distrbution, etc).\n",
    "- Find possible underlying communities and analyze what they have in common.\n",
    "- Extract the most descriptive words that characterize each character from their wiki pages and analyze the characters´ dialogue to explore any visible personality traits in their way of speaking, using wordclouds.\n",
    "- Determine which characters have the most lines throghout the series and see who interacts with who the most.\n",
    "- Analyze the sentiment of the series on average throughout the seasons and episodes and also for the individual characters, to determine who are the happiest, the saddest or who are the most emotionally stable/unstable. \n",
    "- Explore the sentiment developement for the main characters throughout the series as well as determine the episodes that had a bigger emotional charge for them and why.\n",
    "- Analyze the viewership and ratings of the series per episode and find possible explanations for the observed trends, while correlating them other parameters in the network.\n",
    "- Explore the different directors for each episode, see which ones got higher ratings and who directed the most episodes.\n",
    "\n",
    "For this, we use the following datasets:\n",
    "\n",
    "- *The Office Wiki*. For retrieving the characters and the links between each other, their category, the seasons they appear in and their biographical information.\n",
    "- *The Office script*. To retrieve the dialogue of the characters that will allow us to extract their sentiment, any characterisitc expresions and the interaction network.\n",
    "- *IMBd ratings*. To explore who the ratings are viewership varied throughout the episodes.\n",
    "- *List of directors per episode*. See which directors directed which episodes."
   ]
  },
  {
   "cell_type": "markdown",
   "metadata": {},
   "source": [
    "## 2. Basic stats\n",
    "\n",
    "To see more about the process of collecting, cleaning and pre-processing the data, please refer to the following notebook. Here you will also be able to see the basic statistics the preliminary data.\n",
    "\n",
    "https://github.com/nklingen/SocialGraphsProject/blob/main/Data-retrieval-and-analysis.ipynb"
   ]
  },
  {
   "cell_type": "markdown",
   "metadata": {},
   "source": [
    "## 3. Tools, theory and analysis\n",
    "\n",
    "Talk about how you've worked with text, including regular expressions, unicode, etc.\n",
    "Describe which network science tools and data analysis strategies you've used, how those network science measures work, and why the tools you've chosen are right for the problem you're solving.\n",
    "How did you use the tools to understand your dataset?"
   ]
  },
  {
   "cell_type": "markdown",
   "metadata": {},
   "source": [
    "## 4. Discussion\n",
    "\n",
    "What went well?,\n",
    "What is still missing? What could be improved?, Why?\n",
    "\n",
    "In overall, we managed to extract "
   ]
  },
  {
   "cell_type": "markdown",
   "metadata": {},
   "source": [
    "## 5. Contributions\n",
    "You should write (just briefly) which group member was the main responsible for which elements of the assignment. (I want you guys to understand every part of the assignment, but usually there is someone who took lead role on certain portions of the work. That’s what you should explain)."
   ]
  }
 ],
 "metadata": {
  "kernelspec": {
   "display_name": "Python 3",
   "language": "python",
   "name": "python3"
  },
  "language_info": {
   "codemirror_mode": {
    "name": "ipython",
    "version": 3
   },
   "file_extension": ".py",
   "mimetype": "text/x-python",
   "name": "python",
   "nbconvert_exporter": "python",
   "pygments_lexer": "ipython3",
   "version": "3.8.5"
  }
 },
 "nbformat": 4,
 "nbformat_minor": 4
}
