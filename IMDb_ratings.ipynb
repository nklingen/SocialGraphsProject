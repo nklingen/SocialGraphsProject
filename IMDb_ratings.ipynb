{
 "cells": [
  {
   "cell_type": "code",
   "execution_count": 2,
   "metadata": {},
   "outputs": [],
   "source": [
    "import pandas as pd\n",
    "from bs4 import BeautifulSoup\n",
    "from requests import get\n",
    "import seaborn as sns\n",
    "from matplotlib import pyplot as plt\n",
    "import plotly.express as px\n",
    "import plotly.graph_objects as go"
   ]
  },
  {
   "cell_type": "markdown",
   "metadata": {},
   "source": [
    "<p style=\"font-family:Muro;font-weight:bold;font-size:35px;margin:10px 0px 10px 0px;color:#ADD8E6\">IMDB Ratings</p>"
   ]
  },
  {
   "cell_type": "code",
   "execution_count": 3,
   "metadata": {},
   "outputs": [],
   "source": [
    "# Initializing the series for the loop\n",
    "theoffice_episodes = []\n",
    "\n",
    "# For every season in the The Ofice\n",
    "for sn in range(1,10):\n",
    "    # Request from the server the content of the web page by and store the server’s response\n",
    "    response = get('https://www.imdb.com/title/tt0386676/episodes?season=' + str(sn))\n",
    "\n",
    "    # Parse the content of the request\n",
    "    page_html = BeautifulSoup(response.text, 'html.parser')\n",
    "\n",
    "    # Select all the episode containers from the season's page\n",
    "    episode_containers = page_html.find_all('div', class_ = 'info')\n",
    "\n",
    "    # For each episode in each season\n",
    "    for episodes in episode_containers:\n",
    "            # Get the info of each episode on the page\n",
    "            season = sn\n",
    "            episode_number = episodes.meta['content']\n",
    "            title = episodes.a['title']\n",
    "            airdate = episodes.find('div', class_='airdate').text.strip()\n",
    "            rating = episodes.find('span', class_='ipl-rating-star__rating').text\n",
    "            total_votes = episodes.find('span', class_='ipl-rating-star__total-votes').text\n",
    "            desc = episodes.find('div', class_='item_description').text.strip()\n",
    "            # Compile the episode info\n",
    "            episode_data = [season, episode_number, title, airdate, rating, total_votes, desc]\n",
    "\n",
    "            # Append the episode info to the complete dataset\n",
    "            theoffice_episodes.append(episode_data)"
   ]
  },
  {
   "cell_type": "code",
   "execution_count": 4,
   "metadata": {},
   "outputs": [
    {
     "data": {
      "text/html": [
       "<div>\n",
       "<style scoped>\n",
       "    .dataframe tbody tr th:only-of-type {\n",
       "        vertical-align: middle;\n",
       "    }\n",
       "\n",
       "    .dataframe tbody tr th {\n",
       "        vertical-align: top;\n",
       "    }\n",
       "\n",
       "    .dataframe thead th {\n",
       "        text-align: right;\n",
       "    }\n",
       "</style>\n",
       "<table border=\"1\" class=\"dataframe\">\n",
       "  <thead>\n",
       "    <tr style=\"text-align: right;\">\n",
       "      <th></th>\n",
       "      <th>season</th>\n",
       "      <th>episode_number</th>\n",
       "      <th>title</th>\n",
       "      <th>airdate</th>\n",
       "      <th>rating</th>\n",
       "      <th>total_votes</th>\n",
       "      <th>desc</th>\n",
       "    </tr>\n",
       "  </thead>\n",
       "  <tbody>\n",
       "    <tr>\n",
       "      <th>183</th>\n",
       "      <td>9</td>\n",
       "      <td>19</td>\n",
       "      <td>Stairmageddon</td>\n",
       "      <td>11 Apr. 2013</td>\n",
       "      <td>8.0</td>\n",
       "      <td>(3,006)</td>\n",
       "      <td>Dwight shoots Stanley with a bull tranquilizer...</td>\n",
       "    </tr>\n",
       "    <tr>\n",
       "      <th>184</th>\n",
       "      <td>9</td>\n",
       "      <td>20</td>\n",
       "      <td>Paper Airplane</td>\n",
       "      <td>25 Apr. 2013</td>\n",
       "      <td>8.0</td>\n",
       "      <td>(3,088)</td>\n",
       "      <td>The employees hold a paper airplane competitio...</td>\n",
       "    </tr>\n",
       "    <tr>\n",
       "      <th>185</th>\n",
       "      <td>9</td>\n",
       "      <td>21</td>\n",
       "      <td>Livin' the Dream</td>\n",
       "      <td>2 May 2013</td>\n",
       "      <td>9.1</td>\n",
       "      <td>(4,525)</td>\n",
       "      <td>Dwight becomes regional manager after Andy qui...</td>\n",
       "    </tr>\n",
       "    <tr>\n",
       "      <th>186</th>\n",
       "      <td>9</td>\n",
       "      <td>22</td>\n",
       "      <td>A.A.R.M.</td>\n",
       "      <td>9 May 2013</td>\n",
       "      <td>9.5</td>\n",
       "      <td>(6,032)</td>\n",
       "      <td>Dwight prepares for a marriage proposal and hi...</td>\n",
       "    </tr>\n",
       "    <tr>\n",
       "      <th>187</th>\n",
       "      <td>9</td>\n",
       "      <td>23</td>\n",
       "      <td>Finale</td>\n",
       "      <td>16 May 2013</td>\n",
       "      <td>9.8</td>\n",
       "      <td>(15,499)</td>\n",
       "      <td>One year later, Dunder Mifflin employees past ...</td>\n",
       "    </tr>\n",
       "  </tbody>\n",
       "</table>\n",
       "</div>"
      ],
      "text/plain": [
       "     season episode_number             title       airdate rating total_votes  \\\n",
       "183       9             19     Stairmageddon  11 Apr. 2013    8.0     (3,006)   \n",
       "184       9             20    Paper Airplane  25 Apr. 2013    8.0     (3,088)   \n",
       "185       9             21  Livin' the Dream    2 May 2013    9.1     (4,525)   \n",
       "186       9             22          A.A.R.M.    9 May 2013    9.5     (6,032)   \n",
       "187       9             23            Finale   16 May 2013    9.8    (15,499)   \n",
       "\n",
       "                                                  desc  \n",
       "183  Dwight shoots Stanley with a bull tranquilizer...  \n",
       "184  The employees hold a paper airplane competitio...  \n",
       "185  Dwight becomes regional manager after Andy qui...  \n",
       "186  Dwight prepares for a marriage proposal and hi...  \n",
       "187  One year later, Dunder Mifflin employees past ...  "
      ]
     },
     "execution_count": 4,
     "metadata": {},
     "output_type": "execute_result"
    }
   ],
   "source": [
    "#Create the data frame\n",
    "theoffice_episodes = pd.DataFrame(theoffice_episodes, columns = ['season', 'episode_number', 'title', 'airdate', 'rating', 'total_votes', 'desc'])\n",
    "theoffice_episodes.tail()"
   ]
  },
  {
   "cell_type": "code",
   "execution_count": 5,
   "metadata": {},
   "outputs": [],
   "source": [
    "# Convert total votes to numeric integer values\n",
    "# First reate a function that uses removes the commas and parentheses strings from total_votes\n",
    "def remove_str(votes):\n",
    "    for r in ((',',''), ('(',''),(')','')):\n",
    "        votes = votes.replace(*r)\n",
    "    return votes"
   ]
  },
  {
   "cell_type": "code",
   "execution_count": 6,
   "metadata": {},
   "outputs": [
    {
     "data": {
      "text/html": [
       "<div>\n",
       "<style scoped>\n",
       "    .dataframe tbody tr th:only-of-type {\n",
       "        vertical-align: middle;\n",
       "    }\n",
       "\n",
       "    .dataframe tbody tr th {\n",
       "        vertical-align: top;\n",
       "    }\n",
       "\n",
       "    .dataframe thead th {\n",
       "        text-align: right;\n",
       "    }\n",
       "</style>\n",
       "<table border=\"1\" class=\"dataframe\">\n",
       "  <thead>\n",
       "    <tr style=\"text-align: right;\">\n",
       "      <th></th>\n",
       "      <th>season</th>\n",
       "      <th>episode_number</th>\n",
       "      <th>title</th>\n",
       "      <th>airdate</th>\n",
       "      <th>rating</th>\n",
       "      <th>total_votes</th>\n",
       "      <th>desc</th>\n",
       "    </tr>\n",
       "  </thead>\n",
       "  <tbody>\n",
       "    <tr>\n",
       "      <th>183</th>\n",
       "      <td>9</td>\n",
       "      <td>19</td>\n",
       "      <td>Stairmageddon</td>\n",
       "      <td>11 Apr. 2013</td>\n",
       "      <td>8.0</td>\n",
       "      <td>3006</td>\n",
       "      <td>Dwight shoots Stanley with a bull tranquilizer...</td>\n",
       "    </tr>\n",
       "    <tr>\n",
       "      <th>184</th>\n",
       "      <td>9</td>\n",
       "      <td>20</td>\n",
       "      <td>Paper Airplane</td>\n",
       "      <td>25 Apr. 2013</td>\n",
       "      <td>8.0</td>\n",
       "      <td>3088</td>\n",
       "      <td>The employees hold a paper airplane competitio...</td>\n",
       "    </tr>\n",
       "    <tr>\n",
       "      <th>185</th>\n",
       "      <td>9</td>\n",
       "      <td>21</td>\n",
       "      <td>Livin' the Dream</td>\n",
       "      <td>2 May 2013</td>\n",
       "      <td>9.1</td>\n",
       "      <td>4525</td>\n",
       "      <td>Dwight becomes regional manager after Andy qui...</td>\n",
       "    </tr>\n",
       "    <tr>\n",
       "      <th>186</th>\n",
       "      <td>9</td>\n",
       "      <td>22</td>\n",
       "      <td>A.A.R.M.</td>\n",
       "      <td>9 May 2013</td>\n",
       "      <td>9.5</td>\n",
       "      <td>6032</td>\n",
       "      <td>Dwight prepares for a marriage proposal and hi...</td>\n",
       "    </tr>\n",
       "    <tr>\n",
       "      <th>187</th>\n",
       "      <td>9</td>\n",
       "      <td>23</td>\n",
       "      <td>Finale</td>\n",
       "      <td>16 May 2013</td>\n",
       "      <td>9.8</td>\n",
       "      <td>15499</td>\n",
       "      <td>One year later, Dunder Mifflin employees past ...</td>\n",
       "    </tr>\n",
       "  </tbody>\n",
       "</table>\n",
       "</div>"
      ],
      "text/plain": [
       "     season episode_number             title       airdate rating  \\\n",
       "183       9             19     Stairmageddon  11 Apr. 2013    8.0   \n",
       "184       9             20    Paper Airplane  25 Apr. 2013    8.0   \n",
       "185       9             21  Livin' the Dream    2 May 2013    9.1   \n",
       "186       9             22          A.A.R.M.    9 May 2013    9.5   \n",
       "187       9             23            Finale   16 May 2013    9.8   \n",
       "\n",
       "     total_votes                                               desc  \n",
       "183         3006  Dwight shoots Stanley with a bull tranquilizer...  \n",
       "184         3088  The employees hold a paper airplane competitio...  \n",
       "185         4525  Dwight becomes regional manager after Andy qui...  \n",
       "186         6032  Dwight prepares for a marriage proposal and hi...  \n",
       "187        15499  One year later, Dunder Mifflin employees past ...  "
      ]
     },
     "execution_count": 6,
     "metadata": {},
     "output_type": "execute_result"
    }
   ],
   "source": [
    "# Apply the function and change from string to integer\n",
    "theoffice_episodes['total_votes'] = theoffice_episodes.total_votes.apply(remove_str).astype(int)\n",
    "theoffice_episodes.tail()"
   ]
  },
  {
   "cell_type": "code",
   "execution_count": 7,
   "metadata": {},
   "outputs": [],
   "source": [
    "# Change rating from string to numeric\n",
    "theoffice_episodes['rating'] = theoffice_episodes.rating.astype(float)"
   ]
  },
  {
   "cell_type": "code",
   "execution_count": 8,
   "metadata": {},
   "outputs": [
    {
     "data": {
      "text/html": [
       "<div>\n",
       "<style scoped>\n",
       "    .dataframe tbody tr th:only-of-type {\n",
       "        vertical-align: middle;\n",
       "    }\n",
       "\n",
       "    .dataframe tbody tr th {\n",
       "        vertical-align: top;\n",
       "    }\n",
       "\n",
       "    .dataframe thead th {\n",
       "        text-align: right;\n",
       "    }\n",
       "</style>\n",
       "<table border=\"1\" class=\"dataframe\">\n",
       "  <thead>\n",
       "    <tr style=\"text-align: right;\">\n",
       "      <th></th>\n",
       "      <th>season</th>\n",
       "      <th>episode_number</th>\n",
       "      <th>title</th>\n",
       "      <th>airdate</th>\n",
       "      <th>rating</th>\n",
       "      <th>total_votes</th>\n",
       "      <th>desc</th>\n",
       "    </tr>\n",
       "  </thead>\n",
       "  <tbody>\n",
       "    <tr>\n",
       "      <th>0</th>\n",
       "      <td>1</td>\n",
       "      <td>1</td>\n",
       "      <td>Pilot</td>\n",
       "      <td>2005-03-24</td>\n",
       "      <td>7.4</td>\n",
       "      <td>7135</td>\n",
       "      <td>The premiere episode introduces the boss and s...</td>\n",
       "    </tr>\n",
       "    <tr>\n",
       "      <th>1</th>\n",
       "      <td>1</td>\n",
       "      <td>2</td>\n",
       "      <td>Diversity Day</td>\n",
       "      <td>2005-03-16</td>\n",
       "      <td>8.3</td>\n",
       "      <td>7033</td>\n",
       "      <td>Michael's off color remark puts a sensitivity ...</td>\n",
       "    </tr>\n",
       "    <tr>\n",
       "      <th>2</th>\n",
       "      <td>1</td>\n",
       "      <td>3</td>\n",
       "      <td>Health Care</td>\n",
       "      <td>2005-04-05</td>\n",
       "      <td>7.7</td>\n",
       "      <td>5863</td>\n",
       "      <td>Michael leaves Dwight in charge of picking the...</td>\n",
       "    </tr>\n",
       "    <tr>\n",
       "      <th>3</th>\n",
       "      <td>1</td>\n",
       "      <td>4</td>\n",
       "      <td>The Alliance</td>\n",
       "      <td>2005-04-12</td>\n",
       "      <td>8.0</td>\n",
       "      <td>5674</td>\n",
       "      <td>Just for a laugh, Jim agrees to an alliance wi...</td>\n",
       "    </tr>\n",
       "    <tr>\n",
       "      <th>4</th>\n",
       "      <td>1</td>\n",
       "      <td>5</td>\n",
       "      <td>Basketball</td>\n",
       "      <td>2005-04-19</td>\n",
       "      <td>8.4</td>\n",
       "      <td>6301</td>\n",
       "      <td>Michael and his staff challenge the warehouse ...</td>\n",
       "    </tr>\n",
       "    <tr>\n",
       "      <th>...</th>\n",
       "      <td>...</td>\n",
       "      <td>...</td>\n",
       "      <td>...</td>\n",
       "      <td>...</td>\n",
       "      <td>...</td>\n",
       "      <td>...</td>\n",
       "      <td>...</td>\n",
       "    </tr>\n",
       "    <tr>\n",
       "      <th>183</th>\n",
       "      <td>9</td>\n",
       "      <td>19</td>\n",
       "      <td>Stairmageddon</td>\n",
       "      <td>2013-04-11</td>\n",
       "      <td>8.0</td>\n",
       "      <td>3006</td>\n",
       "      <td>Dwight shoots Stanley with a bull tranquilizer...</td>\n",
       "    </tr>\n",
       "    <tr>\n",
       "      <th>184</th>\n",
       "      <td>9</td>\n",
       "      <td>20</td>\n",
       "      <td>Paper Airplane</td>\n",
       "      <td>2013-04-25</td>\n",
       "      <td>8.0</td>\n",
       "      <td>3088</td>\n",
       "      <td>The employees hold a paper airplane competitio...</td>\n",
       "    </tr>\n",
       "    <tr>\n",
       "      <th>185</th>\n",
       "      <td>9</td>\n",
       "      <td>21</td>\n",
       "      <td>Livin' the Dream</td>\n",
       "      <td>2013-05-02</td>\n",
       "      <td>9.1</td>\n",
       "      <td>4525</td>\n",
       "      <td>Dwight becomes regional manager after Andy qui...</td>\n",
       "    </tr>\n",
       "    <tr>\n",
       "      <th>186</th>\n",
       "      <td>9</td>\n",
       "      <td>22</td>\n",
       "      <td>A.A.R.M.</td>\n",
       "      <td>2013-05-09</td>\n",
       "      <td>9.5</td>\n",
       "      <td>6032</td>\n",
       "      <td>Dwight prepares for a marriage proposal and hi...</td>\n",
       "    </tr>\n",
       "    <tr>\n",
       "      <th>187</th>\n",
       "      <td>9</td>\n",
       "      <td>23</td>\n",
       "      <td>Finale</td>\n",
       "      <td>2013-05-16</td>\n",
       "      <td>9.8</td>\n",
       "      <td>15499</td>\n",
       "      <td>One year later, Dunder Mifflin employees past ...</td>\n",
       "    </tr>\n",
       "  </tbody>\n",
       "</table>\n",
       "<p>188 rows × 7 columns</p>\n",
       "</div>"
      ],
      "text/plain": [
       "     season episode_number             title    airdate  rating  total_votes  \\\n",
       "0         1              1             Pilot 2005-03-24     7.4         7135   \n",
       "1         1              2     Diversity Day 2005-03-16     8.3         7033   \n",
       "2         1              3       Health Care 2005-04-05     7.7         5863   \n",
       "3         1              4      The Alliance 2005-04-12     8.0         5674   \n",
       "4         1              5        Basketball 2005-04-19     8.4         6301   \n",
       "..      ...            ...               ...        ...     ...          ...   \n",
       "183       9             19     Stairmageddon 2013-04-11     8.0         3006   \n",
       "184       9             20    Paper Airplane 2013-04-25     8.0         3088   \n",
       "185       9             21  Livin' the Dream 2013-05-02     9.1         4525   \n",
       "186       9             22          A.A.R.M. 2013-05-09     9.5         6032   \n",
       "187       9             23            Finale 2013-05-16     9.8        15499   \n",
       "\n",
       "                                                  desc  \n",
       "0    The premiere episode introduces the boss and s...  \n",
       "1    Michael's off color remark puts a sensitivity ...  \n",
       "2    Michael leaves Dwight in charge of picking the...  \n",
       "3    Just for a laugh, Jim agrees to an alliance wi...  \n",
       "4    Michael and his staff challenge the warehouse ...  \n",
       "..                                                 ...  \n",
       "183  Dwight shoots Stanley with a bull tranquilizer...  \n",
       "184  The employees hold a paper airplane competitio...  \n",
       "185  Dwight becomes regional manager after Andy qui...  \n",
       "186  Dwight prepares for a marriage proposal and hi...  \n",
       "187  One year later, Dunder Mifflin employees past ...  \n",
       "\n",
       "[188 rows x 7 columns]"
      ]
     },
     "execution_count": 8,
     "metadata": {},
     "output_type": "execute_result"
    }
   ],
   "source": [
    "# Change airdate from string to datetime\n",
    "theoffice_episodes['airdate'] = pd.to_datetime(theoffice_episodes.airdate)\n",
    "theoffice_episodes"
   ]
  },
  {
   "cell_type": "code",
   "execution_count": 9,
   "metadata": {},
   "outputs": [
    {
     "name": "stdout",
     "output_type": "stream",
     "text": [
      "<class 'pandas.core.frame.DataFrame'>\n",
      "RangeIndex: 188 entries, 0 to 187\n",
      "Data columns (total 7 columns):\n",
      " #   Column          Non-Null Count  Dtype         \n",
      "---  ------          --------------  -----         \n",
      " 0   season          188 non-null    int64         \n",
      " 1   episode_number  188 non-null    object        \n",
      " 2   title           188 non-null    object        \n",
      " 3   airdate         188 non-null    datetime64[ns]\n",
      " 4   rating          188 non-null    float64       \n",
      " 5   total_votes     188 non-null    int64         \n",
      " 6   desc            188 non-null    object        \n",
      "dtypes: datetime64[ns](1), float64(1), int64(2), object(3)\n",
      "memory usage: 10.4+ KB\n"
     ]
    }
   ],
   "source": [
    "theoffice_episodes.info()"
   ]
  },
  {
   "cell_type": "code",
   "execution_count": 10,
   "metadata": {},
   "outputs": [],
   "source": [
    "theoffice_episodes.to_csv('Data/TheOffice_Episodes_IMDb_Ratings.csv',index=False)"
   ]
  },
  {
   "cell_type": "markdown",
   "metadata": {},
   "source": [
    "## Ratings by season"
   ]
  },
  {
   "cell_type": "code",
   "execution_count": 11,
   "metadata": {},
   "outputs": [],
   "source": [
    "ratings_path = \"Data/TheOffice_Episodes_IMDb_Ratings.csv\"\n",
    "df_ratings = pd.read_csv(ratings_path)"
   ]
  },
  {
   "cell_type": "code",
   "execution_count": 12,
   "metadata": {},
   "outputs": [
    {
     "data": {
      "text/html": [
       "<div>\n",
       "<style scoped>\n",
       "    .dataframe tbody tr th:only-of-type {\n",
       "        vertical-align: middle;\n",
       "    }\n",
       "\n",
       "    .dataframe tbody tr th {\n",
       "        vertical-align: top;\n",
       "    }\n",
       "\n",
       "    .dataframe thead th {\n",
       "        text-align: right;\n",
       "    }\n",
       "</style>\n",
       "<table border=\"1\" class=\"dataframe\">\n",
       "  <thead>\n",
       "    <tr style=\"text-align: right;\">\n",
       "      <th></th>\n",
       "      <th>season</th>\n",
       "      <th>episode_number</th>\n",
       "      <th>title</th>\n",
       "      <th>airdate</th>\n",
       "      <th>rating</th>\n",
       "      <th>total_votes</th>\n",
       "      <th>desc</th>\n",
       "    </tr>\n",
       "  </thead>\n",
       "  <tbody>\n",
       "    <tr>\n",
       "      <th>0</th>\n",
       "      <td>1</td>\n",
       "      <td>1</td>\n",
       "      <td>Pilot</td>\n",
       "      <td>2005-03-24</td>\n",
       "      <td>7.4</td>\n",
       "      <td>7135</td>\n",
       "      <td>The premiere episode introduces the boss and s...</td>\n",
       "    </tr>\n",
       "    <tr>\n",
       "      <th>1</th>\n",
       "      <td>1</td>\n",
       "      <td>2</td>\n",
       "      <td>Diversity Day</td>\n",
       "      <td>2005-03-16</td>\n",
       "      <td>8.3</td>\n",
       "      <td>7033</td>\n",
       "      <td>Michael's off color remark puts a sensitivity ...</td>\n",
       "    </tr>\n",
       "    <tr>\n",
       "      <th>2</th>\n",
       "      <td>1</td>\n",
       "      <td>3</td>\n",
       "      <td>Health Care</td>\n",
       "      <td>2005-04-05</td>\n",
       "      <td>7.7</td>\n",
       "      <td>5863</td>\n",
       "      <td>Michael leaves Dwight in charge of picking the...</td>\n",
       "    </tr>\n",
       "    <tr>\n",
       "      <th>3</th>\n",
       "      <td>1</td>\n",
       "      <td>4</td>\n",
       "      <td>The Alliance</td>\n",
       "      <td>2005-04-12</td>\n",
       "      <td>8.0</td>\n",
       "      <td>5674</td>\n",
       "      <td>Just for a laugh, Jim agrees to an alliance wi...</td>\n",
       "    </tr>\n",
       "    <tr>\n",
       "      <th>4</th>\n",
       "      <td>1</td>\n",
       "      <td>5</td>\n",
       "      <td>Basketball</td>\n",
       "      <td>2005-04-19</td>\n",
       "      <td>8.4</td>\n",
       "      <td>6301</td>\n",
       "      <td>Michael and his staff challenge the warehouse ...</td>\n",
       "    </tr>\n",
       "    <tr>\n",
       "      <th>...</th>\n",
       "      <td>...</td>\n",
       "      <td>...</td>\n",
       "      <td>...</td>\n",
       "      <td>...</td>\n",
       "      <td>...</td>\n",
       "      <td>...</td>\n",
       "      <td>...</td>\n",
       "    </tr>\n",
       "    <tr>\n",
       "      <th>183</th>\n",
       "      <td>9</td>\n",
       "      <td>19</td>\n",
       "      <td>Stairmageddon</td>\n",
       "      <td>2013-04-11</td>\n",
       "      <td>8.0</td>\n",
       "      <td>3006</td>\n",
       "      <td>Dwight shoots Stanley with a bull tranquilizer...</td>\n",
       "    </tr>\n",
       "    <tr>\n",
       "      <th>184</th>\n",
       "      <td>9</td>\n",
       "      <td>20</td>\n",
       "      <td>Paper Airplane</td>\n",
       "      <td>2013-04-25</td>\n",
       "      <td>8.0</td>\n",
       "      <td>3088</td>\n",
       "      <td>The employees hold a paper airplane competitio...</td>\n",
       "    </tr>\n",
       "    <tr>\n",
       "      <th>185</th>\n",
       "      <td>9</td>\n",
       "      <td>21</td>\n",
       "      <td>Livin' the Dream</td>\n",
       "      <td>2013-05-02</td>\n",
       "      <td>9.1</td>\n",
       "      <td>4525</td>\n",
       "      <td>Dwight becomes regional manager after Andy qui...</td>\n",
       "    </tr>\n",
       "    <tr>\n",
       "      <th>186</th>\n",
       "      <td>9</td>\n",
       "      <td>22</td>\n",
       "      <td>A.A.R.M.</td>\n",
       "      <td>2013-05-09</td>\n",
       "      <td>9.5</td>\n",
       "      <td>6032</td>\n",
       "      <td>Dwight prepares for a marriage proposal and hi...</td>\n",
       "    </tr>\n",
       "    <tr>\n",
       "      <th>187</th>\n",
       "      <td>9</td>\n",
       "      <td>23</td>\n",
       "      <td>Finale</td>\n",
       "      <td>2013-05-16</td>\n",
       "      <td>9.8</td>\n",
       "      <td>15499</td>\n",
       "      <td>One year later, Dunder Mifflin employees past ...</td>\n",
       "    </tr>\n",
       "  </tbody>\n",
       "</table>\n",
       "<p>188 rows × 7 columns</p>\n",
       "</div>"
      ],
      "text/plain": [
       "     season  episode_number             title     airdate  rating  \\\n",
       "0         1               1             Pilot  2005-03-24     7.4   \n",
       "1         1               2     Diversity Day  2005-03-16     8.3   \n",
       "2         1               3       Health Care  2005-04-05     7.7   \n",
       "3         1               4      The Alliance  2005-04-12     8.0   \n",
       "4         1               5        Basketball  2005-04-19     8.4   \n",
       "..      ...             ...               ...         ...     ...   \n",
       "183       9              19     Stairmageddon  2013-04-11     8.0   \n",
       "184       9              20    Paper Airplane  2013-04-25     8.0   \n",
       "185       9              21  Livin' the Dream  2013-05-02     9.1   \n",
       "186       9              22          A.A.R.M.  2013-05-09     9.5   \n",
       "187       9              23            Finale  2013-05-16     9.8   \n",
       "\n",
       "     total_votes                                               desc  \n",
       "0           7135  The premiere episode introduces the boss and s...  \n",
       "1           7033  Michael's off color remark puts a sensitivity ...  \n",
       "2           5863  Michael leaves Dwight in charge of picking the...  \n",
       "3           5674  Just for a laugh, Jim agrees to an alliance wi...  \n",
       "4           6301  Michael and his staff challenge the warehouse ...  \n",
       "..           ...                                                ...  \n",
       "183         3006  Dwight shoots Stanley with a bull tranquilizer...  \n",
       "184         3088  The employees hold a paper airplane competitio...  \n",
       "185         4525  Dwight becomes regional manager after Andy qui...  \n",
       "186         6032  Dwight prepares for a marriage proposal and hi...  \n",
       "187        15499  One year later, Dunder Mifflin employees past ...  \n",
       "\n",
       "[188 rows x 7 columns]"
      ]
     },
     "execution_count": 12,
     "metadata": {},
     "output_type": "execute_result"
    }
   ],
   "source": [
    "df_ratings"
   ]
  },
  {
   "cell_type": "code",
   "execution_count": 13,
   "metadata": {},
   "outputs": [
    {
     "name": "stderr",
     "output_type": "stream",
     "text": [
      "/Users/natashaklingenbrunn/opt/anaconda3/envs/social_graphs/lib/python3.8/site-packages/seaborn/_decorators.py:36: FutureWarning: Pass the following variables as keyword args: x, y. From version 0.12, the only valid positional argument will be `data`, and passing other arguments without an explicit keyword will result in an error or misinterpretation.\n",
      "  warnings.warn(\n"
     ]
    },
    {
     "data": {
      "image/png": "[encoded data removed]",
      "text/plain": [
       "<Figure size 432x288 with 1 Axes>"
      ]
     },
     "metadata": {
      "needs_background": "light"
     },
     "output_type": "display_data"
    }
   ],
   "source": [
    "ax = sns.lineplot(df_ratings.season, df_ratings.rating)\n",
    "ax.set_ylabel('IMDB Rating', fontsize=14)\n",
    "ax.set_xlabel('Season', fontsize=14)\n",
    "ax.set_title(f\"Average Rating per Season\", fontsize=18)\n",
    "sns.set(rc={'figure.figsize':(20,6)})"
   ]
  },
  {
   "cell_type": "code",
   "execution_count": 14,
   "metadata": {},
   "outputs": [],
   "source": [
    "ax.get_figure().savefig('images/ratings_seasons.png')"
   ]
  },
  {
   "cell_type": "markdown",
   "metadata": {},
   "source": [
    "We overall see the rating climb in seasons 1 and 2, then peak in seasons 3. Season 4 slightly decreases in the averageratings, yet has a much higher variance. Thus the quality between episodes themselves varies much more in this season. We see the decrease in ratings continue until season 7, where it climbs again, before a dramatic decline in season 8."
   ]
  },
  {
   "cell_type": "markdown",
   "metadata": {},
   "source": [
    "## Ratings by episode"
   ]
  },
  {
   "cell_type": "code",
   "execution_count": 15,
   "metadata": {},
   "outputs": [],
   "source": [
    "# top 5 best and worst episodes\n",
    "\n",
    "worst = df_ratings.sort_values(\"rating\", axis=0)[:3]\n",
    "best = df_ratings.sort_values(\"rating\", axis=0)[-3:]"
   ]
  },
  {
   "cell_type": "code",
   "execution_count": 16,
   "metadata": {},
   "outputs": [],
   "source": [
    "notable_episodes = {}\n",
    "\n",
    "for index, row in worst.iterrows():\n",
    "    notable_episodes[(index, row[\"rating\"])] = row[\"title\"]\n",
    "\n",
    "for index, row in best.iterrows():\n",
    "    notable_episodes[(index, row[\"rating\"])] = row[\"title\"]"
   ]
  },
  {
   "cell_type": "code",
   "execution_count": 17,
   "metadata": {},
   "outputs": [
    {
     "data": {
      "application/vnd.plotly.v1+json": {
       "config": {
        "plotlyServerURL": "https://plotly.com"
       },
       "data": [
        {
         "customdata": [
          [
           1,
           1,
           7135
          ],
          [
           2,
           1,
           7033
          ],
          [
           3,
           1,
           5863
          ],
          [
           4,
           1,
           5674
          ],
          [
           5,
           1,
           6301
          ],
          [
           6,
           1,
           5596
          ]
         ],
         "hovertemplate": "<b>%{hovertext}</b><br><br>Season =%{customdata[1]}<br>Episode rating =%{y}<br>Episode number =%{customdata[0]}<br>IMDb voters =%{customdata[2]}<extra></extra>",
         "hovertext": [
          "Pilot",
          "Diversity Day",
          "Health Care",
          "The Alliance",
          "Basketball",
          "Hot Girl"
         ],
         "legendgroup": "1",
         "line": {
          "color": "rgb(229, 134, 6)",
          "dash": "solid",
          "width": 2.5
         },
         "mode": "lines",
         "name": "1",
         "orientation": "v",
         "showlegend": true,
         "type": "scatter",
         "x": [
          0,
          1,
          2,
          3,
          4,
          5
         ],
         "xaxis": "x",
         "y": [
          7.4,
          8.3,
          7.7,
          8,
          8.4,
          7.7
         ],
         "yaxis": "y"
        },
        {
         "customdata": [
          [
           1,
           2,
           6311
          ],
          [
           2,
           2,
           5404
          ],
          [
           3,
           2,
           5350
          ],
          [
           4,
           2,
           5284
          ],
          [
           5,
           2,
           4953
          ],
          [
           6,
           2,
           4957
          ],
          [
           7,
           2,
           5226
          ],
          [
           8,
           2,
           4713
          ],
          [
           9,
           2,
           4850
          ],
          [
           10,
           2,
           5381
          ],
          [
           11,
           2,
           5185
          ],
          [
           12,
           2,
           6240
          ],
          [
           13,
           2,
           4606
          ],
          [
           14,
           2,
           4552
          ],
          [
           15,
           2,
           4519
          ],
          [
           16,
           2,
           4538
          ],
          [
           17,
           2,
           4826
          ],
          [
           18,
           2,
           4673
          ],
          [
           19,
           2,
           4510
          ],
          [
           20,
           2,
           4605
          ],
          [
           21,
           2,
           4713
          ],
          [
           22,
           2,
           6815
          ]
         ],
         "hovertemplate": "<b>%{hovertext}</b><br><br>Season =%{customdata[1]}<br>Episode rating =%{y}<br>Episode number =%{customdata[0]}<br>IMDb voters =%{customdata[2]}<extra></extra>",
         "hovertext": [
          "The Dundies",
          "Sexual Harassment",
          "Office Olympics",
          "The Fire",
          "Halloween",
          "The Fight",
          "The Client",
          "Performance Review",
          "E-Mail Surveillance",
          "Christmas Party",
          "Booze Cruise",
          "The Injury",
          "The Secret",
          "The Carpet",
          "Boys and Girls",
          "Valentine's Day",
          "Dwight's Speech",
          "Take Your Daughter to Work Day",
          "Michael's Birthday",
          "Drug Testing",
          "Conflict Resolution",
          "Casino Night"
         ],
         "legendgroup": "2",
         "line": {
          "color": "rgb(93, 105, 177)",
          "dash": "solid",
          "width": 2.5
         },
         "mode": "lines",
         "name": "2",
         "orientation": "v",
         "showlegend": true,
         "type": "scatter",
         "x": [
          6,
          7,
          8,
          9,
          10,
          11,
          12,
          13,
          14,
          15,
          16,
          17,
          18,
          19,
          20,
          21,
          22,
          23,
          24,
          25,
          26,
          27
         ],
         "xaxis": "x",
         "y": [
          8.7,
          8.2,
          8.3,
          8.3,
          8.1,
          8.1,
          8.6,
          8.1,
          8.4,
          8.9,
          8.6,
          9.1,
          8.2,
          7.8,
          8.1,
          8.3,
          8.4,
          8.3,
          8.1,
          8.4,
          8.7,
          9.4
         ],
         "yaxis": "y"
        },
        {
         "customdata": [
          [
           1,
           3,
           6057
          ],
          [
           2,
           3,
           4418
          ],
          [
           3,
           3,
           4631
          ],
          [
           4,
           3,
           4434
          ],
          [
           5,
           3,
           4316
          ],
          [
           6,
           3,
           4521
          ],
          [
           7,
           3,
           4442
          ],
          [
           8,
           3,
           4633
          ],
          [
           9,
           3,
           4640
          ],
          [
           10,
           3,
           4889
          ],
          [
           11,
           3,
           4407
          ],
          [
           12,
           3,
           4446
          ],
          [
           13,
           3,
           4672
          ],
          [
           14,
           3,
           4319
          ],
          [
           15,
           3,
           4376
          ],
          [
           16,
           3,
           5093
          ],
          [
           17,
           3,
           4324
          ],
          [
           18,
           3,
           4934
          ],
          [
           19,
           3,
           4596
          ],
          [
           20,
           3,
           4530
          ],
          [
           21,
           3,
           4596
          ],
          [
           22,
           3,
           5304
          ],
          [
           23,
           3,
           5593
          ]
         ],
         "hovertemplate": "<b>%{hovertext}</b><br><br>Season =%{customdata[1]}<br>Episode rating =%{y}<br>Episode number =%{customdata[0]}<br>IMDb voters =%{customdata[2]}<extra></extra>",
         "hovertext": [
          "Gay Witch Hunt",
          "The Convention",
          "The Coup",
          "Grief Counseling",
          "Initiation",
          "Diwali",
          "Branch Closing",
          "The Merger",
          "The Convict",
          "A Benihana Christmas",
          "Back from Vacation",
          "Traveling Salesmen",
          "The Return",
          "Ben Franklin",
          "Phyllis' Wedding",
          "Business School",
          "Cocktails",
          "The Negotiation",
          "Safety Training",
          "Product Recall",
          "Women's Appreciation",
          "Beach Games",
          "The Job"
         ],
         "legendgroup": "3",
         "line": {
          "color": "rgb(82, 188, 163)",
          "dash": "solid",
          "width": 2.5
         },
         "mode": "lines",
         "name": "3",
         "orientation": "v",
         "showlegend": true,
         "type": "scatter",
         "x": [
          28,
          29,
          30,
          31,
          32,
          33,
          34,
          35,
          36,
          37,
          38,
          39,
          40,
          41,
          42,
          43,
          44,
          45,
          46,
          47,
          48,
          49,
          50
         ],
         "xaxis": "x",
         "y": [
          9,
          8.2,
          8.5,
          8,
          8.1,
          7.9,
          8.6,
          8.7,
          8.3,
          8.8,
          8.6,
          8.6,
          8.8,
          8,
          8.2,
          8.9,
          8.5,
          9,
          8.8,
          8.7,
          8.8,
          9.2,
          9.3
         ],
         "yaxis": "y"
        },
        {
         "customdata": [
          [
           1,
           4,
           5157
          ],
          [
           2,
           4,
           4243
          ],
          [
           3,
           4,
           4132
          ],
          [
           4,
           4,
           4451
          ],
          [
           5,
           4,
           4568
          ],
          [
           6,
           4,
           4221
          ],
          [
           7,
           4,
           4059
          ],
          [
           8,
           4,
           4319
          ],
          [
           9,
           4,
           8377
          ],
          [
           10,
           4,
           3986
          ],
          [
           11,
           4,
           4148
          ],
          [
           12,
           4,
           3982
          ],
          [
           13,
           4,
           3812
          ],
          [
           14,
           4,
           5684
          ]
         ],
         "hovertemplate": "<b>%{hovertext}</b><br><br>Season =%{customdata[1]}<br>Episode rating =%{y}<br>Episode number =%{customdata[0]}<br>IMDb voters =%{customdata[2]}<extra></extra>",
         "hovertext": [
          "Fun Run",
          "Dunder Mifflin Infinity",
          "Launch Party",
          "Money",
          "Local Ad",
          "Branch Wars",
          "Survivor Man",
          "The Deposition",
          "Dinner Party",
          "Chair Model",
          "Night Out",
          "Did I Stutter?",
          "Job Fair",
          "Goodbye, Toby"
         ],
         "legendgroup": "4",
         "line": {
          "color": "rgb(153, 201, 69)",
          "dash": "solid",
          "width": 2.5
         },
         "mode": "lines",
         "name": "4",
         "orientation": "v",
         "showlegend": true,
         "type": "scatter",
         "x": [
          51,
          52,
          53,
          54,
          55,
          56,
          57,
          58,
          59,
          60,
          61,
          62,
          63,
          64
         ],
         "xaxis": "x",
         "y": [
          8.8,
          8.3,
          8.4,
          8.7,
          8.8,
          8.5,
          8.2,
          8.7,
          9.5,
          8,
          8.6,
          8.3,
          7.7,
          9.4
         ],
         "yaxis": "y"
        },
        {
         "customdata": [
          [
           1,
           5,
           4679
          ],
          [
           2,
           5,
           3833
          ],
          [
           3,
           5,
           3823
          ],
          [
           4,
           5,
           3678
          ],
          [
           5,
           5,
           3781
          ],
          [
           6,
           5,
           3950
          ],
          [
           7,
           5,
           3683
          ],
          [
           8,
           5,
           4109
          ],
          [
           9,
           5,
           4075
          ],
          [
           10,
           5,
           3814
          ],
          [
           11,
           5,
           3977
          ],
          [
           12,
           5,
           3833
          ],
          [
           13,
           5,
           12119
          ],
          [
           14,
           5,
           3652
          ],
          [
           15,
           5,
           3608
          ],
          [
           16,
           5,
           3614
          ],
          [
           17,
           5,
           3935
          ],
          [
           18,
           5,
           3680
          ],
          [
           19,
           5,
           3661
          ],
          [
           20,
           5,
           3649
          ],
          [
           21,
           5,
           4013
          ],
          [
           22,
           5,
           3775
          ],
          [
           23,
           5,
           5090
          ],
          [
           24,
           5,
           3616
          ],
          [
           25,
           5,
           4247
          ],
          [
           26,
           5,
           4322
          ]
         ],
         "hovertemplate": "<b>%{hovertext}</b><br><br>Season =%{customdata[1]}<br>Episode rating =%{y}<br>Episode number =%{customdata[0]}<br>IMDb voters =%{customdata[2]}<extra></extra>",
         "hovertext": [
          "Weight Loss",
          "Business Ethics",
          "Baby Shower",
          "Crime Aid",
          "Employee Transfer",
          "Customer Survey",
          "Business Trip",
          "Frame Toby",
          "The Surplus",
          "Moroccan Christmas",
          "The Duel",
          "Prince Family Paper",
          "Stress Relief",
          "Lecture Circuit: Part 1",
          "Lecture Circuit: Part 2",
          "Blood Drive",
          "Golden Ticket",
          "New Boss",
          "Two Weeks",
          "Dream Team",
          "Michael Scott Paper Company",
          "Heavy Competition",
          "Broke",
          "Casual Friday",
          "Cafe Disco",
          "Company Picnic"
         ],
         "legendgroup": "5",
         "line": {
          "color": "rgb(204, 97, 176)",
          "dash": "solid",
          "width": 2.5
         },
         "mode": "lines",
         "name": "5",
         "orientation": "v",
         "showlegend": true,
         "type": "scatter",
         "x": [
          65,
          66,
          67,
          68,
          69,
          70,
          71,
          72,
          73,
          74,
          75,
          76,
          77,
          78,
          79,
          80,
          81,
          82,
          83,
          84,
          85,
          86,
          87,
          88,
          89,
          90
         ],
         "xaxis": "x",
         "y": [
          8.8,
          8.2,
          8,
          8.1,
          8,
          8.5,
          8.2,
          8.6,
          8.7,
          8.3,
          8.7,
          8,
          9.7,
          8.2,
          8.1,
          8,
          8.7,
          8.3,
          8.4,
          8.3,
          8.7,
          8.7,
          9.3,
          8.3,
          8.8,
          9
         ],
         "yaxis": "y"
        },
        {
         "customdata": [
          [
           1,
           6,
           4261
          ],
          [
           2,
           6,
           3455
          ],
          [
           3,
           6,
           3442
          ],
          [
           4,
           6,
           6356
          ],
          [
           5,
           6,
           5222
          ],
          [
           6,
           6,
           3639
          ],
          [
           7,
           6,
           3825
          ],
          [
           8,
           6,
           3459
          ],
          [
           9,
           6,
           3421
          ],
          [
           10,
           6,
           4156
          ],
          [
           11,
           6,
           3456
          ],
          [
           12,
           6,
           3987
          ],
          [
           13,
           6,
           3650
          ],
          [
           14,
           6,
           4458
          ],
          [
           15,
           6,
           3325
          ],
          [
           16,
           6,
           3280
          ],
          [
           17,
           6,
           3503
          ],
          [
           18,
           6,
           3510
          ],
          [
           19,
           6,
           3236
          ],
          [
           20,
           6,
           3212
          ],
          [
           21,
           6,
           3675
          ],
          [
           22,
           6,
           3217
          ],
          [
           23,
           6,
           3235
          ],
          [
           24,
           6,
           3229
          ],
          [
           25,
           6,
           3117
          ],
          [
           26,
           6,
           3217
          ]
         ],
         "hovertemplate": "<b>%{hovertext}</b><br><br>Season =%{customdata[1]}<br>Episode rating =%{y}<br>Episode number =%{customdata[0]}<br>IMDb voters =%{customdata[2]}<extra></extra>",
         "hovertext": [
          "Gossip",
          "The Meeting",
          "The Promotion",
          "Niagara: Part 1",
          "Niagara: Part 2",
          "Mafia",
          "The Lover",
          "Koi Pond",
          "Double Date",
          "Murder",
          "Shareholder Meeting",
          "Scott's Tots",
          "Secret Santa",
          "The Banker",
          "Sabre",
          "Manager and Salesman",
          "The Delivery: Part 1",
          "The Delivery: Part 2",
          "St. Patrick's Day",
          "New Leads",
          "Happy Hour",
          "Secretary's Day",
          "Body Language",
          "The Cover-Up",
          "The Chump",
          "Whistleblower"
         ],
         "legendgroup": "6",
         "line": {
          "color": "rgb(36, 121, 108)",
          "dash": "solid",
          "width": 2.5
         },
         "mode": "lines",
         "name": "6",
         "orientation": "v",
         "showlegend": true,
         "type": "scatter",
         "x": [
          91,
          92,
          93,
          94,
          95,
          96,
          97,
          98,
          99,
          100,
          101,
          102,
          103,
          104,
          105,
          106,
          107,
          108,
          109,
          110,
          111,
          112,
          113,
          114,
          115,
          116
         ],
         "xaxis": "x",
         "y": [
          8.8,
          8.1,
          8,
          9.4,
          9.5,
          7.6,
          8.6,
          8.1,
          8.1,
          8.7,
          8.2,
          8.3,
          8.5,
          6.8,
          7.6,
          8,
          8.4,
          8.5,
          7.6,
          7.7,
          8.6,
          7.8,
          7.9,
          8.1,
          7.7,
          8
         ],
         "yaxis": "y"
        },
        {
         "customdata": [
          [
           1,
           7,
           3685
          ],
          [
           2,
           7,
           3345
          ],
          [
           3,
           7,
           3575
          ],
          [
           4,
           7,
           3289
          ],
          [
           5,
           7,
           3208
          ],
          [
           6,
           7,
           3339
          ],
          [
           7,
           7,
           3329
          ],
          [
           8,
           7,
           3277
          ],
          [
           9,
           7,
           3176
          ],
          [
           10,
           7,
           3361
          ],
          [
           11,
           7,
           4265
          ],
          [
           12,
           7,
           3390
          ],
          [
           13,
           7,
           3226
          ],
          [
           14,
           7,
           3567
          ],
          [
           15,
           7,
           3473
          ],
          [
           16,
           7,
           7384
          ],
          [
           17,
           7,
           3173
          ],
          [
           18,
           7,
           5670
          ],
          [
           19,
           7,
           3287
          ],
          [
           20,
           7,
           4662
          ],
          [
           21,
           7,
           12481
          ],
          [
           22,
           7,
           3268
          ],
          [
           23,
           7,
           3590
          ],
          [
           24,
           7,
           3785
          ]
         ],
         "hovertemplate": "<b>%{hovertext}</b><br><br>Season =%{customdata[1]}<br>Episode rating =%{y}<br>Episode number =%{customdata[0]}<br>IMDb voters =%{customdata[2]}<extra></extra>",
         "hovertext": [
          "Nepotism",
          "Counseling",
          "Andy's Play",
          "Sex Ed",
          "The Sting",
          "Costume Contest",
          "Christening",
          "Viewing Party",
          "WUPHF.com",
          "China",
          "Classy Christmas",
          "Ultimatum",
          "The Seminar",
          "The Search",
          "PDA",
          "Threat Level Midnight",
          "Todd Packer",
          "Garage Sale",
          "Training Day",
          "Michael's Last Dundies",
          "Goodbye, Michael",
          "The Inner Circle",
          "Dwight K. Schrute, (Acting) Manager",
          "Search Committee"
         ],
         "legendgroup": "7",
         "line": {
          "color": "rgb(218, 165, 27)",
          "dash": "solid",
          "width": 2.5
         },
         "mode": "lines",
         "name": "7",
         "orientation": "v",
         "showlegend": true,
         "type": "scatter",
         "x": [
          117,
          118,
          119,
          120,
          121,
          122,
          123,
          124,
          125,
          126,
          127,
          128,
          129,
          130,
          131,
          132,
          133,
          134,
          135,
          136,
          137,
          138,
          139,
          140
         ],
         "xaxis": "x",
         "y": [
          8.3,
          8.2,
          8.2,
          7.8,
          7.7,
          8.1,
          7.4,
          7.8,
          7.7,
          8.2,
          9,
          8.3,
          7.6,
          8.5,
          8.4,
          9.4,
          7.4,
          9.4,
          7.7,
          9,
          9.8,
          7.5,
          8.7,
          8.7
         ],
         "yaxis": "y"
        },
        {
         "customdata": [
          [
           1,
           8,
           3437
          ],
          [
           2,
           8,
           3253
          ],
          [
           3,
           8,
           3101
          ],
          [
           4,
           8,
           3401
          ],
          [
           5,
           8,
           3043
          ],
          [
           6,
           8,
           2926
          ],
          [
           7,
           8,
           3136
          ],
          [
           8,
           8,
           3152
          ],
          [
           9,
           8,
           3067
          ],
          [
           10,
           8,
           2997
          ],
          [
           11,
           8,
           2965
          ],
          [
           12,
           8,
           3216
          ],
          [
           13,
           8,
           2903
          ],
          [
           14,
           8,
           2828
          ],
          [
           15,
           8,
           2983
          ],
          [
           16,
           8,
           3095
          ],
          [
           17,
           8,
           2947
          ],
          [
           18,
           8,
           2873
          ],
          [
           19,
           8,
           3368
          ],
          [
           20,
           8,
           2969
          ],
          [
           21,
           8,
           3226
          ],
          [
           22,
           8,
           2856
          ],
          [
           23,
           8,
           2770
          ],
          [
           24,
           8,
           2891
          ]
         ],
         "hovertemplate": "<b>%{hovertext}</b><br><br>Season =%{customdata[1]}<br>Episode rating =%{y}<br>Episode number =%{customdata[0]}<br>IMDb voters =%{customdata[2]}<extra></extra>",
         "hovertext": [
          "The List",
          "The Incentive",
          "Lotto",
          "Garden Party",
          "Spooked",
          "Doomsday",
          "Pam's Replacement",
          "Gettysburg",
          "Mrs. California",
          "Christmas Wishes",
          "Trivia",
          "Pool Party",
          "Jury Duty",
          "Special Project",
          "Tallahassee",
          "After Hours",
          "Test the Store",
          "Last Day in Florida",
          "Get the Girl",
          "Welcome Party",
          "Angry Andy",
          "Fundraiser",
          "Turf War",
          "Free Family Portrait Studio"
         ],
         "legendgroup": "8",
         "line": {
          "color": "rgb(47, 138, 196)",
          "dash": "solid",
          "width": 2.5
         },
         "mode": "lines",
         "name": "8",
         "orientation": "v",
         "showlegend": true,
         "type": "scatter",
         "x": [
          141,
          142,
          143,
          144,
          145,
          146,
          147,
          148,
          149,
          150,
          151,
          152,
          153,
          154,
          155,
          156,
          157,
          158,
          159,
          160,
          161,
          162,
          163,
          164
         ],
         "xaxis": "x",
         "y": [
          8.1,
          8.1,
          7.2,
          8.1,
          7.5,
          7.6,
          7.7,
          6.8,
          7.6,
          7.9,
          7.9,
          8,
          7.4,
          7.6,
          7.8,
          8.1,
          7.8,
          7.8,
          6.4,
          7,
          6.8,
          7,
          7.6,
          7.7
         ],
         "yaxis": "y"
        },
        {
         "customdata": [
          [
           1,
           9,
           3106
          ],
          [
           2,
           9,
           2965
          ],
          [
           3,
           9,
           2925
          ],
          [
           4,
           9,
           3113
          ],
          [
           5,
           9,
           3022
          ],
          [
           6,
           9,
           2959
          ],
          [
           7,
           9,
           2832
          ],
          [
           8,
           9,
           2959
          ],
          [
           9,
           9,
           3339
          ],
          [
           10,
           9,
           2929
          ],
          [
           11,
           9,
           2877
          ],
          [
           12,
           9,
           2969
          ],
          [
           13,
           9,
           2807
          ],
          [
           14,
           9,
           2817
          ],
          [
           15,
           9,
           2873
          ],
          [
           16,
           9,
           3116
          ],
          [
           17,
           9,
           3282
          ],
          [
           18,
           9,
           2897
          ],
          [
           19,
           9,
           3006
          ],
          [
           20,
           9,
           3088
          ],
          [
           21,
           9,
           4525
          ],
          [
           22,
           9,
           6032
          ],
          [
           23,
           9,
           15499
          ]
         ],
         "hovertemplate": "<b>%{hovertext}</b><br><br>Season =%{customdata[1]}<br>Episode rating =%{y}<br>Episode number =%{customdata[0]}<br>IMDb voters =%{customdata[2]}<extra></extra>",
         "hovertext": [
          "New Guys",
          "Roy's Wedding",
          "Andy's Ancestry",
          "Work Bus",
          "Here Comes Treble",
          "The Boat",
          "The Whale",
          "The Target",
          "Dwight Christmas",
          "Lice",
          "Suit Warehouse",
          "Customer Loyalty",
          "Junior Salesman",
          "Vandalism",
          "Couples Discount",
          "Moving On",
          "The Farm",
          "Promos",
          "Stairmageddon",
          "Paper Airplane",
          "Livin' the Dream",
          "A.A.R.M.",
          "Finale"
         ],
         "legendgroup": "9",
         "line": {
          "color": "rgb(118, 78, 159)",
          "dash": "solid",
          "width": 2.5
         },
         "mode": "lines",
         "name": "9",
         "orientation": "v",
         "showlegend": true,
         "type": "scatter",
         "x": [
          165,
          166,
          167,
          168,
          169,
          170,
          171,
          172,
          173,
          174,
          175,
          176,
          177,
          178,
          179,
          180,
          181,
          182,
          183,
          184,
          185,
          186,
          187
         ],
         "xaxis": "x",
         "y": [
          7.5,
          7.1,
          7.3,
          7.8,
          6.9,
          7.7,
          7.6,
          7.8,
          8.4,
          7.6,
          7.8,
          7.9,
          7.5,
          7.4,
          7.2,
          8,
          7.5,
          7.9,
          8,
          8,
          9.1,
          9.5,
          9.8
         ],
         "yaxis": "y"
        },
        {
         "hoverinfo": "skip",
         "line": {
          "width": 2.5
         },
         "marker": {
          "color": "black",
          "line": {
           "color": "black",
           "width": 2
          },
          "size": 5
         },
         "mode": "markers",
         "type": "scatter",
         "x": [
          159,
          161,
          104
         ],
         "y": [
          6.4,
          6.8,
          6.8
         ]
        },
        {
         "hoverinfo": "skip",
         "line": {
          "width": 2.5
         },
         "marker": {
          "color": "black",
          "line": {
           "color": "black",
           "width": 2
          },
          "size": 5
         },
         "mode": "markers",
         "type": "scatter",
         "x": [
          77,
          137,
          187
         ],
         "y": [
          9.7,
          9.8,
          9.8
         ]
        }
       ],
       "layout": {
        "annotations": [
         {
          "bgcolor": "white",
          "font": {
           "size": 13
          },
          "height": 12,
          "showarrow": false,
          "text": "Season 1",
          "textangle": -90,
          "x": 0.74,
          "xanchor": "left",
          "xref": "x",
          "y": 0.125,
          "yanchor": "top",
          "yref": "y domain"
         },
         {
          "bgcolor": "white",
          "font": {
           "size": 13
          },
          "height": 12,
          "showarrow": false,
          "text": "Season 2",
          "x": 5,
          "xanchor": "left",
          "xref": "x",
          "y": 0.035,
          "yanchor": "top",
          "yref": "y domain"
         },
         {
          "bgcolor": "white",
          "font": {
           "size": 13
          },
          "height": 12,
          "showarrow": false,
          "text": "Season 3",
          "x": 27,
          "xanchor": "left",
          "xref": "x",
          "y": 0.035,
          "yanchor": "top",
          "yref": "y domain"
         },
         {
          "bgcolor": "white",
          "font": {
           "size": 13
          },
          "height": 12,
          "showarrow": false,
          "text": "Season 4",
          "x": 50,
          "xanchor": "left",
          "xref": "x",
          "y": 0.035,
          "yanchor": "top",
          "yref": "y domain"
         },
         {
          "bgcolor": "white",
          "font": {
           "size": 13
          },
          "height": 12,
          "showarrow": false,
          "text": "Season 5",
          "x": 64,
          "xanchor": "left",
          "xref": "x",
          "y": 0.035,
          "yanchor": "top",
          "yref": "y domain"
         },
         {
          "bgcolor": "white",
          "font": {
           "size": 13
          },
          "height": 12,
          "showarrow": false,
          "text": "Season 6",
          "x": 90,
          "xanchor": "left",
          "xref": "x",
          "y": 0.035,
          "yanchor": "top",
          "yref": "y domain"
         },
         {
          "bgcolor": "white",
          "font": {
           "size": 13
          },
          "height": 12,
          "showarrow": false,
          "text": "Season 7",
          "x": 116,
          "xanchor": "left",
          "xref": "x",
          "y": 0.035,
          "yanchor": "top",
          "yref": "y domain"
         },
         {
          "bgcolor": "white",
          "font": {
           "size": 13
          },
          "height": 12,
          "showarrow": false,
          "text": "Season 8",
          "x": 140,
          "xanchor": "left",
          "xref": "x",
          "y": 0.035,
          "yanchor": "top",
          "yref": "y domain"
         },
         {
          "bgcolor": "white",
          "font": {
           "size": 13
          },
          "height": 12,
          "showarrow": false,
          "text": "Season 9",
          "x": 164,
          "xanchor": "left",
          "xref": "x",
          "y": 0.035,
          "yanchor": "top",
          "yref": "y domain"
         },
         {
          "arrowhead": 4,
          "ax": 0.9,
          "axref": "x domain",
          "ay": 9.82,
          "ayref": "y",
          "bgcolor": "white",
          "font": {
           "size": 13
          },
          "height": 35,
          "text": "Final episode<br>(Michael's cameo)",
          "x": 0.99,
          "xref": "x domain",
          "y": 9.8,
          "yref": "y"
         },
         {
          "arrowhead": 4,
          "ax": 0.63,
          "axref": "x domain",
          "ay": 9.82,
          "ayref": "y",
          "bgcolor": "white",
          "font": {
           "size": 13
          },
          "height": 35,
          "text": "Michael's farewell<br>episode",
          "x": 0.725,
          "xref": "x domain",
          "y": 9.8,
          "yref": "y"
         },
         {
          "arrowhead": 4,
          "ax": 0.46,
          "axref": "x domain",
          "ay": 6.96,
          "ayref": "y",
          "bgcolor": "white",
          "font": {
           "size": 13
          },
          "height": 35,
          "text": "Previous clips <br>compilation episode",
          "x": 0.549,
          "xref": "x domain",
          "y": 6.8,
          "yref": "y"
         },
         {
          "arrowhead": 4,
          "ax": 0.94,
          "axref": "x domain",
          "ay": 6.53,
          "ayref": "y",
          "bgcolor": "white",
          "font": {
           "size": 13
          },
          "height": 35,
          "text": "Nellie <br>episode",
          "x": 0.85,
          "xref": "x domain",
          "y": 6.41,
          "yref": "y"
         }
        ],
        "height": 600,
        "legend": {
         "title": {
          "text": "Season "
         },
         "tracegroupgap": 0
        },
        "margin": {
         "b": 30,
         "l": 0,
         "r": 30,
         "t": 35
        },
        "shapes": [
         {
          "line": {
           "color": "grey",
           "dash": "dash",
           "width": 0
          },
          "type": "line",
          "x0": 0,
          "x1": 0,
          "xref": "x",
          "y0": 0,
          "y1": 1,
          "yref": "y domain"
         },
         {
          "line": {
           "color": "grey",
           "dash": "dash",
           "width": 1.5
          },
          "type": "line",
          "x0": 187,
          "x1": 187,
          "xref": "x",
          "y0": 0,
          "y1": 1,
          "yref": "y domain"
         },
         {
          "line": {
           "color": "grey",
           "dash": "dash",
           "width": 1.5
          },
          "type": "line",
          "x0": 5,
          "x1": 5,
          "xref": "x",
          "y0": 0,
          "y1": 1,
          "yref": "y domain"
         },
         {
          "line": {
           "color": "grey",
           "dash": "dash",
           "width": 1.5
          },
          "type": "line",
          "x0": 27,
          "x1": 27,
          "xref": "x",
          "y0": 0,
          "y1": 1,
          "yref": "y domain"
         },
         {
          "line": {
           "color": "grey",
           "dash": "dash",
           "width": 1.5
          },
          "type": "line",
          "x0": 50,
          "x1": 50,
          "xref": "x",
          "y0": 0,
          "y1": 1,
          "yref": "y domain"
         },
         {
          "line": {
           "color": "grey",
           "dash": "dash",
           "width": 1.5
          },
          "type": "line",
          "x0": 64,
          "x1": 64,
          "xref": "x",
          "y0": 0,
          "y1": 1,
          "yref": "y domain"
         },
         {
          "line": {
           "color": "grey",
           "dash": "dash",
           "width": 1.5
          },
          "type": "line",
          "x0": 90,
          "x1": 90,
          "xref": "x",
          "y0": 0,
          "y1": 1,
          "yref": "y domain"
         },
         {
          "line": {
           "color": "grey",
           "dash": "dash",
           "width": 1.5
          },
          "type": "line",
          "x0": 116,
          "x1": 116,
          "xref": "x",
          "y0": 0,
          "y1": 1,
          "yref": "y domain"
         },
         {
          "line": {
           "color": "grey",
           "dash": "dash",
           "width": 1.5
          },
          "type": "line",
          "x0": 140,
          "x1": 140,
          "xref": "x",
          "y0": 0,
          "y1": 1,
          "yref": "y domain"
         },
         {
          "line": {
           "color": "grey",
           "dash": "dash",
           "width": 1.5
          },
          "type": "line",
          "x0": 164,
          "x1": 164,
          "xref": "x",
          "y0": 0,
          "y1": 1,
          "yref": "y domain"
         }
        ],
        "showlegend": false,
        "template": {
         "data": {
          "bar": [
           {
            "error_x": {
             "color": "#2a3f5f"
            },
            "error_y": {
             "color": "#2a3f5f"
            },
            "marker": {
             "line": {
              "color": "#E5ECF6",
              "width": 0.5
             },
             "pattern": {
              "fillmode": "overlay",
              "size": 10,
              "solidity": 0.2
             }
            },
            "type": "bar"
           }
          ],
          "barpolar": [
           {
            "marker": {
             "line": {
              "color": "#E5ECF6",
              "width": 0.5
             },
             "pattern": {
              "fillmode": "overlay",
              "size": 10,
              "solidity": 0.2
             }
            },
            "type": "barpolar"
           }
          ],
          "carpet": [
           {
            "aaxis": {
             "endlinecolor": "#2a3f5f",
             "gridcolor": "white",
             "linecolor": "white",
             "minorgridcolor": "white",
             "startlinecolor": "#2a3f5f"
            },
            "baxis": {
             "endlinecolor": "#2a3f5f",
             "gridcolor": "white",
             "linecolor": "white",
             "minorgridcolor": "white",
             "startlinecolor": "#2a3f5f"
            },
            "type": "carpet"
           }
          ],
          "choropleth": [
           {
            "colorbar": {
             "outlinewidth": 0,
             "ticks": ""
            },
            "type": "choropleth"
           }
          ],
          "contour": [
           {
            "colorbar": {
             "outlinewidth": 0,
             "ticks": ""
            },
            "colorscale": [
             [
              0,
              "#0d0887"
             ],
             [
              0.1111111111111111,
              "#46039f"
             ],
             [
              0.2222222222222222,
              "#7201a8"
             ],
             [
              0.3333333333333333,
              "#9c179e"
             ],
             [
              0.4444444444444444,
              "#bd3786"
             ],
             [
              0.5555555555555556,
              "#d8576b"
             ],
             [
              0.6666666666666666,
              "#ed7953"
             ],
             [
              0.7777777777777778,
              "#fb9f3a"
             ],
             [
              0.8888888888888888,
              "#fdca26"
             ],
             [
              1,
              "#f0f921"
             ]
            ],
            "type": "contour"
           }
          ],
          "contourcarpet": [
           {
            "colorbar": {
             "outlinewidth": 0,
             "ticks": ""
            },
            "type": "contourcarpet"
           }
          ],
          "heatmap": [
           {
            "colorbar": {
             "outlinewidth": 0,
             "ticks": ""
            },
            "colorscale": [
             [
              0,
              "#0d0887"
             ],
             [
              0.1111111111111111,
              "#46039f"
             ],
             [
              0.2222222222222222,
              "#7201a8"
             ],
             [
              0.3333333333333333,
              "#9c179e"
             ],
             [
              0.4444444444444444,
              "#bd3786"
             ],
             [
              0.5555555555555556,
              "#d8576b"
             ],
             [
              0.6666666666666666,
              "#ed7953"
             ],
             [
              0.7777777777777778,
              "#fb9f3a"
             ],
             [
              0.8888888888888888,
              "#fdca26"
             ],
             [
              1,
              "#f0f921"
             ]
            ],
            "type": "heatmap"
           }
          ],
          "heatmapgl": [
           {
            "colorbar": {
             "outlinewidth": 0,
             "ticks": ""
            },
            "colorscale": [
             [
              0,
              "#0d0887"
             ],
             [
              0.1111111111111111,
              "#46039f"
             ],
             [
              0.2222222222222222,
              "#7201a8"
             ],
             [
              0.3333333333333333,
              "#9c179e"
             ],
             [
              0.4444444444444444,
              "#bd3786"
             ],
             [
              0.5555555555555556,
              "#d8576b"
             ],
             [
              0.6666666666666666,
              "#ed7953"
             ],
             [
              0.7777777777777778,
              "#fb9f3a"
             ],
             [
              0.8888888888888888,
              "#fdca26"
             ],
             [
              1,
              "#f0f921"
             ]
            ],
            "type": "heatmapgl"
           }
          ],
          "histogram": [
           {
            "marker": {
             "pattern": {
              "fillmode": "overlay",
              "size": 10,
              "solidity": 0.2
             }
            },
            "type": "histogram"
           }
          ],
          "histogram2d": [
           {
            "colorbar": {
             "outlinewidth": 0,
             "ticks": ""
            },
            "colorscale": [
             [
              0,
              "#0d0887"
             ],
             [
              0.1111111111111111,
              "#46039f"
             ],
             [
              0.2222222222222222,
              "#7201a8"
             ],
             [
              0.3333333333333333,
              "#9c179e"
             ],
             [
              0.4444444444444444,
              "#bd3786"
             ],
             [
              0.5555555555555556,
              "#d8576b"
             ],
             [
              0.6666666666666666,
              "#ed7953"
             ],
             [
              0.7777777777777778,
              "#fb9f3a"
             ],
             [
              0.8888888888888888,
              "#fdca26"
             ],
             [
              1,
              "#f0f921"
             ]
            ],
            "type": "histogram2d"
           }
          ],
          "histogram2dcontour": [
           {
            "colorbar": {
             "outlinewidth": 0,
             "ticks": ""
            },
            "colorscale": [
             [
              0,
              "#0d0887"
             ],
             [
              0.1111111111111111,
              "#46039f"
             ],
             [
              0.2222222222222222,
              "#7201a8"
             ],
             [
              0.3333333333333333,
              "#9c179e"
             ],
             [
              0.4444444444444444,
              "#bd3786"
             ],
             [
              0.5555555555555556,
              "#d8576b"
             ],
             [
              0.6666666666666666,
              "#ed7953"
             ],
             [
              0.7777777777777778,
              "#fb9f3a"
             ],
             [
              0.8888888888888888,
              "#fdca26"
             ],
             [
              1,
              "#f0f921"
             ]
            ],
            "type": "histogram2dcontour"
           }
          ],
          "mesh3d": [
           {
            "colorbar": {
             "outlinewidth": 0,
             "ticks": ""
            },
            "type": "mesh3d"
           }
          ],
          "parcoords": [
           {
            "line": {
             "colorbar": {
              "outlinewidth": 0,
              "ticks": ""
             }
            },
            "type": "parcoords"
           }
          ],
          "pie": [
           {
            "automargin": true,
            "type": "pie"
           }
          ],
          "scatter": [
           {
            "marker": {
             "colorbar": {
              "outlinewidth": 0,
              "ticks": ""
             }
            },
            "type": "scatter"
           }
          ],
          "scatter3d": [
           {
            "line": {
             "colorbar": {
              "outlinewidth": 0,
              "ticks": ""
             }
            },
            "marker": {
             "colorbar": {
              "outlinewidth": 0,
              "ticks": ""
             }
            },
            "type": "scatter3d"
           }
          ],
          "scattercarpet": [
           {
            "marker": {
             "colorbar": {
              "outlinewidth": 0,
              "ticks": ""
             }
            },
            "type": "scattercarpet"
           }
          ],
          "scattergeo": [
           {
            "marker": {
             "colorbar": {
              "outlinewidth": 0,
              "ticks": ""
             }
            },
            "type": "scattergeo"
           }
          ],
          "scattergl": [
           {
            "marker": {
             "colorbar": {
              "outlinewidth": 0,
              "ticks": ""
             }
            },
            "type": "scattergl"
           }
          ],
          "scattermapbox": [
           {
            "marker": {
             "colorbar": {
              "outlinewidth": 0,
              "ticks": ""
             }
            },
            "type": "scattermapbox"
           }
          ],
          "scatterpolar": [
           {
            "marker": {
             "colorbar": {
              "outlinewidth": 0,
              "ticks": ""
             }
            },
            "type": "scatterpolar"
           }
          ],
          "scatterpolargl": [
           {
            "marker": {
             "colorbar": {
              "outlinewidth": 0,
              "ticks": ""
             }
            },
            "type": "scatterpolargl"
           }
          ],
          "scatterternary": [
           {
            "marker": {
             "colorbar": {
              "outlinewidth": 0,
              "ticks": ""
             }
            },
            "type": "scatterternary"
           }
          ],
          "surface": [
           {
            "colorbar": {
             "outlinewidth": 0,
             "ticks": ""
            },
            "colorscale": [
             [
              0,
              "#0d0887"
             ],
             [
              0.1111111111111111,
              "#46039f"
             ],
             [
              0.2222222222222222,
              "#7201a8"
             ],
             [
              0.3333333333333333,
              "#9c179e"
             ],
             [
              0.4444444444444444,
              "#bd3786"
             ],
             [
              0.5555555555555556,
              "#d8576b"
             ],
             [
              0.6666666666666666,
              "#ed7953"
             ],
             [
              0.7777777777777778,
              "#fb9f3a"
             ],
             [
              0.8888888888888888,
              "#fdca26"
             ],
             [
              1,
              "#f0f921"
             ]
            ],
            "type": "surface"
           }
          ],
          "table": [
           {
            "cells": {
             "fill": {
              "color": "#EBF0F8"
             },
             "line": {
              "color": "white"
             }
            },
            "header": {
             "fill": {
              "color": "#C8D4E3"
             },
             "line": {
              "color": "white"
             }
            },
            "type": "table"
           }
          ]
         },
         "layout": {
          "annotationdefaults": {
           "arrowcolor": "#2a3f5f",
           "arrowhead": 0,
           "arrowwidth": 1
          },
          "autotypenumbers": "strict",
          "coloraxis": {
           "colorbar": {
            "outlinewidth": 0,
            "ticks": ""
           }
          },
          "colorscale": {
           "diverging": [
            [
             0,
             "#8e0152"
            ],
            [
             0.1,
             "#c51b7d"
            ],
            [
             0.2,
             "#de77ae"
            ],
            [
             0.3,
             "#f1b6da"
            ],
            [
             0.4,
             "#fde0ef"
            ],
            [
             0.5,
             "#f7f7f7"
            ],
            [
             0.6,
             "#e6f5d0"
            ],
            [
             0.7,
             "#b8e186"
            ],
            [
             0.8,
             "#7fbc41"
            ],
            [
             0.9,
             "#4d9221"
            ],
            [
             1,
             "#276419"
            ]
           ],
           "sequential": [
            [
             0,
             "#0d0887"
            ],
            [
             0.1111111111111111,
             "#46039f"
            ],
            [
             0.2222222222222222,
             "#7201a8"
            ],
            [
             0.3333333333333333,
             "#9c179e"
            ],
            [
             0.4444444444444444,
             "#bd3786"
            ],
            [
             0.5555555555555556,
             "#d8576b"
            ],
            [
             0.6666666666666666,
             "#ed7953"
            ],
            [
             0.7777777777777778,
             "#fb9f3a"
            ],
            [
             0.8888888888888888,
             "#fdca26"
            ],
            [
             1,
             "#f0f921"
            ]
           ],
           "sequentialminus": [
            [
             0,
             "#0d0887"
            ],
            [
             0.1111111111111111,
             "#46039f"
            ],
            [
             0.2222222222222222,
             "#7201a8"
            ],
            [
             0.3333333333333333,
             "#9c179e"
            ],
            [
             0.4444444444444444,
             "#bd3786"
            ],
            [
             0.5555555555555556,
             "#d8576b"
            ],
            [
             0.6666666666666666,
             "#ed7953"
            ],
            [
             0.7777777777777778,
             "#fb9f3a"
            ],
            [
             0.8888888888888888,
             "#fdca26"
            ],
            [
             1,
             "#f0f921"
            ]
           ]
          },
          "colorway": [
           "#636efa",
           "#EF553B",
           "#00cc96",
           "#ab63fa",
           "#FFA15A",
           "#19d3f3",
           "#FF6692",
           "#B6E880",
           "#FF97FF",
           "#FECB52"
          ],
          "font": {
           "color": "#2a3f5f"
          },
          "geo": {
           "bgcolor": "white",
           "lakecolor": "white",
           "landcolor": "#E5ECF6",
           "showlakes": true,
           "showland": true,
           "subunitcolor": "white"
          },
          "hoverlabel": {
           "align": "left"
          },
          "hovermode": "closest",
          "mapbox": {
           "style": "light"
          },
          "paper_bgcolor": "white",
          "plot_bgcolor": "#E5ECF6",
          "polar": {
           "angularaxis": {
            "gridcolor": "white",
            "linecolor": "white",
            "ticks": ""
           },
           "bgcolor": "#E5ECF6",
           "radialaxis": {
            "gridcolor": "white",
            "linecolor": "white",
            "ticks": ""
           }
          },
          "scene": {
           "xaxis": {
            "backgroundcolor": "#E5ECF6",
            "gridcolor": "white",
            "gridwidth": 2,
            "linecolor": "white",
            "showbackground": true,
            "ticks": "",
            "zerolinecolor": "white"
           },
           "yaxis": {
            "backgroundcolor": "#E5ECF6",
            "gridcolor": "white",
            "gridwidth": 2,
            "linecolor": "white",
            "showbackground": true,
            "ticks": "",
            "zerolinecolor": "white"
           },
           "zaxis": {
            "backgroundcolor": "#E5ECF6",
            "gridcolor": "white",
            "gridwidth": 2,
            "linecolor": "white",
            "showbackground": true,
            "ticks": "",
            "zerolinecolor": "white"
           }
          },
          "shapedefaults": {
           "line": {
            "color": "#2a3f5f"
           }
          },
          "ternary": {
           "aaxis": {
            "gridcolor": "white",
            "linecolor": "white",
            "ticks": ""
           },
           "baxis": {
            "gridcolor": "white",
            "linecolor": "white",
            "ticks": ""
           },
           "bgcolor": "#E5ECF6",
           "caxis": {
            "gridcolor": "white",
            "linecolor": "white",
            "ticks": ""
           }
          },
          "title": {
           "x": 0.05
          },
          "xaxis": {
           "automargin": true,
           "gridcolor": "white",
           "linecolor": "white",
           "ticks": "",
           "title": {
            "standoff": 15
           },
           "zerolinecolor": "white",
           "zerolinewidth": 2
          },
          "yaxis": {
           "automargin": true,
           "gridcolor": "white",
           "linecolor": "white",
           "ticks": "",
           "title": {
            "standoff": 15
           },
           "zerolinecolor": "white",
           "zerolinewidth": 2
          }
         }
        },
        "title": {
         "font": {
          "size": 22
         },
         "text": "IMDb ratings of all The Office episodes",
         "x": 0.5
        },
        "width": 700,
        "xaxis": {
         "anchor": "y",
         "domain": [
          0,
          1
         ],
         "range": [
          0,
          188
         ],
         "tickfont": {
          "size": 16
         },
         "tickmode": "array",
         "ticktext": [
          1,
          6,
          28,
          51,
          65,
          91,
          117,
          141,
          165,
          188
         ],
         "tickvals": [
          0,
          5,
          27,
          50,
          64,
          90,
          116,
          140,
          164,
          187
         ],
         "title": {
          "font": {
           "size": 18
          },
          "text": "Episode number"
         }
        },
        "yaxis": {
         "anchor": "x",
         "domain": [
          0,
          1
         ],
         "tickfont": {
          "size": 16
         },
         "title": {
          "font": {
           "size": 18
          },
          "text": "Episode rating "
         }
        }
       }
      }
     },
     "metadata": {},
     "output_type": "display_data"
    }
   ],
   "source": [
    "df_ratings[\"Episode_in_series\"]=df_ratings.reset_index().index\n",
    "season_change = [i for i in range(len(df_ratings) -1) if df_ratings.season[i] != df_ratings.season[i+1]]\n",
    "#Plot episode ratings \n",
    "fig = px.line(df_ratings,x=\"Episode_in_series\",y='rating',color=\"season\",\n",
    "              color_discrete_sequence=px.colors.qualitative.Vivid, width=1000, height=600,\n",
    "              hover_name=\"title\",hover_data={\"episode_number\":True,\"rating\":True,'Episode_in_series':False, \"season\":True, \"total_votes\":True},\n",
    "             labels={\"episode_number\": \"Episode number \",\"rating\": \"Episode rating \",\"season\": \"Season \",\"total_votes\": \"IMDb voters \",\"Episode_in_series\": \"Episode number\"},\n",
    "                title=\"IMDb ratings of all The Office episodes\")\n",
    "#Add vertical lines with annotations\n",
    "fig.add_vline(x=0, line_width=0, line_dash=\"dash\", line_color=\"grey\", \n",
    "    annotation_text=\"Season 1\", annotation_font_size=13, annotation_bgcolor=\"white\", annotation_y=0.125, annotation_x=0.74,\n",
    "    annotation_textangle=-90, annotation_height=12,annotation_yanchor=\"top\")\n",
    "fig.add_vline(x=187, line_width=1.5, line_dash=\"dash\", line_color=\"grey\")\n",
    "for i, season in enumerate(season_change):\n",
    "    fig.add_vline(x=season, line_width=1.5, line_dash=\"dash\", line_color=\"grey\", \n",
    "    annotation_text=f\"Season {i+2}\", annotation_font_size=13, annotation_bgcolor=\"white\", annotation_y=0.035, annotation_height=12)\n",
    "#Change layout\n",
    "fig.update_layout(title_text='Ratings for each season', width=700)\n",
    "layout = dict(xaxis=dict(tickmode=\"array\",tickvals=[0,5, 27, 50, 64, 90, 116, 140, 164,187], ticktext=[1,6, 28, 51, 65, 91, 117, 141, 165,188],))\n",
    "fig.add_traces(go.Scatter(x=worst.index, y=worst[\"rating\"], mode=\"markers\", hoverinfo=\"skip\"))\n",
    "fig.add_traces(go.Scatter(x=best.index, y=best[\"rating\"], mode=\"markers\", hoverinfo=\"skip\"))\n",
    "fig.update_traces(marker=dict(color='black',size=5,line=dict(width=2, color='black')), selector=dict(mode='markers'))\n",
    "fig.update_layout(title_text='IMDb ratings of all The Office episodes',title_x=0.5,title_font_size=22)\n",
    "fig.update_layout(yaxis = dict(tickfont = dict(size=16)),xaxis = dict(tickfont = dict(size=16)))\n",
    "fig.for_each_xaxis(lambda axis: axis.title.update(font=dict(size=18)))\n",
    "fig.for_each_yaxis(lambda axis: axis.title.update(font=dict(size=18)))\n",
    "fig.update_traces(line=dict(width=2.5))\n",
    "fig.update_layout(layout)\n",
    "fig.update_layout(go.Layout(margin=go.layout.Margin(l=0, r=30, b=30, t=35)))\n",
    "#Add annotations for two worst and two best episodes\n",
    "fig.add_annotation(xref=\"x domain\",yref=\"y\",x=0.99,y=9.8,text=\"Final episode<br>(Michael's cameo)\",\n",
    "    axref=\"x domain\", bgcolor=\"white\",font_size=13,height=35, ayref=\"y\", ax=0.9,ay=9.82,arrowhead=4,)\n",
    "fig.add_annotation(xref=\"x domain\",yref=\"y\",x=0.725,y=9.8,text=\"Michael's farewell<br>episode\",\n",
    "    axref=\"x domain\", bgcolor=\"white\",font_size=13,height=35, ayref=\"y\", ax=0.63,ay=9.82,arrowhead=4,)\n",
    "fig.add_annotation(xref=\"x domain\",yref=\"y\",x=0.549,y=6.8,text=\"Previous clips <br>compilation episode\",\n",
    "    axref=\"x domain\", bgcolor=\"white\",font_size=13,height=35, ayref=\"y\", ax=0.46,ay=6.96,arrowhead=4,)\n",
    "fig.add_annotation(xref=\"x domain\",yref=\"y\",x=0.85,y=6.41,text=\"Nellie <br>episode\",\n",
    "    axref=\"x domain\", bgcolor=\"white\",font_size=13,height=35, ayref=\"y\", ax=0.94,ay=6.53,arrowhead=4,)\n",
    "fig.update_layout(showlegend=False)\n",
    "fig.update_xaxes(range=[0,188])\n",
    "fig.show()"
   ]
  },
  {
   "cell_type": "code",
   "execution_count": 18,
   "metadata": {},
   "outputs": [
    {
     "data": {
      "text/plain": [
       "'images/ratings_per_ep.html'"
      ]
     },
     "execution_count": 18,
     "metadata": {},
     "output_type": "execute_result"
    }
   ],
   "source": [
    "import plotly\n",
    "plotly.offline.plot(fig, filename='images/ratings_per_ep.html')"
   ]
  },
  {
   "cell_type": "code",
   "execution_count": 19,
   "metadata": {},
   "outputs": [
    {
     "data": {
      "application/vnd.plotly.v1+json": {
       "config": {
        "plotlyServerURL": "https://plot.ly"
       },
       "data": [
        {
         "hovertemplate": "<b>%{hovertext}</b><br><br>x=%{x}<br>rating=%{y}<extra></extra>",
         "hovertext": [
          "Pilot",
          "Diversity Day",
          "Health Care",
          "The Alliance",
          "Basketball",
          "Hot Girl",
          "The Dundies",
          "Sexual Harassment",
          "Office Olympics",
          "The Fire",
          "Halloween",
          "The Fight",
          "The Client",
          "Performance Review",
          "E-Mail Surveillance",
          "Christmas Party",
          "Booze Cruise",
          "The Injury",
          "The Secret",
          "The Carpet",
          "Boys and Girls",
          "Valentine's Day",
          "Dwight's Speech",
          "Take Your Daughter to Work Day",
          "Michael's Birthday",
          "Drug Testing",
          "Conflict Resolution",
          "Casino Night",
          "Gay Witch Hunt",
          "The Convention",
          "The Coup",
          "Grief Counseling",
          "Initiation",
          "Diwali",
          "Branch Closing",
          "The Merger",
          "The Convict",
          "A Benihana Christmas",
          "Back from Vacation",
          "Traveling Salesmen",
          "The Return",
          "Ben Franklin",
          "Phyllis' Wedding",
          "Business School",
          "Cocktails",
          "The Negotiation",
          "Safety Training",
          "Product Recall",
          "Women's Appreciation",
          "Beach Games",
          "The Job",
          "Fun Run",
          "Dunder Mifflin Infinity",
          "Launch Party",
          "Money",
          "Local Ad",
          "Branch Wars",
          "Survivor Man",
          "The Deposition",
          "Dinner Party",
          "Chair Model",
          "Night Out",
          "Did I Stutter?",
          "Job Fair",
          "Goodbye, Toby",
          "Weight Loss",
          "Business Ethics",
          "Baby Shower",
          "Crime Aid",
          "Employee Transfer",
          "Customer Survey",
          "Business Trip",
          "Frame Toby",
          "The Surplus",
          "Moroccan Christmas",
          "The Duel",
          "Prince Family Paper",
          "Stress Relief",
          "Lecture Circuit: Part 1",
          "Lecture Circuit: Part 2",
          "Blood Drive",
          "Golden Ticket",
          "New Boss",
          "Two Weeks",
          "Dream Team",
          "Michael Scott Paper Company",
          "Heavy Competition",
          "Broke",
          "Casual Friday",
          "Cafe Disco",
          "Company Picnic",
          "Gossip",
          "The Meeting",
          "The Promotion",
          "Niagara: Part 1",
          "Niagara: Part 2",
          "Mafia",
          "The Lover",
          "Koi Pond",
          "Double Date",
          "Murder",
          "Shareholder Meeting",
          "Scott's Tots",
          "Secret Santa",
          "The Banker",
          "Sabre",
          "Manager and Salesman",
          "The Delivery: Part 1",
          "The Delivery: Part 2",
          "St. Patrick's Day",
          "New Leads",
          "Happy Hour",
          "Secretary's Day",
          "Body Language",
          "The Cover-Up",
          "The Chump",
          "Whistleblower",
          "Nepotism",
          "Counseling",
          "Andy's Play",
          "Sex Ed",
          "The Sting",
          "Costume Contest",
          "Christening",
          "Viewing Party",
          "WUPHF.com",
          "China",
          "Classy Christmas",
          "Ultimatum",
          "The Seminar",
          "The Search",
          "PDA",
          "Threat Level Midnight",
          "Todd Packer",
          "Garage Sale",
          "Training Day",
          "Michael's Last Dundies",
          "Goodbye, Michael",
          "The Inner Circle",
          "Dwight K. Schrute, (Acting) Manager",
          "Search Committee",
          "The List",
          "The Incentive",
          "Lotto",
          "Garden Party",
          "Spooked",
          "Doomsday",
          "Pam's Replacement",
          "Gettysburg",
          "Mrs. California",
          "Christmas Wishes",
          "Trivia",
          "Pool Party",
          "Jury Duty",
          "Special Project",
          "Tallahassee",
          "After Hours",
          "Test the Store",
          "Last Day in Florida",
          "Get the Girl",
          "Welcome Party",
          "Angry Andy",
          "Fundraiser",
          "Turf War",
          "Free Family Portrait Studio",
          "New Guys",
          "Roy's Wedding",
          "Andy's Ancestry",
          "Work Bus",
          "Here Comes Treble",
          "The Boat",
          "The Whale",
          "The Target",
          "Dwight Christmas",
          "Lice",
          "Suit Warehouse",
          "Customer Loyalty",
          "Junior Salesman",
          "Vandalism",
          "Couples Discount",
          "Moving On",
          "The Farm",
          "Promos",
          "Stairmageddon",
          "Paper Airplane",
          "Livin' the Dream",
          "A.A.R.M.",
          "Finale"
         ],
         "legendgroup": "",
         "line": {
          "color": "#636efa",
          "dash": "solid"
         },
         "marker": {
          "symbol": "circle"
         },
         "mode": "lines",
         "name": "",
         "orientation": "v",
         "showlegend": false,
         "type": "scatter",
         "x": [
          1,
          2,
          3,
          4,
          5,
          6,
          7,
          8,
          9,
          10,
          11,
          12,
          13,
          14,
          15,
          16,
          17,
          18,
          19,
          20,
          21,
          22,
          23,
          24,
          25,
          26,
          27,
          28,
          29,
          30,
          31,
          32,
          33,
          34,
          35,
          36,
          37,
          38,
          39,
          40,
          41,
          42,
          43,
          44,
          45,
          46,
          47,
          48,
          49,
          50,
          51,
          52,
          53,
          54,
          55,
          56,
          57,
          58,
          59,
          60,
          61,
          62,
          63,
          64,
          65,
          66,
          67,
          68,
          69,
          70,
          71,
          72,
          73,
          74,
          75,
          76,
          77,
          78,
          79,
          80,
          81,
          82,
          83,
          84,
          85,
          86,
          87,
          88,
          89,
          90,
          91,
          92,
          93,
          94,
          95,
          96,
          97,
          98,
          99,
          100,
          101,
          102,
          103,
          104,
          105,
          106,
          107,
          108,
          109,
          110,
          111,
          112,
          113,
          114,
          115,
          116,
          117,
          118,
          119,
          120,
          121,
          122,
          123,
          124,
          125,
          126,
          127,
          128,
          129,
          130,
          131,
          132,
          133,
          134,
          135,
          136,
          137,
          138,
          139,
          140,
          141,
          142,
          143,
          144,
          145,
          146,
          147,
          148,
          149,
          150,
          151,
          152,
          153,
          154,
          155,
          156,
          157,
          158,
          159,
          160,
          161,
          162,
          163,
          164,
          165,
          166,
          167,
          168,
          169,
          170,
          171,
          172,
          173,
          174,
          175,
          176,
          177,
          178,
          179,
          180,
          181,
          182,
          183,
          184,
          185,
          186,
          187,
          188
         ],
         "xaxis": "x",
         "y": [
          7.4,
          8.3,
          7.7,
          8,
          8.4,
          7.7,
          8.7,
          8.2,
          8.3,
          8.3,
          8.1,
          8.1,
          8.6,
          8.1,
          8.4,
          8.9,
          8.6,
          9.1,
          8.2,
          7.8,
          8.1,
          8.3,
          8.4,
          8.3,
          8.1,
          8.4,
          8.7,
          9.4,
          9,
          8.2,
          8.5,
          8,
          8.1,
          7.9,
          8.6,
          8.7,
          8.3,
          8.8,
          8.6,
          8.6,
          8.8,
          8,
          8.2,
          8.9,
          8.5,
          9,
          8.8,
          8.7,
          8.8,
          9.2,
          9.3,
          8.8,
          8.3,
          8.4,
          8.7,
          8.8,
          8.5,
          8.2,
          8.7,
          9.5,
          8,
          8.6,
          8.3,
          7.7,
          9.4,
          8.8,
          8.2,
          8,
          8.1,
          8,
          8.5,
          8.2,
          8.6,
          8.7,
          8.3,
          8.7,
          8,
          9.7,
          8.2,
          8.1,
          8,
          8.7,
          8.3,
          8.4,
          8.3,
          8.7,
          8.7,
          9.3,
          8.3,
          8.8,
          9,
          8.8,
          8.1,
          8,
          9.4,
          9.5,
          7.6,
          8.6,
          8.1,
          8.1,
          8.7,
          8.2,
          8.3,
          8.5,
          6.8,
          7.6,
          8,
          8.4,
          8.5,
          7.6,
          7.7,
          8.6,
          7.8,
          7.9,
          8.1,
          7.7,
          8,
          8.3,
          8.2,
          8.2,
          7.8,
          7.7,
          8.1,
          7.4,
          7.8,
          7.7,
          8.2,
          9,
          8.3,
          7.6,
          8.5,
          8.4,
          9.4,
          7.4,
          9.4,
          7.7,
          9,
          9.8,
          7.5,
          8.7,
          8.7,
          8.1,
          8.1,
          7.2,
          8.1,
          7.5,
          7.6,
          7.7,
          6.8,
          7.6,
          7.9,
          7.9,
          8,
          7.4,
          7.6,
          7.8,
          8.1,
          7.8,
          7.8,
          6.4,
          7,
          6.8,
          7,
          7.6,
          7.7,
          7.5,
          7.1,
          7.3,
          7.8,
          6.9,
          7.7,
          7.6,
          7.8,
          8.4,
          7.6,
          7.8,
          7.9,
          7.5,
          7.4,
          7.2,
          8,
          7.5,
          7.9,
          8,
          8,
          9.1,
          9.5,
          9.8
         ],
         "yaxis": "y"
        }
       ],
       "layout": {
        "autosize": false,
        "legend": {
         "tracegroupgap": 0
        },
        "margin": {
         "b": 1,
         "l": 1,
         "pad": 4,
         "r": 1,
         "t": 60
        },
        "template": {
         "data": {
          "bar": [
           {
            "error_x": {
             "color": "#2a3f5f"
            },
            "error_y": {
             "color": "#2a3f5f"
            },
            "marker": {
             "line": {
              "color": "#E5ECF6",
              "width": 0.5
             },
             "pattern": {
              "fillmode": "overlay",
              "size": 10,
              "solidity": 0.2
             }
            },
            "type": "bar"
           }
          ],
          "barpolar": [
           {
            "marker": {
             "line": {
              "color": "#E5ECF6",
              "width": 0.5
             },
             "pattern": {
              "fillmode": "overlay",
              "size": 10,
              "solidity": 0.2
             }
            },
            "type": "barpolar"
           }
          ],
          "carpet": [
           {
            "aaxis": {
             "endlinecolor": "#2a3f5f",
             "gridcolor": "white",
             "linecolor": "white",
             "minorgridcolor": "white",
             "startlinecolor": "#2a3f5f"
            },
            "baxis": {
             "endlinecolor": "#2a3f5f",
             "gridcolor": "white",
             "linecolor": "white",
             "minorgridcolor": "white",
             "startlinecolor": "#2a3f5f"
            },
            "type": "carpet"
           }
          ],
          "choropleth": [
           {
            "colorbar": {
             "outlinewidth": 0,
             "ticks": ""
            },
            "type": "choropleth"
           }
          ],
          "contour": [
           {
            "colorbar": {
             "outlinewidth": 0,
             "ticks": ""
            },
            "colorscale": [
             [
              0,
              "#0d0887"
             ],
             [
              0.1111111111111111,
              "#46039f"
             ],
             [
              0.2222222222222222,
              "#7201a8"
             ],
             [
              0.3333333333333333,
              "#9c179e"
             ],
             [
              0.4444444444444444,
              "#bd3786"
             ],
             [
              0.5555555555555556,
              "#d8576b"
             ],
             [
              0.6666666666666666,
              "#ed7953"
             ],
             [
              0.7777777777777778,
              "#fb9f3a"
             ],
             [
              0.8888888888888888,
              "#fdca26"
             ],
             [
              1,
              "#f0f921"
             ]
            ],
            "type": "contour"
           }
          ],
          "contourcarpet": [
           {
            "colorbar": {
             "outlinewidth": 0,
             "ticks": ""
            },
            "type": "contourcarpet"
           }
          ],
          "heatmap": [
           {
            "colorbar": {
             "outlinewidth": 0,
             "ticks": ""
            },
            "colorscale": [
             [
              0,
              "#0d0887"
             ],
             [
              0.1111111111111111,
              "#46039f"
             ],
             [
              0.2222222222222222,
              "#7201a8"
             ],
             [
              0.3333333333333333,
              "#9c179e"
             ],
             [
              0.4444444444444444,
              "#bd3786"
             ],
             [
              0.5555555555555556,
              "#d8576b"
             ],
             [
              0.6666666666666666,
              "#ed7953"
             ],
             [
              0.7777777777777778,
              "#fb9f3a"
             ],
             [
              0.8888888888888888,
              "#fdca26"
             ],
             [
              1,
              "#f0f921"
             ]
            ],
            "type": "heatmap"
           }
          ],
          "heatmapgl": [
           {
            "colorbar": {
             "outlinewidth": 0,
             "ticks": ""
            },
            "colorscale": [
             [
              0,
              "#0d0887"
             ],
             [
              0.1111111111111111,
              "#46039f"
             ],
             [
              0.2222222222222222,
              "#7201a8"
             ],
             [
              0.3333333333333333,
              "#9c179e"
             ],
             [
              0.4444444444444444,
              "#bd3786"
             ],
             [
              0.5555555555555556,
              "#d8576b"
             ],
             [
              0.6666666666666666,
              "#ed7953"
             ],
             [
              0.7777777777777778,
              "#fb9f3a"
             ],
             [
              0.8888888888888888,
              "#fdca26"
             ],
             [
              1,
              "#f0f921"
             ]
            ],
            "type": "heatmapgl"
           }
          ],
          "histogram": [
           {
            "marker": {
             "pattern": {
              "fillmode": "overlay",
              "size": 10,
              "solidity": 0.2
             }
            },
            "type": "histogram"
           }
          ],
          "histogram2d": [
           {
            "colorbar": {
             "outlinewidth": 0,
             "ticks": ""
            },
            "colorscale": [
             [
              0,
              "#0d0887"
             ],
             [
              0.1111111111111111,
              "#46039f"
             ],
             [
              0.2222222222222222,
              "#7201a8"
             ],
             [
              0.3333333333333333,
              "#9c179e"
             ],
             [
              0.4444444444444444,
              "#bd3786"
             ],
             [
              0.5555555555555556,
              "#d8576b"
             ],
             [
              0.6666666666666666,
              "#ed7953"
             ],
             [
              0.7777777777777778,
              "#fb9f3a"
             ],
             [
              0.8888888888888888,
              "#fdca26"
             ],
             [
              1,
              "#f0f921"
             ]
            ],
            "type": "histogram2d"
           }
          ],
          "histogram2dcontour": [
           {
            "colorbar": {
             "outlinewidth": 0,
             "ticks": ""
            },
            "colorscale": [
             [
              0,
              "#0d0887"
             ],
             [
              0.1111111111111111,
              "#46039f"
             ],
             [
              0.2222222222222222,
              "#7201a8"
             ],
             [
              0.3333333333333333,
              "#9c179e"
             ],
             [
              0.4444444444444444,
              "#bd3786"
             ],
             [
              0.5555555555555556,
              "#d8576b"
             ],
             [
              0.6666666666666666,
              "#ed7953"
             ],
             [
              0.7777777777777778,
              "#fb9f3a"
             ],
             [
              0.8888888888888888,
              "#fdca26"
             ],
             [
              1,
              "#f0f921"
             ]
            ],
            "type": "histogram2dcontour"
           }
          ],
          "mesh3d": [
           {
            "colorbar": {
             "outlinewidth": 0,
             "ticks": ""
            },
            "type": "mesh3d"
           }
          ],
          "parcoords": [
           {
            "line": {
             "colorbar": {
              "outlinewidth": 0,
              "ticks": ""
             }
            },
            "type": "parcoords"
           }
          ],
          "pie": [
           {
            "automargin": true,
            "type": "pie"
           }
          ],
          "scatter": [
           {
            "marker": {
             "colorbar": {
              "outlinewidth": 0,
              "ticks": ""
             }
            },
            "type": "scatter"
           }
          ],
          "scatter3d": [
           {
            "line": {
             "colorbar": {
              "outlinewidth": 0,
              "ticks": ""
             }
            },
            "marker": {
             "colorbar": {
              "outlinewidth": 0,
              "ticks": ""
             }
            },
            "type": "scatter3d"
           }
          ],
          "scattercarpet": [
           {
            "marker": {
             "colorbar": {
              "outlinewidth": 0,
              "ticks": ""
             }
            },
            "type": "scattercarpet"
           }
          ],
          "scattergeo": [
           {
            "marker": {
             "colorbar": {
              "outlinewidth": 0,
              "ticks": ""
             }
            },
            "type": "scattergeo"
           }
          ],
          "scattergl": [
           {
            "marker": {
             "colorbar": {
              "outlinewidth": 0,
              "ticks": ""
             }
            },
            "type": "scattergl"
           }
          ],
          "scattermapbox": [
           {
            "marker": {
             "colorbar": {
              "outlinewidth": 0,
              "ticks": ""
             }
            },
            "type": "scattermapbox"
           }
          ],
          "scatterpolar": [
           {
            "marker": {
             "colorbar": {
              "outlinewidth": 0,
              "ticks": ""
             }
            },
            "type": "scatterpolar"
           }
          ],
          "scatterpolargl": [
           {
            "marker": {
             "colorbar": {
              "outlinewidth": 0,
              "ticks": ""
             }
            },
            "type": "scatterpolargl"
           }
          ],
          "scatterternary": [
           {
            "marker": {
             "colorbar": {
              "outlinewidth": 0,
              "ticks": ""
             }
            },
            "type": "scatterternary"
           }
          ],
          "surface": [
           {
            "colorbar": {
             "outlinewidth": 0,
             "ticks": ""
            },
            "colorscale": [
             [
              0,
              "#0d0887"
             ],
             [
              0.1111111111111111,
              "#46039f"
             ],
             [
              0.2222222222222222,
              "#7201a8"
             ],
             [
              0.3333333333333333,
              "#9c179e"
             ],
             [
              0.4444444444444444,
              "#bd3786"
             ],
             [
              0.5555555555555556,
              "#d8576b"
             ],
             [
              0.6666666666666666,
              "#ed7953"
             ],
             [
              0.7777777777777778,
              "#fb9f3a"
             ],
             [
              0.8888888888888888,
              "#fdca26"
             ],
             [
              1,
              "#f0f921"
             ]
            ],
            "type": "surface"
           }
          ],
          "table": [
           {
            "cells": {
             "fill": {
              "color": "#EBF0F8"
             },
             "line": {
              "color": "white"
             }
            },
            "header": {
             "fill": {
              "color": "#C8D4E3"
             },
             "line": {
              "color": "white"
             }
            },
            "type": "table"
           }
          ]
         },
         "layout": {
          "annotationdefaults": {
           "arrowcolor": "#2a3f5f",
           "arrowhead": 0,
           "arrowwidth": 1
          },
          "autotypenumbers": "strict",
          "coloraxis": {
           "colorbar": {
            "outlinewidth": 0,
            "ticks": ""
           }
          },
          "colorscale": {
           "diverging": [
            [
             0,
             "#8e0152"
            ],
            [
             0.1,
             "#c51b7d"
            ],
            [
             0.2,
             "#de77ae"
            ],
            [
             0.3,
             "#f1b6da"
            ],
            [
             0.4,
             "#fde0ef"
            ],
            [
             0.5,
             "#f7f7f7"
            ],
            [
             0.6,
             "#e6f5d0"
            ],
            [
             0.7,
             "#b8e186"
            ],
            [
             0.8,
             "#7fbc41"
            ],
            [
             0.9,
             "#4d9221"
            ],
            [
             1,
             "#276419"
            ]
           ],
           "sequential": [
            [
             0,
             "#0d0887"
            ],
            [
             0.1111111111111111,
             "#46039f"
            ],
            [
             0.2222222222222222,
             "#7201a8"
            ],
            [
             0.3333333333333333,
             "#9c179e"
            ],
            [
             0.4444444444444444,
             "#bd3786"
            ],
            [
             0.5555555555555556,
             "#d8576b"
            ],
            [
             0.6666666666666666,
             "#ed7953"
            ],
            [
             0.7777777777777778,
             "#fb9f3a"
            ],
            [
             0.8888888888888888,
             "#fdca26"
            ],
            [
             1,
             "#f0f921"
            ]
           ],
           "sequentialminus": [
            [
             0,
             "#0d0887"
            ],
            [
             0.1111111111111111,
             "#46039f"
            ],
            [
             0.2222222222222222,
             "#7201a8"
            ],
            [
             0.3333333333333333,
             "#9c179e"
            ],
            [
             0.4444444444444444,
             "#bd3786"
            ],
            [
             0.5555555555555556,
             "#d8576b"
            ],
            [
             0.6666666666666666,
             "#ed7953"
            ],
            [
             0.7777777777777778,
             "#fb9f3a"
            ],
            [
             0.8888888888888888,
             "#fdca26"
            ],
            [
             1,
             "#f0f921"
            ]
           ]
          },
          "colorway": [
           "#636efa",
           "#EF553B",
           "#00cc96",
           "#ab63fa",
           "#FFA15A",
           "#19d3f3",
           "#FF6692",
           "#B6E880",
           "#FF97FF",
           "#FECB52"
          ],
          "font": {
           "color": "#2a3f5f"
          },
          "geo": {
           "bgcolor": "white",
           "lakecolor": "white",
           "landcolor": "#E5ECF6",
           "showlakes": true,
           "showland": true,
           "subunitcolor": "white"
          },
          "hoverlabel": {
           "align": "left"
          },
          "hovermode": "closest",
          "mapbox": {
           "style": "light"
          },
          "paper_bgcolor": "white",
          "plot_bgcolor": "#E5ECF6",
          "polar": {
           "angularaxis": {
            "gridcolor": "white",
            "linecolor": "white",
            "ticks": ""
           },
           "bgcolor": "#E5ECF6",
           "radialaxis": {
            "gridcolor": "white",
            "linecolor": "white",
            "ticks": ""
           }
          },
          "scene": {
           "xaxis": {
            "backgroundcolor": "#E5ECF6",
            "gridcolor": "white",
            "gridwidth": 2,
            "linecolor": "white",
            "showbackground": true,
            "ticks": "",
            "zerolinecolor": "white"
           },
           "yaxis": {
            "backgroundcolor": "#E5ECF6",
            "gridcolor": "white",
            "gridwidth": 2,
            "linecolor": "white",
            "showbackground": true,
            "ticks": "",
            "zerolinecolor": "white"
           },
           "zaxis": {
            "backgroundcolor": "#E5ECF6",
            "gridcolor": "white",
            "gridwidth": 2,
            "linecolor": "white",
            "showbackground": true,
            "ticks": "",
            "zerolinecolor": "white"
           }
          },
          "shapedefaults": {
           "line": {
            "color": "#2a3f5f"
           }
          },
          "ternary": {
           "aaxis": {
            "gridcolor": "white",
            "linecolor": "white",
            "ticks": ""
           },
           "baxis": {
            "gridcolor": "white",
            "linecolor": "white",
            "ticks": ""
           },
           "bgcolor": "#E5ECF6",
           "caxis": {
            "gridcolor": "white",
            "linecolor": "white",
            "ticks": ""
           }
          },
          "title": {
           "x": 0.05
          },
          "xaxis": {
           "automargin": true,
           "gridcolor": "white",
           "linecolor": "white",
           "ticks": "",
           "title": {
            "standoff": 15
           },
           "zerolinecolor": "white",
           "zerolinewidth": 2
          },
          "yaxis": {
           "automargin": true,
           "gridcolor": "white",
           "linecolor": "white",
           "ticks": "",
           "title": {
            "standoff": 15
           },
           "zerolinecolor": "white",
           "zerolinewidth": 2
          }
         }
        },
        "title": {
         "text": "Interactive Ratings per Episode"
        },
        "xaxis": {
         "anchor": "y",
         "domain": [
          0,
          1
         ],
         "title": {
          "text": "Episode"
         }
        },
        "yaxis": {
         "anchor": "x",
         "domain": [
          0,
          1
         ],
         "title": {
          "text": "Rating"
         }
        }
       }
      },
      "text/html": [
       "<div>                            <div id=\"10cd15c4-49b4-42e2-be29-32f4592a16dc\" class=\"plotly-graph-div\" style=\"height:525px; width:100%;\"></div>            <script type=\"text/javascript\">                require([\"plotly\"], function(Plotly) {                    window.PLOTLYENV=window.PLOTLYENV || {};                                    if (document.getElementById(\"10cd15c4-49b4-42e2-be29-32f4592a16dc\")) {                    Plotly.newPlot(                        \"10cd15c4-49b4-42e2-be29-32f4592a16dc\",                        [{\"hovertemplate\":\"<b>%{hovertext}</b><br><br>x=%{x}<br>rating=%{y}<extra></extra>\",\"hovertext\":[\"Pilot\",\"Diversity Day\",\"Health Care\",\"The Alliance\",\"Basketball\",\"Hot Girl\",\"The Dundies\",\"Sexual Harassment\",\"Office Olympics\",\"The Fire\",\"Halloween\",\"The Fight\",\"The Client\",\"Performance Review\",\"E-Mail Surveillance\",\"Christmas Party\",\"Booze Cruise\",\"The Injury\",\"The Secret\",\"The Carpet\",\"Boys and Girls\",\"Valentine's Day\",\"Dwight's Speech\",\"Take Your Daughter to Work Day\",\"Michael's Birthday\",\"Drug Testing\",\"Conflict Resolution\",\"Casino Night\",\"Gay Witch Hunt\",\"The Convention\",\"The Coup\",\"Grief Counseling\",\"Initiation\",\"Diwali\",\"Branch Closing\",\"The Merger\",\"The Convict\",\"A Benihana Christmas\",\"Back from Vacation\",\"Traveling Salesmen\",\"The Return\",\"Ben Franklin\",\"Phyllis' Wedding\",\"Business School\",\"Cocktails\",\"The Negotiation\",\"Safety Training\",\"Product Recall\",\"Women's Appreciation\",\"Beach Games\",\"The Job\",\"Fun Run\",\"Dunder Mifflin Infinity\",\"Launch Party\",\"Money\",\"Local Ad\",\"Branch Wars\",\"Survivor Man\",\"The Deposition\",\"Dinner Party\",\"Chair Model\",\"Night Out\",\"Did I Stutter?\",\"Job Fair\",\"Goodbye, Toby\",\"Weight Loss\",\"Business Ethics\",\"Baby Shower\",\"Crime Aid\",\"Employee Transfer\",\"Customer Survey\",\"Business Trip\",\"Frame Toby\",\"The Surplus\",\"Moroccan Christmas\",\"The Duel\",\"Prince Family Paper\",\"Stress Relief\",\"Lecture Circuit: Part 1\",\"Lecture Circuit: Part 2\",\"Blood Drive\",\"Golden Ticket\",\"New Boss\",\"Two Weeks\",\"Dream Team\",\"Michael Scott Paper Company\",\"Heavy Competition\",\"Broke\",\"Casual Friday\",\"Cafe Disco\",\"Company Picnic\",\"Gossip\",\"The Meeting\",\"The Promotion\",\"Niagara: Part 1\",\"Niagara: Part 2\",\"Mafia\",\"The Lover\",\"Koi Pond\",\"Double Date\",\"Murder\",\"Shareholder Meeting\",\"Scott's Tots\",\"Secret Santa\",\"The Banker\",\"Sabre\",\"Manager and Salesman\",\"The Delivery: Part 1\",\"The Delivery: Part 2\",\"St. Patrick's Day\",\"New Leads\",\"Happy Hour\",\"Secretary's Day\",\"Body Language\",\"The Cover-Up\",\"The Chump\",\"Whistleblower\",\"Nepotism\",\"Counseling\",\"Andy's Play\",\"Sex Ed\",\"The Sting\",\"Costume Contest\",\"Christening\",\"Viewing Party\",\"WUPHF.com\",\"China\",\"Classy Christmas\",\"Ultimatum\",\"The Seminar\",\"The Search\",\"PDA\",\"Threat Level Midnight\",\"Todd Packer\",\"Garage Sale\",\"Training Day\",\"Michael's Last Dundies\",\"Goodbye, Michael\",\"The Inner Circle\",\"Dwight K. Schrute, (Acting) Manager\",\"Search Committee\",\"The List\",\"The Incentive\",\"Lotto\",\"Garden Party\",\"Spooked\",\"Doomsday\",\"Pam's Replacement\",\"Gettysburg\",\"Mrs. California\",\"Christmas Wishes\",\"Trivia\",\"Pool Party\",\"Jury Duty\",\"Special Project\",\"Tallahassee\",\"After Hours\",\"Test the Store\",\"Last Day in Florida\",\"Get the Girl\",\"Welcome Party\",\"Angry Andy\",\"Fundraiser\",\"Turf War\",\"Free Family Portrait Studio\",\"New Guys\",\"Roy's Wedding\",\"Andy's Ancestry\",\"Work Bus\",\"Here Comes Treble\",\"The Boat\",\"The Whale\",\"The Target\",\"Dwight Christmas\",\"Lice\",\"Suit Warehouse\",\"Customer Loyalty\",\"Junior Salesman\",\"Vandalism\",\"Couples Discount\",\"Moving On\",\"The Farm\",\"Promos\",\"Stairmageddon\",\"Paper Airplane\",\"Livin' the Dream\",\"A.A.R.M.\",\"Finale\"],\"legendgroup\":\"\",\"line\":{\"color\":\"#636efa\",\"dash\":\"solid\"},\"marker\":{\"symbol\":\"circle\"},\"mode\":\"lines\",\"name\":\"\",\"orientation\":\"v\",\"showlegend\":false,\"x\":[1,2,3,4,5,6,7,8,9,10,11,12,13,14,15,16,17,18,19,20,21,22,23,24,25,26,27,28,29,30,31,32,33,34,35,36,37,38,39,40,41,42,43,44,45,46,47,48,49,50,51,52,53,54,55,56,57,58,59,60,61,62,63,64,65,66,67,68,69,70,71,72,73,74,75,76,77,78,79,80,81,82,83,84,85,86,87,88,89,90,91,92,93,94,95,96,97,98,99,100,101,102,103,104,105,106,107,108,109,110,111,112,113,114,115,116,117,118,119,120,121,122,123,124,125,126,127,128,129,130,131,132,133,134,135,136,137,138,139,140,141,142,143,144,145,146,147,148,149,150,151,152,153,154,155,156,157,158,159,160,161,162,163,164,165,166,167,168,169,170,171,172,173,174,175,176,177,178,179,180,181,182,183,184,185,186,187,188],\"xaxis\":\"x\",\"y\":[7.4,8.3,7.7,8.0,8.4,7.7,8.7,8.2,8.3,8.3,8.1,8.1,8.6,8.1,8.4,8.9,8.6,9.1,8.2,7.8,8.1,8.3,8.4,8.3,8.1,8.4,8.7,9.4,9.0,8.2,8.5,8.0,8.1,7.9,8.6,8.7,8.3,8.8,8.6,8.6,8.8,8.0,8.2,8.9,8.5,9.0,8.8,8.7,8.8,9.2,9.3,8.8,8.3,8.4,8.7,8.8,8.5,8.2,8.7,9.5,8.0,8.6,8.3,7.7,9.4,8.8,8.2,8.0,8.1,8.0,8.5,8.2,8.6,8.7,8.3,8.7,8.0,9.7,8.2,8.1,8.0,8.7,8.3,8.4,8.3,8.7,8.7,9.3,8.3,8.8,9.0,8.8,8.1,8.0,9.4,9.5,7.6,8.6,8.1,8.1,8.7,8.2,8.3,8.5,6.8,7.6,8.0,8.4,8.5,7.6,7.7,8.6,7.8,7.9,8.1,7.7,8.0,8.3,8.2,8.2,7.8,7.7,8.1,7.4,7.8,7.7,8.2,9.0,8.3,7.6,8.5,8.4,9.4,7.4,9.4,7.7,9.0,9.8,7.5,8.7,8.7,8.1,8.1,7.2,8.1,7.5,7.6,7.7,6.8,7.6,7.9,7.9,8.0,7.4,7.6,7.8,8.1,7.8,7.8,6.4,7.0,6.8,7.0,7.6,7.7,7.5,7.1,7.3,7.8,6.9,7.7,7.6,7.8,8.4,7.6,7.8,7.9,7.5,7.4,7.2,8.0,7.5,7.9,8.0,8.0,9.1,9.5,9.8],\"yaxis\":\"y\",\"type\":\"scatter\"}],                        {\"template\":{\"data\":{\"bar\":[{\"error_x\":{\"color\":\"#2a3f5f\"},\"error_y\":{\"color\":\"#2a3f5f\"},\"marker\":{\"line\":{\"color\":\"#E5ECF6\",\"width\":0.5},\"pattern\":{\"fillmode\":\"overlay\",\"size\":10,\"solidity\":0.2}},\"type\":\"bar\"}],\"barpolar\":[{\"marker\":{\"line\":{\"color\":\"#E5ECF6\",\"width\":0.5},\"pattern\":{\"fillmode\":\"overlay\",\"size\":10,\"solidity\":0.2}},\"type\":\"barpolar\"}],\"carpet\":[{\"aaxis\":{\"endlinecolor\":\"#2a3f5f\",\"gridcolor\":\"white\",\"linecolor\":\"white\",\"minorgridcolor\":\"white\",\"startlinecolor\":\"#2a3f5f\"},\"baxis\":{\"endlinecolor\":\"#2a3f5f\",\"gridcolor\":\"white\",\"linecolor\":\"white\",\"minorgridcolor\":\"white\",\"startlinecolor\":\"#2a3f5f\"},\"type\":\"carpet\"}],\"choropleth\":[{\"colorbar\":{\"outlinewidth\":0,\"ticks\":\"\"},\"type\":\"choropleth\"}],\"contour\":[{\"colorbar\":{\"outlinewidth\":0,\"ticks\":\"\"},\"colorscale\":[[0.0,\"#0d0887\"],[0.1111111111111111,\"#46039f\"],[0.2222222222222222,\"#7201a8\"],[0.3333333333333333,\"#9c179e\"],[0.4444444444444444,\"#bd3786\"],[0.5555555555555556,\"#d8576b\"],[0.6666666666666666,\"#ed7953\"],[0.7777777777777778,\"#fb9f3a\"],[0.8888888888888888,\"#fdca26\"],[1.0,\"#f0f921\"]],\"type\":\"contour\"}],\"contourcarpet\":[{\"colorbar\":{\"outlinewidth\":0,\"ticks\":\"\"},\"type\":\"contourcarpet\"}],\"heatmap\":[{\"colorbar\":{\"outlinewidth\":0,\"ticks\":\"\"},\"colorscale\":[[0.0,\"#0d0887\"],[0.1111111111111111,\"#46039f\"],[0.2222222222222222,\"#7201a8\"],[0.3333333333333333,\"#9c179e\"],[0.4444444444444444,\"#bd3786\"],[0.5555555555555556,\"#d8576b\"],[0.6666666666666666,\"#ed7953\"],[0.7777777777777778,\"#fb9f3a\"],[0.8888888888888888,\"#fdca26\"],[1.0,\"#f0f921\"]],\"type\":\"heatmap\"}],\"heatmapgl\":[{\"colorbar\":{\"outlinewidth\":0,\"ticks\":\"\"},\"colorscale\":[[0.0,\"#0d0887\"],[0.1111111111111111,\"#46039f\"],[0.2222222222222222,\"#7201a8\"],[0.3333333333333333,\"#9c179e\"],[0.4444444444444444,\"#bd3786\"],[0.5555555555555556,\"#d8576b\"],[0.6666666666666666,\"#ed7953\"],[0.7777777777777778,\"#fb9f3a\"],[0.8888888888888888,\"#fdca26\"],[1.0,\"#f0f921\"]],\"type\":\"heatmapgl\"}],\"histogram\":[{\"marker\":{\"pattern\":{\"fillmode\":\"overlay\",\"size\":10,\"solidity\":0.2}},\"type\":\"histogram\"}],\"histogram2d\":[{\"colorbar\":{\"outlinewidth\":0,\"ticks\":\"\"},\"colorscale\":[[0.0,\"#0d0887\"],[0.1111111111111111,\"#46039f\"],[0.2222222222222222,\"#7201a8\"],[0.3333333333333333,\"#9c179e\"],[0.4444444444444444,\"#bd3786\"],[0.5555555555555556,\"#d8576b\"],[0.6666666666666666,\"#ed7953\"],[0.7777777777777778,\"#fb9f3a\"],[0.8888888888888888,\"#fdca26\"],[1.0,\"#f0f921\"]],\"type\":\"histogram2d\"}],\"histogram2dcontour\":[{\"colorbar\":{\"outlinewidth\":0,\"ticks\":\"\"},\"colorscale\":[[0.0,\"#0d0887\"],[0.1111111111111111,\"#46039f\"],[0.2222222222222222,\"#7201a8\"],[0.3333333333333333,\"#9c179e\"],[0.4444444444444444,\"#bd3786\"],[0.5555555555555556,\"#d8576b\"],[0.6666666666666666,\"#ed7953\"],[0.7777777777777778,\"#fb9f3a\"],[0.8888888888888888,\"#fdca26\"],[1.0,\"#f0f921\"]],\"type\":\"histogram2dcontour\"}],\"mesh3d\":[{\"colorbar\":{\"outlinewidth\":0,\"ticks\":\"\"},\"type\":\"mesh3d\"}],\"parcoords\":[{\"line\":{\"colorbar\":{\"outlinewidth\":0,\"ticks\":\"\"}},\"type\":\"parcoords\"}],\"pie\":[{\"automargin\":true,\"type\":\"pie\"}],\"scatter\":[{\"marker\":{\"colorbar\":{\"outlinewidth\":0,\"ticks\":\"\"}},\"type\":\"scatter\"}],\"scatter3d\":[{\"line\":{\"colorbar\":{\"outlinewidth\":0,\"ticks\":\"\"}},\"marker\":{\"colorbar\":{\"outlinewidth\":0,\"ticks\":\"\"}},\"type\":\"scatter3d\"}],\"scattercarpet\":[{\"marker\":{\"colorbar\":{\"outlinewidth\":0,\"ticks\":\"\"}},\"type\":\"scattercarpet\"}],\"scattergeo\":[{\"marker\":{\"colorbar\":{\"outlinewidth\":0,\"ticks\":\"\"}},\"type\":\"scattergeo\"}],\"scattergl\":[{\"marker\":{\"colorbar\":{\"outlinewidth\":0,\"ticks\":\"\"}},\"type\":\"scattergl\"}],\"scattermapbox\":[{\"marker\":{\"colorbar\":{\"outlinewidth\":0,\"ticks\":\"\"}},\"type\":\"scattermapbox\"}],\"scatterpolar\":[{\"marker\":{\"colorbar\":{\"outlinewidth\":0,\"ticks\":\"\"}},\"type\":\"scatterpolar\"}],\"scatterpolargl\":[{\"marker\":{\"colorbar\":{\"outlinewidth\":0,\"ticks\":\"\"}},\"type\":\"scatterpolargl\"}],\"scatterternary\":[{\"marker\":{\"colorbar\":{\"outlinewidth\":0,\"ticks\":\"\"}},\"type\":\"scatterternary\"}],\"surface\":[{\"colorbar\":{\"outlinewidth\":0,\"ticks\":\"\"},\"colorscale\":[[0.0,\"#0d0887\"],[0.1111111111111111,\"#46039f\"],[0.2222222222222222,\"#7201a8\"],[0.3333333333333333,\"#9c179e\"],[0.4444444444444444,\"#bd3786\"],[0.5555555555555556,\"#d8576b\"],[0.6666666666666666,\"#ed7953\"],[0.7777777777777778,\"#fb9f3a\"],[0.8888888888888888,\"#fdca26\"],[1.0,\"#f0f921\"]],\"type\":\"surface\"}],\"table\":[{\"cells\":{\"fill\":{\"color\":\"#EBF0F8\"},\"line\":{\"color\":\"white\"}},\"header\":{\"fill\":{\"color\":\"#C8D4E3\"},\"line\":{\"color\":\"white\"}},\"type\":\"table\"}]},\"layout\":{\"annotationdefaults\":{\"arrowcolor\":\"#2a3f5f\",\"arrowhead\":0,\"arrowwidth\":1},\"autotypenumbers\":\"strict\",\"coloraxis\":{\"colorbar\":{\"outlinewidth\":0,\"ticks\":\"\"}},\"colorscale\":{\"diverging\":[[0,\"#8e0152\"],[0.1,\"#c51b7d\"],[0.2,\"#de77ae\"],[0.3,\"#f1b6da\"],[0.4,\"#fde0ef\"],[0.5,\"#f7f7f7\"],[0.6,\"#e6f5d0\"],[0.7,\"#b8e186\"],[0.8,\"#7fbc41\"],[0.9,\"#4d9221\"],[1,\"#276419\"]],\"sequential\":[[0.0,\"#0d0887\"],[0.1111111111111111,\"#46039f\"],[0.2222222222222222,\"#7201a8\"],[0.3333333333333333,\"#9c179e\"],[0.4444444444444444,\"#bd3786\"],[0.5555555555555556,\"#d8576b\"],[0.6666666666666666,\"#ed7953\"],[0.7777777777777778,\"#fb9f3a\"],[0.8888888888888888,\"#fdca26\"],[1.0,\"#f0f921\"]],\"sequentialminus\":[[0.0,\"#0d0887\"],[0.1111111111111111,\"#46039f\"],[0.2222222222222222,\"#7201a8\"],[0.3333333333333333,\"#9c179e\"],[0.4444444444444444,\"#bd3786\"],[0.5555555555555556,\"#d8576b\"],[0.6666666666666666,\"#ed7953\"],[0.7777777777777778,\"#fb9f3a\"],[0.8888888888888888,\"#fdca26\"],[1.0,\"#f0f921\"]]},\"colorway\":[\"#636efa\",\"#EF553B\",\"#00cc96\",\"#ab63fa\",\"#FFA15A\",\"#19d3f3\",\"#FF6692\",\"#B6E880\",\"#FF97FF\",\"#FECB52\"],\"font\":{\"color\":\"#2a3f5f\"},\"geo\":{\"bgcolor\":\"white\",\"lakecolor\":\"white\",\"landcolor\":\"#E5ECF6\",\"showlakes\":true,\"showland\":true,\"subunitcolor\":\"white\"},\"hoverlabel\":{\"align\":\"left\"},\"hovermode\":\"closest\",\"mapbox\":{\"style\":\"light\"},\"paper_bgcolor\":\"white\",\"plot_bgcolor\":\"#E5ECF6\",\"polar\":{\"angularaxis\":{\"gridcolor\":\"white\",\"linecolor\":\"white\",\"ticks\":\"\"},\"bgcolor\":\"#E5ECF6\",\"radialaxis\":{\"gridcolor\":\"white\",\"linecolor\":\"white\",\"ticks\":\"\"}},\"scene\":{\"xaxis\":{\"backgroundcolor\":\"#E5ECF6\",\"gridcolor\":\"white\",\"gridwidth\":2,\"linecolor\":\"white\",\"showbackground\":true,\"ticks\":\"\",\"zerolinecolor\":\"white\"},\"yaxis\":{\"backgroundcolor\":\"#E5ECF6\",\"gridcolor\":\"white\",\"gridwidth\":2,\"linecolor\":\"white\",\"showbackground\":true,\"ticks\":\"\",\"zerolinecolor\":\"white\"},\"zaxis\":{\"backgroundcolor\":\"#E5ECF6\",\"gridcolor\":\"white\",\"gridwidth\":2,\"linecolor\":\"white\",\"showbackground\":true,\"ticks\":\"\",\"zerolinecolor\":\"white\"}},\"shapedefaults\":{\"line\":{\"color\":\"#2a3f5f\"}},\"ternary\":{\"aaxis\":{\"gridcolor\":\"white\",\"linecolor\":\"white\",\"ticks\":\"\"},\"baxis\":{\"gridcolor\":\"white\",\"linecolor\":\"white\",\"ticks\":\"\"},\"bgcolor\":\"#E5ECF6\",\"caxis\":{\"gridcolor\":\"white\",\"linecolor\":\"white\",\"ticks\":\"\"}},\"title\":{\"x\":0.05},\"xaxis\":{\"automargin\":true,\"gridcolor\":\"white\",\"linecolor\":\"white\",\"ticks\":\"\",\"title\":{\"standoff\":15},\"zerolinecolor\":\"white\",\"zerolinewidth\":2},\"yaxis\":{\"automargin\":true,\"gridcolor\":\"white\",\"linecolor\":\"white\",\"ticks\":\"\",\"title\":{\"standoff\":15},\"zerolinecolor\":\"white\",\"zerolinewidth\":2}}},\"xaxis\":{\"anchor\":\"y\",\"domain\":[0.0,1.0],\"title\":{\"text\":\"Episode\"}},\"yaxis\":{\"anchor\":\"x\",\"domain\":[0.0,1.0],\"title\":{\"text\":\"Rating\"}},\"legend\":{\"tracegroupgap\":0},\"margin\":{\"t\":60,\"l\":1,\"r\":1,\"b\":1,\"pad\":4},\"title\":{\"text\":\"Interactive Ratings per Episode\"},\"autosize\":false},                        {\"responsive\": true}                    ).then(function(){\n",
       "                            \n",
       "var gd = document.getElementById('10cd15c4-49b4-42e2-be29-32f4592a16dc');\n",
       "var x = new MutationObserver(function (mutations, observer) {{\n",
       "        var display = window.getComputedStyle(gd).display;\n",
       "        if (!display || display === 'none') {{\n",
       "            console.log([gd, 'removed!']);\n",
       "            Plotly.purge(gd);\n",
       "            observer.disconnect();\n",
       "        }}\n",
       "}});\n",
       "\n",
       "// Listen for the removal of the full notebook cells\n",
       "var notebookContainer = gd.closest('#notebook-container');\n",
       "if (notebookContainer) {{\n",
       "    x.observe(notebookContainer, {childList: true});\n",
       "}}\n",
       "\n",
       "// Listen for the clearing of the current output cell\n",
       "var outputEl = gd.closest('.output');\n",
       "if (outputEl) {{\n",
       "    x.observe(outputEl, {childList: true});\n",
       "}}\n",
       "\n",
       "                        })                };                });            </script>        </div>"
      ]
     },
     "metadata": {},
     "output_type": "display_data"
    }
   ],
   "source": [
    "import plotly.graph_objects as go\n",
    "import plotly \n",
    "import plotly.express as px\n",
    "\n",
    "fig = px.line(df_ratings, x=[i+1 for i in range(len(df_ratings))], y=\"rating\", hover_name=\"title\")\n",
    "\n",
    "fig.update_layout(\n",
    "    title= \"Interactive Ratings per Episode\",\n",
    "    xaxis_title=\"Episode\",\n",
    "    yaxis_title=\"Rating\",\n",
    "    autosize=False,\n",
    "    margin=dict(\n",
    "        l=1,#Adjust the margin of the figure\n",
    "        r=1,#Adjust the margin of the figure\n",
    "        b=1,#Adjust the margin of the figure\n",
    "        pad=4\n",
    "    ),\n",
    "    # paper_bgcolor=\"LightSteelBlue\",\n",
    ")\n",
    "\n",
    "fig.show()"
   ]
  },
  {
   "cell_type": "markdown",
   "metadata": {},
   "source": [
    "## Top 5"
   ]
  },
  {
   "cell_type": "markdown",
   "metadata": {},
   "source": [
    "`Goodbye Michael`: This episode is the final episode to feature Michael Scott as the series's main character, and is regarded by many critics as the \"series finale\", as the series received much criticism for a decline in quality after Michael's departure. We can make the case that Michael was the true main character. After he leaves, we see that the ratings crumble and the show cannot recover."
   ]
  },
  {
   "cell_type": "markdown",
   "metadata": {},
   "source": [
    "In `Stress Relief`, Dwight stages a fire in the office to test the office's fire safety skills, but things go from bad to worse when Stanley suffers a heart attack, causing Michael to come up with ways to relieve stress in the office, including a comedic roast of himself. Meanwhile, Andy, Jim, and Pam watch an illegally downloaded movie at work guest-starring Jack Black, Jessica Alba and Cloris Leachman. [reference](https://en.wikipedia.org/wiki/Stress_Relief_(The_Office))\n",
    "\n",
    "The chaotic cold open scene becomes one of the top fan favorite scenes from the entire show.\n",
    "\n",
    "Both parts of `Stress Relief` originally aired together on February 1, 2009, immediately following NBC's broadcast of Super Bowl XLIII, and The Office writers and producers sought to attract newcomers to the series with the expected increase in viewership. It had 22.9 million viewers - making it one of the most viewed episode of The Office."
   ]
  },
  {
   "cell_type": "markdown",
   "metadata": {},
   "source": [
    "## Bottom 5"
   ]
  },
  {
   "cell_type": "markdown",
   "metadata": {},
   "source": [
    "`Get The Girl` featured Andy driving across the country to Tallahassee to track down Erin. He tries to serenade her in an extremely cringy scene and just does quite a few rather absurd things in an attempt to win Erin's heart. The Andy-Erin relationship received a lot of criticism by fans. [reference](https://screenrant.com/the-office-worst-episodes-imdb/) \n",
    "\n",
    "Even the actress portraying Erin, Ellie Kemper, never thought Andy and Erin were a good match. \"Is that terrible to say? I don’t know, I felt like Andy was a bit too childish. I don’t think he was ready to take care of Erin the way she needed to be. I think Erin was ready to take care of him, but I felt like it was uneven in that respect.\" [reference](https://www.cinemablend.com/television/2553336/why-the-offices-ellie-kemper-wasnt-exactly-a-fan-of-erin-and-andys-relationship)\n",
    "\n",
    "Finally, this episode introduces yet another manager that didn't catch viewers - Nellie Bertram."
   ]
  },
  {
   "cell_type": "markdown",
   "metadata": {},
   "source": [
    "We also want to discuss the biggest outlier in the ratings: In `The Banker`, an investment banker comes to the office to speak with Toby, since the company has recently been bought out. This episode is just montages of previous episodes, with very little new content."
   ]
  },
  {
   "cell_type": "markdown",
   "metadata": {},
   "source": []
  },
  {
   "cell_type": "markdown",
   "metadata": {},
   "source": []
  }
 ],
 "metadata": {
  "interpreter": {
   "hash": "d77c60bc2dad7e593b13ffd12a618704d8228a94bb6c4bcefaa567f1d1fdc886"
  },
  "kernelspec": {
   "display_name": "Python 3.8.11 64-bit ('social_graphs': conda)",
   "name": "python3"
  },
  "language_info": {
   "codemirror_mode": {
    "name": "ipython",
    "version": 3
   },
   "file_extension": ".py",
   "mimetype": "text/x-python",
   "name": "python",
   "nbconvert_exporter": "python",
   "pygments_lexer": "ipython3",
   "version": "3.8.11"
  }
 },
 "nbformat": 4,
 "nbformat_minor": 2
}
