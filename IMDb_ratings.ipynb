{
 "cells": [
  {
   "cell_type": "code",
   "execution_count": 3,
   "metadata": {},
   "outputs": [],
   "source": [
    "import pandas as pd\n",
    "from bs4 import BeautifulSoup\n",
    "from requests import get\n",
    "import seaborn as sns\n",
    "from matplotlib import pyplot as plt"
   ]
  },
  {
   "cell_type": "markdown",
   "metadata": {},
   "source": [
    "<p style=\"font-family:Muro;font-weight:bold;font-size:35px;margin:10px 0px 10px 0px;color:#ADD8E6\">IMDB Ratings</p>"
   ]
  },
  {
   "cell_type": "code",
   "execution_count": 4,
   "metadata": {},
   "outputs": [],
   "source": [
    "# Initializing the series for the loop\n",
    "theoffice_episodes = []\n",
    "\n",
    "# For every season in the The Ofice\n",
    "for sn in range(1,10):\n",
    "    # Request from the server the content of the web page by and store the server’s response\n",
    "    response = get('https://www.imdb.com/title/tt0386676/episodes?season=' + str(sn))\n",
    "\n",
    "    # Parse the content of the request\n",
    "    page_html = BeautifulSoup(response.text, 'html.parser')\n",
    "\n",
    "    # Select all the episode containers from the season's page\n",
    "    episode_containers = page_html.find_all('div', class_ = 'info')\n",
    "\n",
    "    # For each episode in each season\n",
    "    for episodes in episode_containers:\n",
    "            # Get the info of each episode on the page\n",
    "            season = sn\n",
    "            episode_number = episodes.meta['content']\n",
    "            title = episodes.a['title']\n",
    "            airdate = episodes.find('div', class_='airdate').text.strip()\n",
    "            rating = episodes.find('span', class_='ipl-rating-star__rating').text\n",
    "            total_votes = episodes.find('span', class_='ipl-rating-star__total-votes').text\n",
    "            desc = episodes.find('div', class_='item_description').text.strip()\n",
    "            # Compile the episode info\n",
    "            episode_data = [season, episode_number, title, airdate, rating, total_votes, desc]\n",
    "\n",
    "            # Append the episode info to the complete dataset\n",
    "            theoffice_episodes.append(episode_data)"
   ]
  },
  {
   "cell_type": "code",
   "execution_count": 5,
   "metadata": {},
   "outputs": [
    {
     "data": {
      "text/html": [
       "<div>\n",
       "<style scoped>\n",
       "    .dataframe tbody tr th:only-of-type {\n",
       "        vertical-align: middle;\n",
       "    }\n",
       "\n",
       "    .dataframe tbody tr th {\n",
       "        vertical-align: top;\n",
       "    }\n",
       "\n",
       "    .dataframe thead th {\n",
       "        text-align: right;\n",
       "    }\n",
       "</style>\n",
       "<table border=\"1\" class=\"dataframe\">\n",
       "  <thead>\n",
       "    <tr style=\"text-align: right;\">\n",
       "      <th></th>\n",
       "      <th>season</th>\n",
       "      <th>episode_number</th>\n",
       "      <th>title</th>\n",
       "      <th>airdate</th>\n",
       "      <th>rating</th>\n",
       "      <th>total_votes</th>\n",
       "      <th>desc</th>\n",
       "    </tr>\n",
       "  </thead>\n",
       "  <tbody>\n",
       "    <tr>\n",
       "      <th>183</th>\n",
       "      <td>9</td>\n",
       "      <td>19</td>\n",
       "      <td>Stairmageddon</td>\n",
       "      <td>11 Apr. 2013</td>\n",
       "      <td>8.0</td>\n",
       "      <td>(3,004)</td>\n",
       "      <td>Dwight shoots Stanley with a bull tranquilizer...</td>\n",
       "    </tr>\n",
       "    <tr>\n",
       "      <th>184</th>\n",
       "      <td>9</td>\n",
       "      <td>20</td>\n",
       "      <td>Paper Airplane</td>\n",
       "      <td>25 Apr. 2013</td>\n",
       "      <td>8.0</td>\n",
       "      <td>(3,085)</td>\n",
       "      <td>The employees hold a paper airplane competitio...</td>\n",
       "    </tr>\n",
       "    <tr>\n",
       "      <th>185</th>\n",
       "      <td>9</td>\n",
       "      <td>21</td>\n",
       "      <td>Livin' the Dream</td>\n",
       "      <td>2 May 2013</td>\n",
       "      <td>9.1</td>\n",
       "      <td>(4,520)</td>\n",
       "      <td>Dwight becomes regional manager after Andy qui...</td>\n",
       "    </tr>\n",
       "    <tr>\n",
       "      <th>186</th>\n",
       "      <td>9</td>\n",
       "      <td>22</td>\n",
       "      <td>A.A.R.M.</td>\n",
       "      <td>9 May 2013</td>\n",
       "      <td>9.5</td>\n",
       "      <td>(6,024)</td>\n",
       "      <td>Dwight prepares for a marriage proposal and hi...</td>\n",
       "    </tr>\n",
       "    <tr>\n",
       "      <th>187</th>\n",
       "      <td>9</td>\n",
       "      <td>23</td>\n",
       "      <td>Finale</td>\n",
       "      <td>16 May 2013</td>\n",
       "      <td>9.8</td>\n",
       "      <td>(15,477)</td>\n",
       "      <td>One year later, Dunder Mifflin employees past ...</td>\n",
       "    </tr>\n",
       "  </tbody>\n",
       "</table>\n",
       "</div>"
      ],
      "text/plain": [
       "     season episode_number             title       airdate rating total_votes  \\\n",
       "183       9             19     Stairmageddon  11 Apr. 2013    8.0     (3,004)   \n",
       "184       9             20    Paper Airplane  25 Apr. 2013    8.0     (3,085)   \n",
       "185       9             21  Livin' the Dream    2 May 2013    9.1     (4,520)   \n",
       "186       9             22          A.A.R.M.    9 May 2013    9.5     (6,024)   \n",
       "187       9             23            Finale   16 May 2013    9.8    (15,477)   \n",
       "\n",
       "                                                  desc  \n",
       "183  Dwight shoots Stanley with a bull tranquilizer...  \n",
       "184  The employees hold a paper airplane competitio...  \n",
       "185  Dwight becomes regional manager after Andy qui...  \n",
       "186  Dwight prepares for a marriage proposal and hi...  \n",
       "187  One year later, Dunder Mifflin employees past ...  "
      ]
     },
     "execution_count": 5,
     "metadata": {},
     "output_type": "execute_result"
    }
   ],
   "source": [
    "#Create the data frame\n",
    "theoffice_episodes = pd.DataFrame(theoffice_episodes, columns = ['season', 'episode_number', 'title', 'airdate', 'rating', 'total_votes', 'desc'])\n",
    "theoffice_episodes.tail()"
   ]
  },
  {
   "cell_type": "code",
   "execution_count": 6,
   "metadata": {},
   "outputs": [],
   "source": [
    "# Convert total votes to numeric integer values\n",
    "# First reate a function that uses removes the commas and parentheses strings from total_votes\n",
    "def remove_str(votes):\n",
    "    for r in ((',',''), ('(',''),(')','')):\n",
    "        votes = votes.replace(*r)\n",
    "    return votes"
   ]
  },
  {
   "cell_type": "code",
   "execution_count": 7,
   "metadata": {},
   "outputs": [
    {
     "data": {
      "text/html": [
       "<div>\n",
       "<style scoped>\n",
       "    .dataframe tbody tr th:only-of-type {\n",
       "        vertical-align: middle;\n",
       "    }\n",
       "\n",
       "    .dataframe tbody tr th {\n",
       "        vertical-align: top;\n",
       "    }\n",
       "\n",
       "    .dataframe thead th {\n",
       "        text-align: right;\n",
       "    }\n",
       "</style>\n",
       "<table border=\"1\" class=\"dataframe\">\n",
       "  <thead>\n",
       "    <tr style=\"text-align: right;\">\n",
       "      <th></th>\n",
       "      <th>season</th>\n",
       "      <th>episode_number</th>\n",
       "      <th>title</th>\n",
       "      <th>airdate</th>\n",
       "      <th>rating</th>\n",
       "      <th>total_votes</th>\n",
       "      <th>desc</th>\n",
       "    </tr>\n",
       "  </thead>\n",
       "  <tbody>\n",
       "    <tr>\n",
       "      <th>183</th>\n",
       "      <td>9</td>\n",
       "      <td>19</td>\n",
       "      <td>Stairmageddon</td>\n",
       "      <td>11 Apr. 2013</td>\n",
       "      <td>8.0</td>\n",
       "      <td>3004</td>\n",
       "      <td>Dwight shoots Stanley with a bull tranquilizer...</td>\n",
       "    </tr>\n",
       "    <tr>\n",
       "      <th>184</th>\n",
       "      <td>9</td>\n",
       "      <td>20</td>\n",
       "      <td>Paper Airplane</td>\n",
       "      <td>25 Apr. 2013</td>\n",
       "      <td>8.0</td>\n",
       "      <td>3085</td>\n",
       "      <td>The employees hold a paper airplane competitio...</td>\n",
       "    </tr>\n",
       "    <tr>\n",
       "      <th>185</th>\n",
       "      <td>9</td>\n",
       "      <td>21</td>\n",
       "      <td>Livin' the Dream</td>\n",
       "      <td>2 May 2013</td>\n",
       "      <td>9.1</td>\n",
       "      <td>4520</td>\n",
       "      <td>Dwight becomes regional manager after Andy qui...</td>\n",
       "    </tr>\n",
       "    <tr>\n",
       "      <th>186</th>\n",
       "      <td>9</td>\n",
       "      <td>22</td>\n",
       "      <td>A.A.R.M.</td>\n",
       "      <td>9 May 2013</td>\n",
       "      <td>9.5</td>\n",
       "      <td>6024</td>\n",
       "      <td>Dwight prepares for a marriage proposal and hi...</td>\n",
       "    </tr>\n",
       "    <tr>\n",
       "      <th>187</th>\n",
       "      <td>9</td>\n",
       "      <td>23</td>\n",
       "      <td>Finale</td>\n",
       "      <td>16 May 2013</td>\n",
       "      <td>9.8</td>\n",
       "      <td>15477</td>\n",
       "      <td>One year later, Dunder Mifflin employees past ...</td>\n",
       "    </tr>\n",
       "  </tbody>\n",
       "</table>\n",
       "</div>"
      ],
      "text/plain": [
       "     season episode_number             title       airdate rating  \\\n",
       "183       9             19     Stairmageddon  11 Apr. 2013    8.0   \n",
       "184       9             20    Paper Airplane  25 Apr. 2013    8.0   \n",
       "185       9             21  Livin' the Dream    2 May 2013    9.1   \n",
       "186       9             22          A.A.R.M.    9 May 2013    9.5   \n",
       "187       9             23            Finale   16 May 2013    9.8   \n",
       "\n",
       "     total_votes                                               desc  \n",
       "183         3004  Dwight shoots Stanley with a bull tranquilizer...  \n",
       "184         3085  The employees hold a paper airplane competitio...  \n",
       "185         4520  Dwight becomes regional manager after Andy qui...  \n",
       "186         6024  Dwight prepares for a marriage proposal and hi...  \n",
       "187        15477  One year later, Dunder Mifflin employees past ...  "
      ]
     },
     "execution_count": 7,
     "metadata": {},
     "output_type": "execute_result"
    }
   ],
   "source": [
    "# Apply the function and change from string to integer\n",
    "theoffice_episodes['total_votes'] = theoffice_episodes.total_votes.apply(remove_str).astype(int)\n",
    "theoffice_episodes.tail()"
   ]
  },
  {
   "cell_type": "code",
   "execution_count": 8,
   "metadata": {},
   "outputs": [],
   "source": [
    "# Change rating from string to numeric\n",
    "theoffice_episodes['rating'] = theoffice_episodes.rating.astype(float)"
   ]
  },
  {
   "cell_type": "code",
   "execution_count": 9,
   "metadata": {},
   "outputs": [
    {
     "data": {
      "text/html": [
       "<div>\n",
       "<style scoped>\n",
       "    .dataframe tbody tr th:only-of-type {\n",
       "        vertical-align: middle;\n",
       "    }\n",
       "\n",
       "    .dataframe tbody tr th {\n",
       "        vertical-align: top;\n",
       "    }\n",
       "\n",
       "    .dataframe thead th {\n",
       "        text-align: right;\n",
       "    }\n",
       "</style>\n",
       "<table border=\"1\" class=\"dataframe\">\n",
       "  <thead>\n",
       "    <tr style=\"text-align: right;\">\n",
       "      <th></th>\n",
       "      <th>season</th>\n",
       "      <th>episode_number</th>\n",
       "      <th>title</th>\n",
       "      <th>airdate</th>\n",
       "      <th>rating</th>\n",
       "      <th>total_votes</th>\n",
       "      <th>desc</th>\n",
       "    </tr>\n",
       "  </thead>\n",
       "  <tbody>\n",
       "    <tr>\n",
       "      <th>0</th>\n",
       "      <td>1</td>\n",
       "      <td>1</td>\n",
       "      <td>Pilot</td>\n",
       "      <td>2005-03-24</td>\n",
       "      <td>7.4</td>\n",
       "      <td>7125</td>\n",
       "      <td>The premiere episode introduces the boss and s...</td>\n",
       "    </tr>\n",
       "    <tr>\n",
       "      <th>1</th>\n",
       "      <td>1</td>\n",
       "      <td>2</td>\n",
       "      <td>Diversity Day</td>\n",
       "      <td>2005-03-16</td>\n",
       "      <td>8.3</td>\n",
       "      <td>7020</td>\n",
       "      <td>Michael's off color remark puts a sensitivity ...</td>\n",
       "    </tr>\n",
       "    <tr>\n",
       "      <th>2</th>\n",
       "      <td>1</td>\n",
       "      <td>3</td>\n",
       "      <td>Health Care</td>\n",
       "      <td>2005-04-05</td>\n",
       "      <td>7.7</td>\n",
       "      <td>5853</td>\n",
       "      <td>Michael leaves Dwight in charge of picking the...</td>\n",
       "    </tr>\n",
       "    <tr>\n",
       "      <th>3</th>\n",
       "      <td>1</td>\n",
       "      <td>4</td>\n",
       "      <td>The Alliance</td>\n",
       "      <td>2005-04-12</td>\n",
       "      <td>8.0</td>\n",
       "      <td>5665</td>\n",
       "      <td>Just for a laugh, Jim agrees to an alliance wi...</td>\n",
       "    </tr>\n",
       "    <tr>\n",
       "      <th>4</th>\n",
       "      <td>1</td>\n",
       "      <td>5</td>\n",
       "      <td>Basketball</td>\n",
       "      <td>2005-04-19</td>\n",
       "      <td>8.4</td>\n",
       "      <td>6290</td>\n",
       "      <td>Michael and his staff challenge the warehouse ...</td>\n",
       "    </tr>\n",
       "    <tr>\n",
       "      <th>...</th>\n",
       "      <td>...</td>\n",
       "      <td>...</td>\n",
       "      <td>...</td>\n",
       "      <td>...</td>\n",
       "      <td>...</td>\n",
       "      <td>...</td>\n",
       "      <td>...</td>\n",
       "    </tr>\n",
       "    <tr>\n",
       "      <th>183</th>\n",
       "      <td>9</td>\n",
       "      <td>19</td>\n",
       "      <td>Stairmageddon</td>\n",
       "      <td>2013-04-11</td>\n",
       "      <td>8.0</td>\n",
       "      <td>3004</td>\n",
       "      <td>Dwight shoots Stanley with a bull tranquilizer...</td>\n",
       "    </tr>\n",
       "    <tr>\n",
       "      <th>184</th>\n",
       "      <td>9</td>\n",
       "      <td>20</td>\n",
       "      <td>Paper Airplane</td>\n",
       "      <td>2013-04-25</td>\n",
       "      <td>8.0</td>\n",
       "      <td>3085</td>\n",
       "      <td>The employees hold a paper airplane competitio...</td>\n",
       "    </tr>\n",
       "    <tr>\n",
       "      <th>185</th>\n",
       "      <td>9</td>\n",
       "      <td>21</td>\n",
       "      <td>Livin' the Dream</td>\n",
       "      <td>2013-05-02</td>\n",
       "      <td>9.1</td>\n",
       "      <td>4520</td>\n",
       "      <td>Dwight becomes regional manager after Andy qui...</td>\n",
       "    </tr>\n",
       "    <tr>\n",
       "      <th>186</th>\n",
       "      <td>9</td>\n",
       "      <td>22</td>\n",
       "      <td>A.A.R.M.</td>\n",
       "      <td>2013-05-09</td>\n",
       "      <td>9.5</td>\n",
       "      <td>6024</td>\n",
       "      <td>Dwight prepares for a marriage proposal and hi...</td>\n",
       "    </tr>\n",
       "    <tr>\n",
       "      <th>187</th>\n",
       "      <td>9</td>\n",
       "      <td>23</td>\n",
       "      <td>Finale</td>\n",
       "      <td>2013-05-16</td>\n",
       "      <td>9.8</td>\n",
       "      <td>15477</td>\n",
       "      <td>One year later, Dunder Mifflin employees past ...</td>\n",
       "    </tr>\n",
       "  </tbody>\n",
       "</table>\n",
       "<p>188 rows × 7 columns</p>\n",
       "</div>"
      ],
      "text/plain": [
       "     season episode_number             title    airdate  rating  total_votes  \\\n",
       "0         1              1             Pilot 2005-03-24     7.4         7125   \n",
       "1         1              2     Diversity Day 2005-03-16     8.3         7020   \n",
       "2         1              3       Health Care 2005-04-05     7.7         5853   \n",
       "3         1              4      The Alliance 2005-04-12     8.0         5665   \n",
       "4         1              5        Basketball 2005-04-19     8.4         6290   \n",
       "..      ...            ...               ...        ...     ...          ...   \n",
       "183       9             19     Stairmageddon 2013-04-11     8.0         3004   \n",
       "184       9             20    Paper Airplane 2013-04-25     8.0         3085   \n",
       "185       9             21  Livin' the Dream 2013-05-02     9.1         4520   \n",
       "186       9             22          A.A.R.M. 2013-05-09     9.5         6024   \n",
       "187       9             23            Finale 2013-05-16     9.8        15477   \n",
       "\n",
       "                                                  desc  \n",
       "0    The premiere episode introduces the boss and s...  \n",
       "1    Michael's off color remark puts a sensitivity ...  \n",
       "2    Michael leaves Dwight in charge of picking the...  \n",
       "3    Just for a laugh, Jim agrees to an alliance wi...  \n",
       "4    Michael and his staff challenge the warehouse ...  \n",
       "..                                                 ...  \n",
       "183  Dwight shoots Stanley with a bull tranquilizer...  \n",
       "184  The employees hold a paper airplane competitio...  \n",
       "185  Dwight becomes regional manager after Andy qui...  \n",
       "186  Dwight prepares for a marriage proposal and hi...  \n",
       "187  One year later, Dunder Mifflin employees past ...  \n",
       "\n",
       "[188 rows x 7 columns]"
      ]
     },
     "execution_count": 9,
     "metadata": {},
     "output_type": "execute_result"
    }
   ],
   "source": [
    "# Change airdate from string to datetime\n",
    "theoffice_episodes['airdate'] = pd.to_datetime(theoffice_episodes.airdate)\n",
    "theoffice_episodes"
   ]
  },
  {
   "cell_type": "code",
   "execution_count": 10,
   "metadata": {},
   "outputs": [
    {
     "name": "stdout",
     "output_type": "stream",
     "text": [
      "<class 'pandas.core.frame.DataFrame'>\n",
      "RangeIndex: 188 entries, 0 to 187\n",
      "Data columns (total 7 columns):\n",
      " #   Column          Non-Null Count  Dtype         \n",
      "---  ------          --------------  -----         \n",
      " 0   season          188 non-null    int64         \n",
      " 1   episode_number  188 non-null    object        \n",
      " 2   title           188 non-null    object        \n",
      " 3   airdate         188 non-null    datetime64[ns]\n",
      " 4   rating          188 non-null    float64       \n",
      " 5   total_votes     188 non-null    int64         \n",
      " 6   desc            188 non-null    object        \n",
      "dtypes: datetime64[ns](1), float64(1), int64(2), object(3)\n",
      "memory usage: 10.4+ KB\n"
     ]
    }
   ],
   "source": [
    "theoffice_episodes.info()"
   ]
  },
  {
   "cell_type": "code",
   "execution_count": 11,
   "metadata": {},
   "outputs": [],
   "source": [
    "theoffice_episodes.to_csv('Data/TheOffice_Episodes_IMDb_Ratings.csv',index=False)"
   ]
  },
  {
   "cell_type": "markdown",
   "metadata": {},
   "source": [
    "## Ratings by season"
   ]
  },
  {
   "cell_type": "code",
   "execution_count": 12,
   "metadata": {},
   "outputs": [],
   "source": [
    "ratings_path = \"Data/TheOffice_Episodes_IMDb_Ratings.csv\"\n",
    "df_ratings = pd.read_csv(ratings_path)"
   ]
  },
  {
   "cell_type": "code",
   "execution_count": 13,
   "metadata": {},
   "outputs": [
    {
     "data": {
      "text/html": [
       "<div>\n",
       "<style scoped>\n",
       "    .dataframe tbody tr th:only-of-type {\n",
       "        vertical-align: middle;\n",
       "    }\n",
       "\n",
       "    .dataframe tbody tr th {\n",
       "        vertical-align: top;\n",
       "    }\n",
       "\n",
       "    .dataframe thead th {\n",
       "        text-align: right;\n",
       "    }\n",
       "</style>\n",
       "<table border=\"1\" class=\"dataframe\">\n",
       "  <thead>\n",
       "    <tr style=\"text-align: right;\">\n",
       "      <th></th>\n",
       "      <th>season</th>\n",
       "      <th>episode_number</th>\n",
       "      <th>title</th>\n",
       "      <th>airdate</th>\n",
       "      <th>rating</th>\n",
       "      <th>total_votes</th>\n",
       "      <th>desc</th>\n",
       "    </tr>\n",
       "  </thead>\n",
       "  <tbody>\n",
       "    <tr>\n",
       "      <th>0</th>\n",
       "      <td>1</td>\n",
       "      <td>1</td>\n",
       "      <td>Pilot</td>\n",
       "      <td>2005-03-24</td>\n",
       "      <td>7.4</td>\n",
       "      <td>7125</td>\n",
       "      <td>The premiere episode introduces the boss and s...</td>\n",
       "    </tr>\n",
       "    <tr>\n",
       "      <th>1</th>\n",
       "      <td>1</td>\n",
       "      <td>2</td>\n",
       "      <td>Diversity Day</td>\n",
       "      <td>2005-03-16</td>\n",
       "      <td>8.3</td>\n",
       "      <td>7020</td>\n",
       "      <td>Michael's off color remark puts a sensitivity ...</td>\n",
       "    </tr>\n",
       "    <tr>\n",
       "      <th>2</th>\n",
       "      <td>1</td>\n",
       "      <td>3</td>\n",
       "      <td>Health Care</td>\n",
       "      <td>2005-04-05</td>\n",
       "      <td>7.7</td>\n",
       "      <td>5853</td>\n",
       "      <td>Michael leaves Dwight in charge of picking the...</td>\n",
       "    </tr>\n",
       "    <tr>\n",
       "      <th>3</th>\n",
       "      <td>1</td>\n",
       "      <td>4</td>\n",
       "      <td>The Alliance</td>\n",
       "      <td>2005-04-12</td>\n",
       "      <td>8.0</td>\n",
       "      <td>5665</td>\n",
       "      <td>Just for a laugh, Jim agrees to an alliance wi...</td>\n",
       "    </tr>\n",
       "    <tr>\n",
       "      <th>4</th>\n",
       "      <td>1</td>\n",
       "      <td>5</td>\n",
       "      <td>Basketball</td>\n",
       "      <td>2005-04-19</td>\n",
       "      <td>8.4</td>\n",
       "      <td>6290</td>\n",
       "      <td>Michael and his staff challenge the warehouse ...</td>\n",
       "    </tr>\n",
       "    <tr>\n",
       "      <th>...</th>\n",
       "      <td>...</td>\n",
       "      <td>...</td>\n",
       "      <td>...</td>\n",
       "      <td>...</td>\n",
       "      <td>...</td>\n",
       "      <td>...</td>\n",
       "      <td>...</td>\n",
       "    </tr>\n",
       "    <tr>\n",
       "      <th>183</th>\n",
       "      <td>9</td>\n",
       "      <td>19</td>\n",
       "      <td>Stairmageddon</td>\n",
       "      <td>2013-04-11</td>\n",
       "      <td>8.0</td>\n",
       "      <td>3004</td>\n",
       "      <td>Dwight shoots Stanley with a bull tranquilizer...</td>\n",
       "    </tr>\n",
       "    <tr>\n",
       "      <th>184</th>\n",
       "      <td>9</td>\n",
       "      <td>20</td>\n",
       "      <td>Paper Airplane</td>\n",
       "      <td>2013-04-25</td>\n",
       "      <td>8.0</td>\n",
       "      <td>3085</td>\n",
       "      <td>The employees hold a paper airplane competitio...</td>\n",
       "    </tr>\n",
       "    <tr>\n",
       "      <th>185</th>\n",
       "      <td>9</td>\n",
       "      <td>21</td>\n",
       "      <td>Livin' the Dream</td>\n",
       "      <td>2013-05-02</td>\n",
       "      <td>9.1</td>\n",
       "      <td>4520</td>\n",
       "      <td>Dwight becomes regional manager after Andy qui...</td>\n",
       "    </tr>\n",
       "    <tr>\n",
       "      <th>186</th>\n",
       "      <td>9</td>\n",
       "      <td>22</td>\n",
       "      <td>A.A.R.M.</td>\n",
       "      <td>2013-05-09</td>\n",
       "      <td>9.5</td>\n",
       "      <td>6024</td>\n",
       "      <td>Dwight prepares for a marriage proposal and hi...</td>\n",
       "    </tr>\n",
       "    <tr>\n",
       "      <th>187</th>\n",
       "      <td>9</td>\n",
       "      <td>23</td>\n",
       "      <td>Finale</td>\n",
       "      <td>2013-05-16</td>\n",
       "      <td>9.8</td>\n",
       "      <td>15477</td>\n",
       "      <td>One year later, Dunder Mifflin employees past ...</td>\n",
       "    </tr>\n",
       "  </tbody>\n",
       "</table>\n",
       "<p>188 rows × 7 columns</p>\n",
       "</div>"
      ],
      "text/plain": [
       "     season  episode_number             title     airdate  rating  \\\n",
       "0         1               1             Pilot  2005-03-24     7.4   \n",
       "1         1               2     Diversity Day  2005-03-16     8.3   \n",
       "2         1               3       Health Care  2005-04-05     7.7   \n",
       "3         1               4      The Alliance  2005-04-12     8.0   \n",
       "4         1               5        Basketball  2005-04-19     8.4   \n",
       "..      ...             ...               ...         ...     ...   \n",
       "183       9              19     Stairmageddon  2013-04-11     8.0   \n",
       "184       9              20    Paper Airplane  2013-04-25     8.0   \n",
       "185       9              21  Livin' the Dream  2013-05-02     9.1   \n",
       "186       9              22          A.A.R.M.  2013-05-09     9.5   \n",
       "187       9              23            Finale  2013-05-16     9.8   \n",
       "\n",
       "     total_votes                                               desc  \n",
       "0           7125  The premiere episode introduces the boss and s...  \n",
       "1           7020  Michael's off color remark puts a sensitivity ...  \n",
       "2           5853  Michael leaves Dwight in charge of picking the...  \n",
       "3           5665  Just for a laugh, Jim agrees to an alliance wi...  \n",
       "4           6290  Michael and his staff challenge the warehouse ...  \n",
       "..           ...                                                ...  \n",
       "183         3004  Dwight shoots Stanley with a bull tranquilizer...  \n",
       "184         3085  The employees hold a paper airplane competitio...  \n",
       "185         4520  Dwight becomes regional manager after Andy qui...  \n",
       "186         6024  Dwight prepares for a marriage proposal and hi...  \n",
       "187        15477  One year later, Dunder Mifflin employees past ...  \n",
       "\n",
       "[188 rows x 7 columns]"
      ]
     },
     "execution_count": 13,
     "metadata": {},
     "output_type": "execute_result"
    }
   ],
   "source": [
    "df_ratings"
   ]
  },
  {
   "cell_type": "code",
   "execution_count": 14,
   "metadata": {},
   "outputs": [
    {
     "name": "stderr",
     "output_type": "stream",
     "text": [
      "/Users/natashaklingenbrunn/opt/anaconda3/envs/social_graphs/lib/python3.8/site-packages/seaborn/_decorators.py:36: FutureWarning: Pass the following variables as keyword args: x, y. From version 0.12, the only valid positional argument will be `data`, and passing other arguments without an explicit keyword will result in an error or misinterpretation.\n",
      "  warnings.warn(\n"
     ]
    },
    {
     "data": {
      "image/png": "[encoded data removed]",
      "text/plain": [
       "<Figure size 432x288 with 1 Axes>"
      ]
     },
     "metadata": {
      "needs_background": "light"
     },
     "output_type": "display_data"
    }
   ],
   "source": [
    "ax = sns.lineplot(df_ratings.season, df_ratings.rating)\n",
    "ax.set_ylabel('IMDB Rating', fontsize=14)\n",
    "ax.set_xlabel('Season', fontsize=14)\n",
    "ax.set_title(f\"Average Rating per Season\", fontsize=18)\n",
    "sns.set(rc={'figure.figsize':(20,6)})"
   ]
  },
  {
   "cell_type": "code",
   "execution_count": 15,
   "metadata": {},
   "outputs": [],
   "source": [
    "ax.get_figure().savefig('images/ratings_seasons.png')"
   ]
  },
  {
   "cell_type": "markdown",
   "metadata": {},
   "source": [
    "We overall see the rating climb in seasons 1 and 2, then peak in seasons 3. Season 4 slightly decreases in the averageratings, yet has a much higher variance. Thus the quality between episodes themselves varies much more in this season. We see the decrease in ratings continue until season 7, where it climbs again, before a dramatic decline in season 8."
   ]
  },
  {
   "cell_type": "markdown",
   "metadata": {},
   "source": [
    "## Ratings by episode"
   ]
  },
  {
   "cell_type": "code",
   "execution_count": 16,
   "metadata": {},
   "outputs": [],
   "source": [
    "# top 5 best and worst episodes\n",
    "\n",
    "worst = df_ratings.sort_values(\"rating\", axis=0)[:3]\n",
    "best = df_ratings.sort_values(\"rating\", axis=0)[-3:]"
   ]
  },
  {
   "cell_type": "code",
   "execution_count": 17,
   "metadata": {},
   "outputs": [],
   "source": [
    "notable_episodes = {}\n",
    "\n",
    "for index, row in worst.iterrows():\n",
    "    notable_episodes[(index, row[\"rating\"])] = row[\"title\"]\n",
    "\n",
    "for index, row in best.iterrows():\n",
    "    notable_episodes[(index, row[\"rating\"])] = row[\"title\"]"
   ]
  },
  {
   "cell_type": "code",
   "execution_count": 18,
   "metadata": {},
   "outputs": [
    {
     "data": {
      "text/plain": [
       "[]"
      ]
     },
     "execution_count": 18,
     "metadata": {},
     "output_type": "execute_result"
    },
    {
     "data": {
      "image/png": "[encoded data removed]",
      "text/plain": [
       "<Figure size 1440x432 with 1 Axes>"
      ]
     },
     "metadata": {},
     "output_type": "display_data"
    }
   ],
   "source": [
    "import seaborn as sns; \n",
    "\n",
    "sns.set(rc={'figure.figsize':(20,6)})\n",
    "season_change = [i+1 for i in range(len(df_ratings)-1) if df_ratings.season[i] != df_ratings.season[i+1]]\n",
    "palette = iter(sns.color_palette(\"Paired\", max(df_ratings.season)))\n",
    "\n",
    "# season 1\n",
    "plt.axvline(x=0.3, color = \"grey\", linestyle='dashed', label=\"Season 1\")\n",
    "\n",
    "# seasons 2 - 8\n",
    "for i, season in enumerate(season_change):\n",
    "    plt.axvline(x=season, color = \"grey\", linestyle='dashed', label= f\"Season {i+2}\")\n",
    "\n",
    "\n",
    "markers_on = [x for x,y in notable_episodes.keys()]\n",
    "\n",
    "ax = sns.lineplot(data = df_ratings.rating, marker = '.', markersize=20, markevery=markers_on, legend=None)\n",
    "ax.set_ylabel('IMDB Rating', fontsize=20)\n",
    "ax.set_xlabel('Episode', fontsize=20)\n",
    "ax.set_title(f\"Ratings per episode\", fontsize=25)\n",
    "ax.xaxis.grid(False)\n",
    "sns.set(rc={'figure.figsize':(10,5)})\n",
    "plt.xlim(0, len(df_ratings))\n",
    "plt.ylim(6, 10.3)\n",
    "\n",
    "for data, title in notable_episodes.items():\n",
    "    x = data[0] - len(title)/3\n",
    "    if data[1] < 8.0:\n",
    "        y = data[1] - 0.2\n",
    "    else:\n",
    "        y = data[1] + 0.1\n",
    "\n",
    "\n",
    "    plt.text(x, y, title, color = \"purple\", fontsize=16)\n",
    "\n",
    "ax.plot()"
   ]
  },
  {
   "cell_type": "code",
   "execution_count": 19,
   "metadata": {},
   "outputs": [],
   "source": [
    "ax.get_figure().savefig('images/ratings_episodes.png')"
   ]
  },
  {
   "cell_type": "code",
   "execution_count": 35,
   "metadata": {},
   "outputs": [
    {
     "data": {
      "application/vnd.plotly.v1+json": {
       "config": {
        "plotlyServerURL": "https://plotly.com"
       },
       "data": [
        {
         "hovertemplate": "<b>%{hovertext}</b><br><br>x=%{x}<br>rating=%{y}<extra></extra>",
         "hovertext": [
          "Pilot",
          "Diversity Day",
          "Health Care",
          "The Alliance",
          "Basketball",
          "Hot Girl",
          "The Dundies",
          "Sexual Harassment",
          "Office Olympics",
          "The Fire",
          "Halloween",
          "The Fight",
          "The Client",
          "Performance Review",
          "E-Mail Surveillance",
          "Christmas Party",
          "Booze Cruise",
          "The Injury",
          "The Secret",
          "The Carpet",
          "Boys and Girls",
          "Valentine's Day",
          "Dwight's Speech",
          "Take Your Daughter to Work Day",
          "Michael's Birthday",
          "Drug Testing",
          "Conflict Resolution",
          "Casino Night",
          "Gay Witch Hunt",
          "The Convention",
          "The Coup",
          "Grief Counseling",
          "Initiation",
          "Diwali",
          "Branch Closing",
          "The Merger",
          "The Convict",
          "A Benihana Christmas",
          "Back from Vacation",
          "Traveling Salesmen",
          "The Return",
          "Ben Franklin",
          "Phyllis' Wedding",
          "Business School",
          "Cocktails",
          "The Negotiation",
          "Safety Training",
          "Product Recall",
          "Women's Appreciation",
          "Beach Games",
          "The Job",
          "Fun Run",
          "Dunder Mifflin Infinity",
          "Launch Party",
          "Money",
          "Local Ad",
          "Branch Wars",
          "Survivor Man",
          "The Deposition",
          "Dinner Party",
          "Chair Model",
          "Night Out",
          "Did I Stutter?",
          "Job Fair",
          "Goodbye, Toby",
          "Weight Loss",
          "Business Ethics",
          "Baby Shower",
          "Crime Aid",
          "Employee Transfer",
          "Customer Survey",
          "Business Trip",
          "Frame Toby",
          "The Surplus",
          "Moroccan Christmas",
          "The Duel",
          "Prince Family Paper",
          "Stress Relief",
          "Lecture Circuit: Part 1",
          "Lecture Circuit: Part 2",
          "Blood Drive",
          "Golden Ticket",
          "New Boss",
          "Two Weeks",
          "Dream Team",
          "Michael Scott Paper Company",
          "Heavy Competition",
          "Broke",
          "Casual Friday",
          "Cafe Disco",
          "Company Picnic",
          "Gossip",
          "The Meeting",
          "The Promotion",
          "Niagara: Part 1",
          "Niagara: Part 2",
          "Mafia",
          "The Lover",
          "Koi Pond",
          "Double Date",
          "Murder",
          "Shareholder Meeting",
          "Scott's Tots",
          "Secret Santa",
          "The Banker",
          "Sabre",
          "Manager and Salesman",
          "The Delivery: Part 1",
          "The Delivery: Part 2",
          "St. Patrick's Day",
          "New Leads",
          "Happy Hour",
          "Secretary's Day",
          "Body Language",
          "The Cover-Up",
          "The Chump",
          "Whistleblower",
          "Nepotism",
          "Counseling",
          "Andy's Play",
          "Sex Ed",
          "The Sting",
          "Costume Contest",
          "Christening",
          "Viewing Party",
          "WUPHF.com",
          "China",
          "Classy Christmas",
          "Ultimatum",
          "The Seminar",
          "The Search",
          "PDA",
          "Threat Level Midnight",
          "Todd Packer",
          "Garage Sale",
          "Training Day",
          "Michael's Last Dundies",
          "Goodbye, Michael",
          "The Inner Circle",
          "Dwight K. Schrute, (Acting) Manager",
          "Search Committee",
          "The List",
          "The Incentive",
          "Lotto",
          "Garden Party",
          "Spooked",
          "Doomsday",
          "Pam's Replacement",
          "Gettysburg",
          "Mrs. California",
          "Christmas Wishes",
          "Trivia",
          "Pool Party",
          "Jury Duty",
          "Special Project",
          "Tallahassee",
          "After Hours",
          "Test the Store",
          "Last Day in Florida",
          "Get the Girl",
          "Welcome Party",
          "Angry Andy",
          "Fundraiser",
          "Turf War",
          "Free Family Portrait Studio",
          "New Guys",
          "Roy's Wedding",
          "Andy's Ancestry",
          "Work Bus",
          "Here Comes Treble",
          "The Boat",
          "The Whale",
          "The Target",
          "Dwight Christmas",
          "Lice",
          "Suit Warehouse",
          "Customer Loyalty",
          "Junior Salesman",
          "Vandalism",
          "Couples Discount",
          "Moving On",
          "The Farm",
          "Promos",
          "Stairmageddon",
          "Paper Airplane",
          "Livin' the Dream",
          "A.A.R.M.",
          "Finale"
         ],
         "legendgroup": "",
         "line": {
          "color": "#636efa",
          "dash": "solid"
         },
         "mode": "lines",
         "name": "",
         "orientation": "v",
         "showlegend": false,
         "type": "scatter",
         "x": [
          1,
          2,
          3,
          4,
          5,
          6,
          7,
          8,
          9,
          10,
          11,
          12,
          13,
          14,
          15,
          16,
          17,
          18,
          19,
          20,
          21,
          22,
          23,
          24,
          25,
          26,
          27,
          28,
          29,
          30,
          31,
          32,
          33,
          34,
          35,
          36,
          37,
          38,
          39,
          40,
          41,
          42,
          43,
          44,
          45,
          46,
          47,
          48,
          49,
          50,
          51,
          52,
          53,
          54,
          55,
          56,
          57,
          58,
          59,
          60,
          61,
          62,
          63,
          64,
          65,
          66,
          67,
          68,
          69,
          70,
          71,
          72,
          73,
          74,
          75,
          76,
          77,
          78,
          79,
          80,
          81,
          82,
          83,
          84,
          85,
          86,
          87,
          88,
          89,
          90,
          91,
          92,
          93,
          94,
          95,
          96,
          97,
          98,
          99,
          100,
          101,
          102,
          103,
          104,
          105,
          106,
          107,
          108,
          109,
          110,
          111,
          112,
          113,
          114,
          115,
          116,
          117,
          118,
          119,
          120,
          121,
          122,
          123,
          124,
          125,
          126,
          127,
          128,
          129,
          130,
          131,
          132,
          133,
          134,
          135,
          136,
          137,
          138,
          139,
          140,
          141,
          142,
          143,
          144,
          145,
          146,
          147,
          148,
          149,
          150,
          151,
          152,
          153,
          154,
          155,
          156,
          157,
          158,
          159,
          160,
          161,
          162,
          163,
          164,
          165,
          166,
          167,
          168,
          169,
          170,
          171,
          172,
          173,
          174,
          175,
          176,
          177,
          178,
          179,
          180,
          181,
          182,
          183,
          184,
          185,
          186,
          187,
          188
         ],
         "xaxis": "x",
         "y": [
          7.4,
          8.3,
          7.7,
          8,
          8.4,
          7.7,
          8.7,
          8.2,
          8.3,
          8.3,
          8.1,
          8.1,
          8.6,
          8.1,
          8.4,
          8.9,
          8.6,
          9.1,
          8.2,
          7.8,
          8.1,
          8.3,
          8.4,
          8.3,
          8.1,
          8.4,
          8.7,
          9.4,
          9,
          8.2,
          8.5,
          8,
          8.1,
          7.9,
          8.6,
          8.7,
          8.3,
          8.8,
          8.6,
          8.6,
          8.8,
          8,
          8.2,
          8.9,
          8.5,
          9,
          8.8,
          8.7,
          8.8,
          9.2,
          9.3,
          8.8,
          8.3,
          8.4,
          8.7,
          8.8,
          8.5,
          8.2,
          8.7,
          9.5,
          8,
          8.6,
          8.3,
          7.7,
          9.4,
          8.8,
          8.2,
          8,
          8.1,
          8,
          8.5,
          8.2,
          8.6,
          8.7,
          8.3,
          8.7,
          8,
          9.7,
          8.2,
          8.1,
          8,
          8.7,
          8.3,
          8.4,
          8.3,
          8.7,
          8.7,
          9.3,
          8.3,
          8.8,
          9,
          8.8,
          8.1,
          8,
          9.4,
          9.5,
          7.6,
          8.6,
          8.1,
          8.1,
          8.7,
          8.2,
          8.3,
          8.5,
          6.8,
          7.6,
          8,
          8.4,
          8.5,
          7.6,
          7.7,
          8.6,
          7.8,
          7.9,
          8.1,
          7.7,
          8,
          8.3,
          8.2,
          8.2,
          7.8,
          7.7,
          8.1,
          7.4,
          7.8,
          7.7,
          8.2,
          9,
          8.3,
          7.6,
          8.5,
          8.4,
          9.4,
          7.4,
          9.4,
          7.7,
          9,
          9.8,
          7.5,
          8.7,
          8.7,
          8.1,
          8.1,
          7.2,
          8.1,
          7.5,
          7.6,
          7.7,
          6.8,
          7.6,
          7.9,
          7.9,
          8,
          7.4,
          7.6,
          7.8,
          8.1,
          7.8,
          7.8,
          6.4,
          7,
          6.8,
          7,
          7.6,
          7.7,
          7.5,
          7.1,
          7.3,
          7.8,
          6.9,
          7.7,
          7.6,
          7.8,
          8.4,
          7.6,
          7.8,
          7.9,
          7.5,
          7.4,
          7.2,
          8,
          7.5,
          7.9,
          8,
          8,
          9.1,
          9.5,
          9.8
         ],
         "yaxis": "y"
        }
       ],
       "layout": {
        "autosize": false,
        "legend": {
         "tracegroupgap": 0
        },
        "margin": {
         "b": 1,
         "l": 1,
         "pad": 4,
         "r": 1,
         "t": 60
        },
        "template": {
         "data": {
          "bar": [
           {
            "error_x": {
             "color": "#2a3f5f"
            },
            "error_y": {
             "color": "#2a3f5f"
            },
            "marker": {
             "line": {
              "color": "#E5ECF6",
              "width": 0.5
             },
             "pattern": {
              "fillmode": "overlay",
              "size": 10,
              "solidity": 0.2
             }
            },
            "type": "bar"
           }
          ],
          "barpolar": [
           {
            "marker": {
             "line": {
              "color": "#E5ECF6",
              "width": 0.5
             },
             "pattern": {
              "fillmode": "overlay",
              "size": 10,
              "solidity": 0.2
             }
            },
            "type": "barpolar"
           }
          ],
          "carpet": [
           {
            "aaxis": {
             "endlinecolor": "#2a3f5f",
             "gridcolor": "white",
             "linecolor": "white",
             "minorgridcolor": "white",
             "startlinecolor": "#2a3f5f"
            },
            "baxis": {
             "endlinecolor": "#2a3f5f",
             "gridcolor": "white",
             "linecolor": "white",
             "minorgridcolor": "white",
             "startlinecolor": "#2a3f5f"
            },
            "type": "carpet"
           }
          ],
          "choropleth": [
           {
            "colorbar": {
             "outlinewidth": 0,
             "ticks": ""
            },
            "type": "choropleth"
           }
          ],
          "contour": [
           {
            "colorbar": {
             "outlinewidth": 0,
             "ticks": ""
            },
            "colorscale": [
             [
              0,
              "#0d0887"
             ],
             [
              0.1111111111111111,
              "#46039f"
             ],
             [
              0.2222222222222222,
              "#7201a8"
             ],
             [
              0.3333333333333333,
              "#9c179e"
             ],
             [
              0.4444444444444444,
              "#bd3786"
             ],
             [
              0.5555555555555556,
              "#d8576b"
             ],
             [
              0.6666666666666666,
              "#ed7953"
             ],
             [
              0.7777777777777778,
              "#fb9f3a"
             ],
             [
              0.8888888888888888,
              "#fdca26"
             ],
             [
              1,
              "#f0f921"
             ]
            ],
            "type": "contour"
           }
          ],
          "contourcarpet": [
           {
            "colorbar": {
             "outlinewidth": 0,
             "ticks": ""
            },
            "type": "contourcarpet"
           }
          ],
          "heatmap": [
           {
            "colorbar": {
             "outlinewidth": 0,
             "ticks": ""
            },
            "colorscale": [
             [
              0,
              "#0d0887"
             ],
             [
              0.1111111111111111,
              "#46039f"
             ],
             [
              0.2222222222222222,
              "#7201a8"
             ],
             [
              0.3333333333333333,
              "#9c179e"
             ],
             [
              0.4444444444444444,
              "#bd3786"
             ],
             [
              0.5555555555555556,
              "#d8576b"
             ],
             [
              0.6666666666666666,
              "#ed7953"
             ],
             [
              0.7777777777777778,
              "#fb9f3a"
             ],
             [
              0.8888888888888888,
              "#fdca26"
             ],
             [
              1,
              "#f0f921"
             ]
            ],
            "type": "heatmap"
           }
          ],
          "heatmapgl": [
           {
            "colorbar": {
             "outlinewidth": 0,
             "ticks": ""
            },
            "colorscale": [
             [
              0,
              "#0d0887"
             ],
             [
              0.1111111111111111,
              "#46039f"
             ],
             [
              0.2222222222222222,
              "#7201a8"
             ],
             [
              0.3333333333333333,
              "#9c179e"
             ],
             [
              0.4444444444444444,
              "#bd3786"
             ],
             [
              0.5555555555555556,
              "#d8576b"
             ],
             [
              0.6666666666666666,
              "#ed7953"
             ],
             [
              0.7777777777777778,
              "#fb9f3a"
             ],
             [
              0.8888888888888888,
              "#fdca26"
             ],
             [
              1,
              "#f0f921"
             ]
            ],
            "type": "heatmapgl"
           }
          ],
          "histogram": [
           {
            "marker": {
             "pattern": {
              "fillmode": "overlay",
              "size": 10,
              "solidity": 0.2
             }
            },
            "type": "histogram"
           }
          ],
          "histogram2d": [
           {
            "colorbar": {
             "outlinewidth": 0,
             "ticks": ""
            },
            "colorscale": [
             [
              0,
              "#0d0887"
             ],
             [
              0.1111111111111111,
              "#46039f"
             ],
             [
              0.2222222222222222,
              "#7201a8"
             ],
             [
              0.3333333333333333,
              "#9c179e"
             ],
             [
              0.4444444444444444,
              "#bd3786"
             ],
             [
              0.5555555555555556,
              "#d8576b"
             ],
             [
              0.6666666666666666,
              "#ed7953"
             ],
             [
              0.7777777777777778,
              "#fb9f3a"
             ],
             [
              0.8888888888888888,
              "#fdca26"
             ],
             [
              1,
              "#f0f921"
             ]
            ],
            "type": "histogram2d"
           }
          ],
          "histogram2dcontour": [
           {
            "colorbar": {
             "outlinewidth": 0,
             "ticks": ""
            },
            "colorscale": [
             [
              0,
              "#0d0887"
             ],
             [
              0.1111111111111111,
              "#46039f"
             ],
             [
              0.2222222222222222,
              "#7201a8"
             ],
             [
              0.3333333333333333,
              "#9c179e"
             ],
             [
              0.4444444444444444,
              "#bd3786"
             ],
             [
              0.5555555555555556,
              "#d8576b"
             ],
             [
              0.6666666666666666,
              "#ed7953"
             ],
             [
              0.7777777777777778,
              "#fb9f3a"
             ],
             [
              0.8888888888888888,
              "#fdca26"
             ],
             [
              1,
              "#f0f921"
             ]
            ],
            "type": "histogram2dcontour"
           }
          ],
          "mesh3d": [
           {
            "colorbar": {
             "outlinewidth": 0,
             "ticks": ""
            },
            "type": "mesh3d"
           }
          ],
          "parcoords": [
           {
            "line": {
             "colorbar": {
              "outlinewidth": 0,
              "ticks": ""
             }
            },
            "type": "parcoords"
           }
          ],
          "pie": [
           {
            "automargin": true,
            "type": "pie"
           }
          ],
          "scatter": [
           {
            "marker": {
             "colorbar": {
              "outlinewidth": 0,
              "ticks": ""
             }
            },
            "type": "scatter"
           }
          ],
          "scatter3d": [
           {
            "line": {
             "colorbar": {
              "outlinewidth": 0,
              "ticks": ""
             }
            },
            "marker": {
             "colorbar": {
              "outlinewidth": 0,
              "ticks": ""
             }
            },
            "type": "scatter3d"
           }
          ],
          "scattercarpet": [
           {
            "marker": {
             "colorbar": {
              "outlinewidth": 0,
              "ticks": ""
             }
            },
            "type": "scattercarpet"
           }
          ],
          "scattergeo": [
           {
            "marker": {
             "colorbar": {
              "outlinewidth": 0,
              "ticks": ""
             }
            },
            "type": "scattergeo"
           }
          ],
          "scattergl": [
           {
            "marker": {
             "colorbar": {
              "outlinewidth": 0,
              "ticks": ""
             }
            },
            "type": "scattergl"
           }
          ],
          "scattermapbox": [
           {
            "marker": {
             "colorbar": {
              "outlinewidth": 0,
              "ticks": ""
             }
            },
            "type": "scattermapbox"
           }
          ],
          "scatterpolar": [
           {
            "marker": {
             "colorbar": {
              "outlinewidth": 0,
              "ticks": ""
             }
            },
            "type": "scatterpolar"
           }
          ],
          "scatterpolargl": [
           {
            "marker": {
             "colorbar": {
              "outlinewidth": 0,
              "ticks": ""
             }
            },
            "type": "scatterpolargl"
           }
          ],
          "scatterternary": [
           {
            "marker": {
             "colorbar": {
              "outlinewidth": 0,
              "ticks": ""
             }
            },
            "type": "scatterternary"
           }
          ],
          "surface": [
           {
            "colorbar": {
             "outlinewidth": 0,
             "ticks": ""
            },
            "colorscale": [
             [
              0,
              "#0d0887"
             ],
             [
              0.1111111111111111,
              "#46039f"
             ],
             [
              0.2222222222222222,
              "#7201a8"
             ],
             [
              0.3333333333333333,
              "#9c179e"
             ],
             [
              0.4444444444444444,
              "#bd3786"
             ],
             [
              0.5555555555555556,
              "#d8576b"
             ],
             [
              0.6666666666666666,
              "#ed7953"
             ],
             [
              0.7777777777777778,
              "#fb9f3a"
             ],
             [
              0.8888888888888888,
              "#fdca26"
             ],
             [
              1,
              "#f0f921"
             ]
            ],
            "type": "surface"
           }
          ],
          "table": [
           {
            "cells": {
             "fill": {
              "color": "#EBF0F8"
             },
             "line": {
              "color": "white"
             }
            },
            "header": {
             "fill": {
              "color": "#C8D4E3"
             },
             "line": {
              "color": "white"
             }
            },
            "type": "table"
           }
          ]
         },
         "layout": {
          "annotationdefaults": {
           "arrowcolor": "#2a3f5f",
           "arrowhead": 0,
           "arrowwidth": 1
          },
          "autotypenumbers": "strict",
          "coloraxis": {
           "colorbar": {
            "outlinewidth": 0,
            "ticks": ""
           }
          },
          "colorscale": {
           "diverging": [
            [
             0,
             "#8e0152"
            ],
            [
             0.1,
             "#c51b7d"
            ],
            [
             0.2,
             "#de77ae"
            ],
            [
             0.3,
             "#f1b6da"
            ],
            [
             0.4,
             "#fde0ef"
            ],
            [
             0.5,
             "#f7f7f7"
            ],
            [
             0.6,
             "#e6f5d0"
            ],
            [
             0.7,
             "#b8e186"
            ],
            [
             0.8,
             "#7fbc41"
            ],
            [
             0.9,
             "#4d9221"
            ],
            [
             1,
             "#276419"
            ]
           ],
           "sequential": [
            [
             0,
             "#0d0887"
            ],
            [
             0.1111111111111111,
             "#46039f"
            ],
            [
             0.2222222222222222,
             "#7201a8"
            ],
            [
             0.3333333333333333,
             "#9c179e"
            ],
            [
             0.4444444444444444,
             "#bd3786"
            ],
            [
             0.5555555555555556,
             "#d8576b"
            ],
            [
             0.6666666666666666,
             "#ed7953"
            ],
            [
             0.7777777777777778,
             "#fb9f3a"
            ],
            [
             0.8888888888888888,
             "#fdca26"
            ],
            [
             1,
             "#f0f921"
            ]
           ],
           "sequentialminus": [
            [
             0,
             "#0d0887"
            ],
            [
             0.1111111111111111,
             "#46039f"
            ],
            [
             0.2222222222222222,
             "#7201a8"
            ],
            [
             0.3333333333333333,
             "#9c179e"
            ],
            [
             0.4444444444444444,
             "#bd3786"
            ],
            [
             0.5555555555555556,
             "#d8576b"
            ],
            [
             0.6666666666666666,
             "#ed7953"
            ],
            [
             0.7777777777777778,
             "#fb9f3a"
            ],
            [
             0.8888888888888888,
             "#fdca26"
            ],
            [
             1,
             "#f0f921"
            ]
           ]
          },
          "colorway": [
           "#636efa",
           "#EF553B",
           "#00cc96",
           "#ab63fa",
           "#FFA15A",
           "#19d3f3",
           "#FF6692",
           "#B6E880",
           "#FF97FF",
           "#FECB52"
          ],
          "font": {
           "color": "#2a3f5f"
          },
          "geo": {
           "bgcolor": "white",
           "lakecolor": "white",
           "landcolor": "#E5ECF6",
           "showlakes": true,
           "showland": true,
           "subunitcolor": "white"
          },
          "hoverlabel": {
           "align": "left"
          },
          "hovermode": "closest",
          "mapbox": {
           "style": "light"
          },
          "paper_bgcolor": "white",
          "plot_bgcolor": "#E5ECF6",
          "polar": {
           "angularaxis": {
            "gridcolor": "white",
            "linecolor": "white",
            "ticks": ""
           },
           "bgcolor": "#E5ECF6",
           "radialaxis": {
            "gridcolor": "white",
            "linecolor": "white",
            "ticks": ""
           }
          },
          "scene": {
           "xaxis": {
            "backgroundcolor": "#E5ECF6",
            "gridcolor": "white",
            "gridwidth": 2,
            "linecolor": "white",
            "showbackground": true,
            "ticks": "",
            "zerolinecolor": "white"
           },
           "yaxis": {
            "backgroundcolor": "#E5ECF6",
            "gridcolor": "white",
            "gridwidth": 2,
            "linecolor": "white",
            "showbackground": true,
            "ticks": "",
            "zerolinecolor": "white"
           },
           "zaxis": {
            "backgroundcolor": "#E5ECF6",
            "gridcolor": "white",
            "gridwidth": 2,
            "linecolor": "white",
            "showbackground": true,
            "ticks": "",
            "zerolinecolor": "white"
           }
          },
          "shapedefaults": {
           "line": {
            "color": "#2a3f5f"
           }
          },
          "ternary": {
           "aaxis": {
            "gridcolor": "white",
            "linecolor": "white",
            "ticks": ""
           },
           "baxis": {
            "gridcolor": "white",
            "linecolor": "white",
            "ticks": ""
           },
           "bgcolor": "#E5ECF6",
           "caxis": {
            "gridcolor": "white",
            "linecolor": "white",
            "ticks": ""
           }
          },
          "title": {
           "x": 0.05
          },
          "xaxis": {
           "automargin": true,
           "gridcolor": "white",
           "linecolor": "white",
           "ticks": "",
           "title": {
            "standoff": 15
           },
           "zerolinecolor": "white",
           "zerolinewidth": 2
          },
          "yaxis": {
           "automargin": true,
           "gridcolor": "white",
           "linecolor": "white",
           "ticks": "",
           "title": {
            "standoff": 15
           },
           "zerolinecolor": "white",
           "zerolinewidth": 2
          }
         }
        },
        "title": {
         "text": "Interactive Ratings per Episode"
        },
        "xaxis": {
         "anchor": "y",
         "domain": [
          0,
          1
         ],
         "title": {
          "text": "Episode"
         }
        },
        "yaxis": {
         "anchor": "x",
         "domain": [
          0,
          1
         ],
         "title": {
          "text": "Rating"
         }
        }
       }
      }
     },
     "metadata": {},
     "output_type": "display_data"
    }
   ],
   "source": [
    "import plotly.graph_objects as go\n",
    "import plotly \n",
    "import plotly.express as px\n",
    "\n",
    "fig = px.line(df_ratings, x=[i+1 for i in range(len(df_ratings))], y=\"rating\", hover_name=\"title\")\n",
    "\n",
    "fig.update_layout(\n",
    "    title= \"Interactive Ratings per Episode\",\n",
    "    xaxis_title=\"Episode\",\n",
    "    yaxis_title=\"Rating\",\n",
    "    autosize=False,\n",
    "    margin=dict(\n",
    "        l=1,#Adjust the margin of the figure\n",
    "        r=1,#Adjust the margin of the figure\n",
    "        b=1,#Adjust the margin of the figure\n",
    "        pad=4\n",
    "    ),\n",
    "    # paper_bgcolor=\"LightSteelBlue\",\n",
    ")\n",
    "\n",
    "fig.show()"
   ]
  },
  {
   "cell_type": "code",
   "execution_count": 36,
   "metadata": {},
   "outputs": [
    {
     "data": {
      "text/plain": [
       "'images/ratings_per_ep.html'"
      ]
     },
     "execution_count": 36,
     "metadata": {},
     "output_type": "execute_result"
    }
   ],
   "source": [
    "plotly.offline.plot(fig, filename='images/ratings_per_ep.html')"
   ]
  },
  {
   "cell_type": "markdown",
   "metadata": {},
   "source": [
    "## Top 5"
   ]
  },
  {
   "cell_type": "markdown",
   "metadata": {},
   "source": [
    "`Goodbye Michael`: This episode is the final episode to feature Michael Scott as the series's main character, and is regarded by many critics as the \"series finale\", as the series received much criticism for a decline in quality after Michael's departure. We can make the case that Michael was the true main character. After he leaves, we see that the ratings crumble and the show cannot recover."
   ]
  },
  {
   "cell_type": "markdown",
   "metadata": {},
   "source": [
    "In `Stress Relief`, Dwight stages a fire in the office to test the office's fire safety skills, but things go from bad to worse when Stanley suffers a heart attack, causing Michael to come up with ways to relieve stress in the office, including a comedic roast of himself. Meanwhile, Andy, Jim, and Pam watch an illegally downloaded movie at work guest-starring Jack Black, Jessica Alba and Cloris Leachman. [reference](https://en.wikipedia.org/wiki/Stress_Relief_(The_Office))\n",
    "\n",
    "The chaotic cold open scene becomes one of the top fan favorite scenes from the entire show.\n",
    "\n",
    "Both parts of `Stress Relief` originally aired together on February 1, 2009, immediately following NBC's broadcast of Super Bowl XLIII, and The Office writers and producers sought to attract newcomers to the series with the expected increase in viewership. It had 22.9 million viewers - making it one of the most viewed episode of The Office."
   ]
  },
  {
   "cell_type": "markdown",
   "metadata": {},
   "source": [
    "## Bottom 5"
   ]
  },
  {
   "cell_type": "markdown",
   "metadata": {},
   "source": [
    "`Get The Girl` featured Andy driving across the country to Tallahassee to track down Erin. He tries to serenade her in an extremely cringy scene and just does quite a few rather absurd things in an attempt to win Erin's heart. The Andy-Erin relationship received a lot of criticism by fans. [reference](https://screenrant.com/the-office-worst-episodes-imdb/) \n",
    "\n",
    "Even the actress portraying Erin, Ellie Kemper, never thought Andy and Erin were a good match. \"Is that terrible to say? I don’t know, I felt like Andy was a bit too childish. I don’t think he was ready to take care of Erin the way she needed to be. I think Erin was ready to take care of him, but I felt like it was uneven in that respect.\" [reference](https://www.cinemablend.com/television/2553336/why-the-offices-ellie-kemper-wasnt-exactly-a-fan-of-erin-and-andys-relationship)\n",
    "\n",
    "Finally, this episode introduces yet another manager that didn't catch viewers - Nellie Bertram."
   ]
  },
  {
   "cell_type": "markdown",
   "metadata": {},
   "source": [
    "We also want to discuss the biggest outlier in the ratings: In `The Banker`, an investment banker comes to the office to speak with Toby, since the company has recently been bought out. This episode is just montages of previous episodes, with very little new content."
   ]
  },
  {
   "cell_type": "markdown",
   "metadata": {},
   "source": []
  },
  {
   "cell_type": "markdown",
   "metadata": {},
   "source": []
  }
 ],
 "metadata": {
  "interpreter": {
   "hash": "d77c60bc2dad7e593b13ffd12a618704d8228a94bb6c4bcefaa567f1d1fdc886"
  },
  "kernelspec": {
   "display_name": "Python 3.8.11 64-bit ('social_graphs': conda)",
   "name": "python3"
  },
  "language_info": {
   "codemirror_mode": {
    "name": "ipython",
    "version": 3
   },
   "file_extension": ".py",
   "mimetype": "text/x-python",
   "name": "python",
   "nbconvert_exporter": "python",
   "pygments_lexer": "ipython3",
   "version": "3.8.11"
  }
 },
 "nbformat": 4,
 "nbformat_minor": 2
}
