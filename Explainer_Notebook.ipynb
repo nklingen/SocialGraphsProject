{
 "cells": [
  {
   "cell_type": "markdown",
   "metadata": {},
   "source": [
    "<p style=\"font-family:Muro;font-weight:bold;font-size:35px;margin:10px 0px 10px 0px;color:#ADD8E6\">Explainer notebook</p>"
   ]
  },
  {
   "cell_type": "markdown",
   "metadata": {},
   "source": [
    "**Important**\n",
    "\n",
    "In order to avoid a kilometric single notebook and for organizational purposes our work is divided into different notebooks, each one focussing on a different area. For this reason, we link the relevant notebooks at every section."
   ]
  },
  {
   "cell_type": "markdown",
   "metadata": {},
   "source": [
    "## 1. Motivation\n",
    "\n",
    "We will focus on analyzing The Office, which is an American mockumentary sitcom television series that depicts the everyday work lives of office employees in the Scranton, Pennsylvania, branch of the fictional Dunder Mifflin Paper Company [\\[1\\]](https://en.wikipedia.org/wiki/The_Office_(American_TV_series)). We decided to focus on this because we are huge fans and it's a dataset we are very familiar with.\n",
    "\n",
    "We want to a do an in-depth analysis of The Office to find some intresting insights and fun facts about the series and its characters. Given that the network is not big enough (less than 1000 characters) to find some intresting patterns in their social behaviour, our approach will heavily focus on a more qualitative analysis of the series. More specifically, we will do the following:\n",
    "\n",
    "- Model the network of characters and extract information such as who is related to who, which characters are more popular and some other basic statistics (number of links and nodes, distrbution, etc).\n",
    "- Find possible underlying communities and analyze what they have in common.\n",
    "- Extract the most descriptive words that characterize each character from their wiki pages and analyze the characters´ dialogue to explore any visible personality traits in their way of speaking, using wordclouds.\n",
    "- Determine which characters have the most lines throghout the series and see who interacts with who the most.\n",
    "- Analyze the sentiment of the series on average throughout the seasons and episodes and also for the individual characters, to determine who are the happiest, the saddest or who are the most emotionally stable/unstable. \n",
    "- Explore the sentiment developement for the main characters throughout the series as well as determine the episodes that had a bigger emotional charge for them and why.\n",
    "- Analyze the viewership and ratings of the series per episode and find possible explanations for the observed trends, while correlating them other parameters in the network.\n",
    "- Explore the different directors for each episode, see which ones got higher ratings and who directed the most episodes.\n",
    "\n",
    "For this, we use the following datasets:\n",
    "\n",
    "- *The Office Wiki*. For retrieving the characters and the links between each other, their category, the seasons they appear in and their biographical information.\n",
    "- *The Office script*. To retrieve the dialogue of the characters that will allow us to extract their sentiment, any characterisitc expresions and the interaction network.\n",
    "- *IMBd ratings*. To explore who the ratings are viewership varied throughout the episodes.\n",
    "- *List of directors per episode*. See which directors directed which episodes."
   ]
  },
  {
   "cell_type": "markdown",
   "metadata": {},
   "source": [
    "## 2. Basic stats\n",
    "\n",
    "To see more about the process of collecting, cleaning and pre-processing the data, please refer to the following notebook. Here we explain who we retrieve the data from The Office Wiki through their API and how we format it into a data frame with the relevant information for the network and how we clean the text from the pages which we will use for further analysis and retrieving the links. We also show what The Office script and IMBd ratings dataset look like and what information do we have.\n",
    "\n",
    "[DATA RETRIEVAL AND EXPLORATION](https://github.com/nklingen/SocialGraphsProject/blob/main/Data-retrieval-and-analysis.ipynb)\n",
    "\n",
    "Morover, we construct the network with the data retrieved in the previous step and analyze it in the following notebook.\n",
    "\n",
    "[NETWORK ANALYSIS](https://github.com/nklingen/SocialGraphsProject/blob/main/Network_analysis.ipynb)"
   ]
  },
  {
   "cell_type": "markdown",
   "metadata": {},
   "source": [
    "## 3. Tools, theory and analysis\n",
    "\n",
    "Talk about how you've worked with text, including regular expressions, unicode, etc.\n",
    "Describe which network science tools and data analysis strategies you've used, how those network science measures work, and why the tools you've chosen are right for the problem you're solving.\n",
    "How did you use the tools to understand your dataset?"
   ]
  },
  {
   "cell_type": "markdown",
   "metadata": {},
   "source": []
  },
  {
   "cell_type": "markdown",
   "metadata": {},
   "source": [
    "## 4. Discussion\n",
    "\n",
    "What went well?,\n",
    "What is still missing? What could be improved?, Why?\n",
    "\n",
    "GOOD\n",
    "\n",
    "In general, the insights that we gained from the raw data seemed to match our intuition and made sense with what we saw in the series. For example, the sentiment analysis and the communities were genereally very accurate, and it was easy to explain the results.\n",
    "\n",
    "BAD\n",
    "\n",
    "The fact that we had many different data sources made us spend lots of time on data cleaning and processing.\n",
    "\n",
    "The character's dialogue wasn't that insightful in terms of characterizing them, as many of the words were meaningless and even though we tried collocations, we didn't find charactestic phrases that we would have liked to see, such as Michael's \"That's what she said\" famous phrase. We also wanted to correlate aspects of the analysis with the viewership/ratings. We correlated the ratings with the sentiment for each episode. but there weren't any visible trends. One intresting thing that we wanted to analyze was what effect did for example Andy's screentime, since we could see that the episodes that heavily featured Andy weren't that popular, and we would have liked to actually show that if time allowed. "
   ]
  },
  {
   "cell_type": "markdown",
   "metadata": {},
   "source": [
    "## 5. Contributions\n",
    "You should write (just briefly) which group member was the main responsible for which elements of the assignment. (I want you guys to understand every part of the assignment, but usually there is someone who took lead role on certain portions of the work. That’s what you should explain)."
   ]
  },
  {
   "cell_type": "code",
   "execution_count": null,
   "metadata": {},
   "outputs": [],
   "source": []
  }
 ],
 "metadata": {
  "kernelspec": {
   "display_name": "Python 3",
   "language": "python",
   "name": "python3"
  },
  "language_info": {
   "codemirror_mode": {
    "name": "ipython",
    "version": 3
   },
   "file_extension": ".py",
   "mimetype": "text/x-python",
   "name": "python",
   "nbconvert_exporter": "python",
   "pygments_lexer": "ipython3",
   "version": "3.8.5"
  }
 },
 "nbformat": 4,
 "nbformat_minor": 4
}
